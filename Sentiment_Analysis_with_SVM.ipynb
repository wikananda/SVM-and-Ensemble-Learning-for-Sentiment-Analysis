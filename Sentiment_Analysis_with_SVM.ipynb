{
  "cells": [
    {
      "cell_type": "code",
      "execution_count": 1,
      "metadata": {
        "colab": {
          "base_uri": "https://localhost:8080/"
        },
        "id": "mlOg9BT3MKmT",
        "outputId": "220dcc24-7182-47c0-c58f-1cb3b82a538a"
      },
      "outputs": [
        {
          "name": "stdout",
          "output_type": "stream",
          "text": [
            "\u001b[?25l     \u001b[90m━━━━━━━━━━━━━━━━━━━━━━━━━━━━━━━━━━━━━━━━\u001b[0m \u001b[32m0.0/52.6 kB\u001b[0m \u001b[31m?\u001b[0m eta \u001b[36m-:--:--\u001b[0m\r\u001b[2K     \u001b[91m━━━━━━━━━━━━━━━━━━━━━━━━━━━━━━━━━━━━━━\u001b[0m\u001b[91m╸\u001b[0m\u001b[90m━\u001b[0m \u001b[32m51.2/52.6 kB\u001b[0m \u001b[31m1.6 MB/s\u001b[0m eta \u001b[36m0:00:01\u001b[0m\r\u001b[2K     \u001b[90m━━━━━━━━━━━━━━━━━━━━━━━━━━━━━━━━━━━━━━━━\u001b[0m \u001b[32m52.6/52.6 kB\u001b[0m \u001b[31m1.0 MB/s\u001b[0m eta \u001b[36m0:00:00\u001b[0m\n",
            "\u001b[?25h  Preparing metadata (setup.py) ... \u001b[?25l\u001b[?25hdone\n",
            "  Building wheel for afinn (setup.py) ... \u001b[?25l\u001b[?25hdone\n"
          ]
        }
      ],
      "source": [
        "!pip install -q -U afinn"
      ]
    },
    {
      "cell_type": "code",
      "execution_count": 2,
      "metadata": {
        "id": "sU6C7BUIMCm2"
      },
      "outputs": [],
      "source": [
        "import pandas as pd\n",
        "import numpy as np\n",
        "\n",
        "import nltk\n",
        "from nltk.tokenize import word_tokenize\n",
        "from nltk.corpus import stopwords\n",
        "from nltk.stem import WordNetLemmatizer\n",
        "from sklearn.preprocessing import LabelEncoder\n",
        "from collections import defaultdict\n",
        "from nltk.corpus import wordnet as wn\n",
        "from sklearn.feature_extraction.text import TfidfVectorizer\n",
        "from sklearn import model_selection, naive_bayes, svm\n",
        "from sklearn.metrics import accuracy_score\n",
        "\n",
        "import string\n",
        "import re\n",
        "import matplotlib.pyplot as plt"
      ]
    },
    {
      "cell_type": "code",
      "execution_count": 3,
      "metadata": {
        "colab": {
          "base_uri": "https://localhost:8080/"
        },
        "id": "e2HVEN6dMMlC",
        "outputId": "cc000fc5-450c-4225-e9cd-83e667ebb05f"
      },
      "outputs": [
        {
          "name": "stderr",
          "output_type": "stream",
          "text": [
            "[nltk_data] Downloading package punkt to /root/nltk_data...\n",
            "[nltk_data]   Unzipping tokenizers/punkt.zip.\n",
            "[nltk_data] Downloading package vader_lexicon to /root/nltk_data...\n",
            "[nltk_data] Downloading package stopwords to /root/nltk_data...\n",
            "[nltk_data]   Unzipping corpora/stopwords.zip.\n"
          ]
        }
      ],
      "source": [
        "nltk.download('punkt')\n",
        "nltk.download('vader_lexicon')\n",
        "nltk.download('stopwords')\n",
        "stop_words = stopwords.words('english')\n",
        "lemmatizer = WordNetLemmatizer()"
      ]
    },
    {
      "cell_type": "code",
      "execution_count": 4,
      "metadata": {
        "colab": {
          "base_uri": "https://localhost:8080/"
        },
        "id": "Ns4zQnxJM4wY",
        "outputId": "cb10de06-f389-4e96-ff4f-49ef8e759229"
      },
      "outputs": [
        {
          "name": "stdout",
          "output_type": "stream",
          "text": [
            "Mounted at /content/drive\n"
          ]
        }
      ],
      "source": [
        "from google.colab import drive\n",
        "drive.mount('/content/drive')"
      ]
    },
    {
      "cell_type": "code",
      "execution_count": 5,
      "metadata": {
        "colab": {
          "base_uri": "https://localhost:8080/",
          "height": 36
        },
        "id": "D2S3GUgANvgw",
        "outputId": "f6b89721-b736-4e48-9d43-c0370fe1c2c0"
      },
      "outputs": [
        {
          "data": {
            "application/vnd.google.colaboratory.intrinsic+json": {
              "type": "string"
            },
            "text/plain": [
              "'/content/drive/MyDrive/Text Mining'"
            ]
          },
          "execution_count": 5,
          "metadata": {},
          "output_type": "execute_result"
        }
      ],
      "source": [
        "import os\n",
        "os.chdir('/content/drive/MyDrive/Text Mining')\n",
        "os.getcwd()"
      ]
    },
    {
      "cell_type": "code",
      "execution_count": 6,
      "metadata": {
        "id": "xM-7iar6OUcb"
      },
      "outputs": [],
      "source": [
        "np.random.seed(42)"
      ]
    },
    {
      "cell_type": "markdown",
      "metadata": {
        "id": "jXXY_-w_Ny71"
      },
      "source": [
        "# Prepare dataset"
      ]
    },
    {
      "cell_type": "code",
      "execution_count": 7,
      "metadata": {
        "colab": {
          "base_uri": "https://localhost:8080/"
        },
        "id": "pucRHiMUN1XE",
        "outputId": "6dcd9cd0-c0fa-42d2-fdce-0985d8b4de3f"
      },
      "outputs": [
        {
          "name": "stdout",
          "output_type": "stream",
          "text": [
            "train head:  (1500, 2)\n",
            "                                     reviews_content  category\n",
            "0  airplane ! is considered among many to be the ...  positive\n",
            "1  you've got to love disney . \\nno matter what t...  positive\n",
            "2   \" the tailor of panama \" is a different kind ...  positive\n",
            "3  the characters in jonathan lynn's \" the whole ...  negative\n",
            "4  vikings v . bears ? \\nno , this isn't the line...  negative\n",
            "\n",
            "\n",
            "test head:  (500, 1)\n",
            "                                     reviews_content\n",
            "0  towards the middle of \" the sweet hereafter , ...\n",
            "1  wild things is a suspenseful thriller starring...\n",
            "2  hong kong cinema has been going through a bad ...\n",
            "3  while alex browning ( devon sawa ) waits at jf...\n",
            "4  sometimes i find 19th century british costume ...\n"
          ]
        }
      ],
      "source": [
        "train = pd.read_csv('dataset/train.csv')\n",
        "test = pd.read_csv('dataset/test.csv')\n",
        "\n",
        "# test2 = pd.read_csv('dataset/IMDB Dataset.csv', header=0, names=['reviews_content', 'category'])\n",
        "\n",
        "# test2 = pd.read_csv('twitter_validation.csv', header=None)\n",
        "# test2 = test2.iloc[1:, 2:]\n",
        "# test2 = test2.rename(columns={2: 'category', 3: 'reviews_content'})\n",
        "\n",
        "print('train head: ', train.shape)\n",
        "print(train.head())\n",
        "print('\\n\\ntest head: ', test.shape)\n",
        "print(test.head())\n",
        "# print('\\n\\ntest2 head: ', test2.shape)\n",
        "# print(test2.head())"
      ]
    },
    {
      "cell_type": "markdown",
      "metadata": {
        "id": "7r1NG7yTMxD9"
      },
      "source": [
        "# EDA"
      ]
    },
    {
      "cell_type": "code",
      "execution_count": 45,
      "metadata": {
        "id": "P2tQqUDsPYJf"
      },
      "outputs": [],
      "source": [
        "positive_reviews = train[train['category'] == 1]\n",
        "negative_reviews = train[train['category'] == 0]"
      ]
    },
    {
      "cell_type": "code",
      "execution_count": 88,
      "metadata": {
        "colab": {
          "base_uri": "https://localhost:8080/",
          "height": 472
        },
        "id": "XUYyayaBWQUf",
        "outputId": "49a69cb0-28c6-4355-ec25-e67d01fe9a3f"
      },
      "outputs": [
        {
          "data": {
            "image/png": "[encoded data removed]",
            "text/plain": [
              "<Figure size 640x480 with 1 Axes>"
            ]
          },
          "metadata": {},
          "output_type": "display_data"
        }
      ],
      "source": [
        "import matplotlib.pyplot as plt\n",
        "\n",
        "# Assuming you have a DataFrame 'train' with a 'category' column (0 for negative, 1 for positive)\n",
        "labels = ['Negative', 'Positive']\n",
        "\n",
        "# Count the number of positive and negative reviews\n",
        "negative_count = len(train[train['category'] == 0])\n",
        "positive_count = len(train[train['category'] == 1])\n",
        "\n",
        "# Set the x-axis positions for the bars\n",
        "bar_positions = [0, 1]\n",
        "\n",
        "# Plot the bars\n",
        "plt.bar(bar_positions, [negative_count, positive_count], align='center', color=['red', 'blue'])\n",
        "\n",
        "# Add labels and title\n",
        "plt.xticks(bar_positions, labels)\n",
        "plt.xlabel('Review Sentiment')\n",
        "plt.ylabel('Count')\n",
        "plt.title('Distribution of Positive and Negative Reviews')\n",
        "\n",
        "# Display the plot\n",
        "plt.show()"
      ]
    },
    {
      "cell_type": "code",
      "execution_count": 49,
      "metadata": {
        "colab": {
          "base_uri": "https://localhost:8080/"
        },
        "id": "frFnRaQWRpf8",
        "outputId": "d4129ac8-3b4e-48fa-c9e4-411ee5e69ba1"
      },
      "outputs": [
        {
          "name": "stdout",
          "output_type": "stream",
          "text": [
            "(752, 7)\n",
            "(748, 7)\n"
          ]
        }
      ],
      "source": [
        "print(positive_reviews.shape)\n",
        "print(negative_reviews.shape)"
      ]
    },
    {
      "cell_type": "code",
      "execution_count": 40,
      "metadata": {
        "colab": {
          "base_uri": "https://localhost:8080/",
          "height": 472
        },
        "id": "YTLIAeQaMx0S",
        "outputId": "e1249cba-a749-467e-b704-d75801281dcb"
      },
      "outputs": [
        {
          "data": {
            "image/png": "[encoded data removed]",
            "text/plain": [
              "<Figure size 640x480 with 1 Axes>"
            ]
          },
          "metadata": {},
          "output_type": "display_data"
        }
      ],
      "source": [
        "train['reviews_content'].str.len().hist()\n",
        "plt.xlabel('Character Length')\n",
        "plt.ylabel('Frequency')\n",
        "plt.title('Character length of reviews in train set')\n",
        "plt.grid(None)\n",
        "plt.show()"
      ]
    },
    {
      "cell_type": "code",
      "execution_count": 46,
      "metadata": {
        "colab": {
          "base_uri": "https://localhost:8080/",
          "height": 927
        },
        "id": "YXDs6adtPYw0",
        "outputId": "8cf1333c-21cc-4da8-ae1b-37b751de5346"
      },
      "outputs": [
        {
          "data": {
            "image/png": "[encoded data removed]",
            "text/plain": [
              "<Figure size 640x480 with 1 Axes>"
            ]
          },
          "metadata": {},
          "output_type": "display_data"
        },
        {
          "data": {
            "image/png": "[encoded data removed]",
            "text/plain": [
              "<Figure size 640x480 with 1 Axes>"
            ]
          },
          "metadata": {},
          "output_type": "display_data"
        }
      ],
      "source": [
        "  # plt.figure(figsize=(10, 6))\n",
        "plt.hist(positive_reviews['reviews_content'].str.len(), color='blue', alpha=0.7)\n",
        "plt.xlabel('Character Length')\n",
        "plt.ylabel('Frequency')\n",
        "plt.title('Positive Reviews Character Length')\n",
        "plt.show()\n",
        "\n",
        "# plt.figure(figsize=(10, 6))\n",
        "plt.hist(negative_reviews['reviews_content'].str.len(), color='red', alpha=0.7)\n",
        "plt.xlabel('Character Length')\n",
        "plt.ylabel('Frequency')\n",
        "plt.title('Negative Reviews Character Length')\n",
        "plt.show()"
      ]
    },
    {
      "cell_type": "code",
      "execution_count": 91,
      "metadata": {
        "colab": {
          "base_uri": "https://localhost:8080/",
          "height": 472
        },
        "id": "BjlFVQgUXnLM",
        "outputId": "8b102665-91ff-4c87-a599-fca3022a10d0"
      },
      "outputs": [
        {
          "data": {
            "image/png": "[encoded data removed]",
            "text/plain": [
              "<Figure size 640x480 with 1 Axes>"
            ]
          },
          "metadata": {},
          "output_type": "display_data"
        }
      ],
      "source": [
        "train['reviews_content'].str.split().map(lambda x: len(x)).hist()\n",
        "plt.xlabel('# of Words')\n",
        "plt.ylabel('Frequency')\n",
        "plt.title('# of Words in reviews in train set')\n",
        "plt.grid(None)\n",
        "plt.show()"
      ]
    },
    {
      "cell_type": "code",
      "execution_count": 94,
      "metadata": {
        "colab": {
          "base_uri": "https://localhost:8080/",
          "height": 927
        },
        "id": "ts_3jBsGXvuo",
        "outputId": "d3ccf548-1e13-42cc-e07c-94d49cd24615"
      },
      "outputs": [
        {
          "data": {
            "image/png": "[encoded data removed]",
            "text/plain": [
              "<Figure size 640x480 with 1 Axes>"
            ]
          },
          "metadata": {},
          "output_type": "display_data"
        },
        {
          "data": {
            "image/png": "[encoded data removed]",
            "text/plain": [
              "<Figure size 640x480 with 1 Axes>"
            ]
          },
          "metadata": {},
          "output_type": "display_data"
        }
      ],
      "source": [
        "# plt.figure(figsize=(10, 6))\n",
        "positive_reviews['reviews_content'].str.split().map(lambda x: len(x)).hist(color='blue', alpha=0.7)\n",
        "plt.xlabel('# of Words')\n",
        "plt.ylabel('Frequency')\n",
        "plt.title('Positive Reviews # of Words')\n",
        "plt.grid(None)\n",
        "plt.show()\n",
        "\n",
        "# plt.figure(figsize=(10, 6))\n",
        "negative_reviews['reviews_content'].str.split().map(lambda x: len(x)).hist(color='red', alpha=0.7)\n",
        "plt.xlabel('# of Words')\n",
        "plt.ylabel('Frequency')\n",
        "plt.title('Negative Reviews # of Words')\n",
        "plt.grid(None)\n",
        "plt.show()"
      ]
    },
    {
      "cell_type": "markdown",
      "metadata": {
        "id": "P9P6LWAcOkVf"
      },
      "source": [
        "## Preprocessing"
      ]
    },
    {
      "cell_type": "code",
      "execution_count": 9,
      "metadata": {
        "colab": {
          "base_uri": "https://localhost:8080/"
        },
        "id": "DTlbAdPQOjXa",
        "outputId": "19586f74-218d-49c8-8019-3a27e3a56f8c"
      },
      "outputs": [
        {
          "name": "stdout",
          "output_type": "stream",
          "text": [
            "train shape: \n",
            "(1500, 2)\n",
            "\n",
            "test shape: \n",
            "(500, 1)\n"
          ]
        }
      ],
      "source": [
        "# Remove blank if any\n",
        "train['reviews_content'].dropna(inplace=True)\n",
        "test['reviews_content'].dropna(inplace=True)\n",
        "\n",
        "print('train shape: ')\n",
        "print(train.shape)\n",
        "print('\\ntest shape: ')\n",
        "print(test.shape)"
      ]
    },
    {
      "cell_type": "code",
      "execution_count": 10,
      "metadata": {
        "id": "o_sZsss7MOIQ"
      },
      "outputs": [],
      "source": [
        "with open(\"dataset/EMOTICONS.txt\") as f:\n",
        "  content = f.read()\n",
        "\n",
        "exec(content)\n",
        "\n",
        "with open(\"dataset/EMO_UNICODE.txt\") as f:\n",
        "  content = f.read()\n",
        "\n",
        "exec(content)\n",
        "\n",
        "with open(\"dataset/chat_words_str.txt\") as f:\n",
        "  content = f.read()\n",
        "\n",
        "exec(content)"
      ]
    },
    {
      "cell_type": "code",
      "execution_count": 130,
      "metadata": {
        "id": "B93_0GJiP3kT"
      },
      "outputs": [],
      "source": [
        "def convert_emoticons(text):\n",
        "  for emot in EMOTICONS:\n",
        "    text = re.sub(u'(' +emot+ ')', \"_\".join(EMOTICONS[emot].replace(\",\",\"\").split()), text)\n",
        "  return text\n",
        "\n",
        "def convert_emojis(text):\n",
        "  for emot in EMO_UNICODE:\n",
        "    text = re.sub(u'(' +emot+ ')', \"_\".join(EMO_UNICODE[emot].replace(\",\",\"\").replace(\":\",\"\").split()), text)\n",
        "  return text\n",
        "\n",
        "chat_words_map_dict = {}\n",
        "chat_words_list = []\n",
        "for line in chat_words_str.split(\"\\n\"):\n",
        "    if line != \"\":\n",
        "        cw = line.split(\"=\")[0]\n",
        "        cw_expanded = line.split(\"=\")[1]\n",
        "        chat_words_list.append(cw)\n",
        "        chat_words_map_dict[cw] = cw_expanded\n",
        "chat_words_list = set(chat_words_list)\n",
        "\n",
        "def chat_words_conversion(text):\n",
        "    new_text = []\n",
        "    for w in text.split():\n",
        "        if w.upper() in chat_words_list:\n",
        "            new_text.append(chat_words_map_dict[w.upper()])\n",
        "        else:\n",
        "            new_text.append(w)\n",
        "    return \" \".join(new_text)\n",
        "\n",
        "STOPWORDS = set(stopwords.words('english'))\n",
        "\n",
        "def listbased_stopwords(sentence):\n",
        "\n",
        "  filtered_text = [word for word in str(sentence).split() if word not in STOPWORDS]\n",
        "\n",
        "  result_length = len(filtered_text)\n",
        "  filtered_text = \" \".join(filtered_text)\n",
        "\n",
        "  return filtered_text\n",
        "\n",
        "def remove_html_tags(text):\n",
        "    clean = re.compile('<.*?>')\n",
        "    return re.sub(clean, '', text)\n",
        "\n",
        "def preprocess(text: str) -> list:\n",
        "    corpus = str(text).lower() # lowercase\n",
        "\n",
        "    corpus = convert_emoticons(corpus)\n",
        "    corpus = convert_emojis(corpus)\n",
        "    corpus = chat_words_conversion(corpus)\n",
        "    corpus = listbased_stopwords(corpus) # stopwords\n",
        "    corpus = remove_html_tags(corpus) # remove html tag\n",
        "    corpus = corpus.replace('\\n', '').replace('\\t', '') # replace \\n \\t\n",
        "\n",
        "    # corpus = re.sub('[^a-zA-Z]+',' ', corpus).strip() # remove special characters\n",
        "    # tokens = word_tokenize(corpus) # tokenize\n",
        "    # words = [token for token in tokens if token not in stop_words] # remove stopwords\n",
        "    # words = [lemmatizer.lemmatize(word) for word in words] # lemmatize\n",
        "    return corpus"
      ]
    },
    {
      "cell_type": "code",
      "execution_count": 131,
      "metadata": {
        "id": "wwl2JgStRFWE"
      },
      "outputs": [],
      "source": [
        "train['preprocessed'] = train['reviews_content'].apply(preprocess)\n",
        "test['preprocessed'] = test['reviews_content'].apply(preprocess)\n",
        "\n",
        "train['preprocessed'] = train['preprocessed'].apply(remove_html_tags)\n",
        "test['preprocessed'] = test['preprocessed'].apply(remove_html_tags)\n",
        "\n",
        "train['preprocessed'] = train['preprocessed'].str.replace('\\n', '').str.replace('\\t', '')\n",
        "test['preprocessed'] = test['preprocessed'].str.replace('\\n', '').str.replace('\\t', '')"
      ]
    },
    {
      "cell_type": "markdown",
      "metadata": {
        "id": "0gLkYsjPSnR9"
      },
      "source": [
        "# Feature engineering"
      ]
    },
    {
      "cell_type": "markdown",
      "metadata": {
        "id": "JHfvjnlSSyEK"
      },
      "source": [
        "## Count positive and negative words"
      ]
    },
    {
      "cell_type": "code",
      "execution_count": 132,
      "metadata": {
        "id": "W6rRqMilSj8I"
      },
      "outputs": [],
      "source": [
        "from afinn import Afinn\n",
        "\n",
        "afinn = Afinn()"
      ]
    },
    {
      "cell_type": "code",
      "execution_count": 133,
      "metadata": {
        "id": "9CHISocxS3yH"
      },
      "outputs": [],
      "source": [
        "def count_sentiment(text):\n",
        "    tokens = text.split()  # Tokenize the text\n",
        "    positive_words = 0\n",
        "    negative_words = 0\n",
        "    for token in tokens:\n",
        "        sentiment_score = afinn.score(token)\n",
        "        if sentiment_score > 0:\n",
        "            positive_words += 1\n",
        "        elif sentiment_score < 0:\n",
        "            negative_words += 1\n",
        "    return positive_words, negative_words"
      ]
    },
    {
      "cell_type": "code",
      "execution_count": 134,
      "metadata": {
        "id": "XkHP7Q70S5_m"
      },
      "outputs": [],
      "source": [
        "train['pos_count'], train['neg_count'] = zip(*train['reviews_content'].apply(count_sentiment))\n",
        "test['pos_count'], test['neg_count'] = zip(*test['reviews_content'].apply(count_sentiment))"
      ]
    },
    {
      "cell_type": "code",
      "execution_count": 135,
      "metadata": {
        "colab": {
          "base_uri": "https://localhost:8080/",
          "height": 206
        },
        "id": "h61CISsXTRtf",
        "outputId": "976ce173-2a9b-4949-a39f-c16382291bbb"
      },
      "outputs": [
        {
          "data": {
            "application/vnd.google.colaboratory.intrinsic+json": {
              "summary": "{\n  \"name\": \"train\",\n  \"rows\": 1500,\n  \"fields\": [\n    {\n      \"column\": \"reviews_content\",\n      \"properties\": {\n        \"dtype\": \"string\",\n        \"num_unique_values\": 1500,\n        \"samples\": [\n          \"ok , let's get one thing straight right away : maximum risk is no battleship potemkin ( although it does have some russians in it ! ) , but it's not too bad , really . \\nit's the new film from ringo lam , the latest hong kong filmmaker to defect to hollywood , and stars that minor league schwartzeneggar from belgium , jean-claude van damme ( who , you will recall , also starred in john woo's maiden hollywood effort , hard target ) . \\nin lam's film , van damme plays alain moreau , a french cop ( at least his accent makes more sense here than it did in hard target ) who discovers that he was separated shortly after birth from a twin brother who was adopted by russians . \\nthese russians defected to the united states and moved into a black neighbourhood in new york ( where , i suppose , they thought they wouldn't be noticed ) . \\nthis brother , mikhail suverov ( played in his few scenes by . . . well , \\nyou know ) , becomes deeply involved in the russian mafia and the fbi ( almost the same thing , i guess ) , and is killed in france ( in the movie , things happen so fast that you don't have too much time to think about how weird this all is ) . \\nmoreau does what any good surviving twin brother would do and goes to new york to find out why mikhail was killed , and why everyone in france who knows anything about him is also being killed ( we wonder the same thing ; i still do ) . \\nin little odessa , he meets mikhail's girlfriend , alex ( natasha henstridge , last seen in species ) , who helps him solve the mystery and adds immeasurably to the mise-en-scene ( she has very nice breasts , and we get to seen them briefly in this movie ; it was rated r in the us but is pg here , so they must have seen more of her breasts than we do ) . \\nthis film lacks the gloss and high production values of such other action movies as broken arrow , the fugitive , hard target , or anything starring arnold , but that works to its benefit , i think . \\nafter all , one thing that's been missing from woo's hollywood films is that certain hong kong funkiness that we all know and love ( well , some of us do ) . \\nmovies like this shouldn't be too pretentious , and that is part of the problem with some of these other films : they try to be too \\\" big \\\" in terms of special effects and sheer spectacle . \\nmaximum risk has its share of car chases and explosions , but they don't overwhelm the movie or detract our attention from the narrative ( not too much , anyway ) . \\nthe emphasis throughout is on the characters and their interactions ( even if , at times , they don't make a hell of a lot of sense ) . \\nin fact , one of the more interesting aspects of the film is a minor character , a rather overeager new york cabbie ( frank van keeken from tv's \\\" kids in the hall \\\" ) , who begins as something of a joke but becomes an important part of the story . \\nunfortunately , by the time we have come to really get interested in him , he . . . well , \\nyou'll see . \\nthe movie also features some set pieces of the type that we have come to expect from lam and his hong kong compatriots . \\none is a fight in a russian sauna , with lots of sweaty , muscular male flesh ( this one will appeal to certain parts of the audience more than others ) , bullets in heads , and vodka . \\nanother , my personal favorite , is a fight in a meat packing house , featuring pig carcasses and a chainsaw . \\nand even the predictable car chases are more hong kong than hollywood , as they trash those quaint french cafes , vegetable carts , and , well , french people that , we all know in our hearts , deserve trashing just for being so damn quaint . \\nof course , the movie does have its share of silliness . \\nfor example , while beating the crap out of an obnoxious russian thug who obviously deserves what he's getting , alain stops long enough to look at his own reflection in the cracked mirror with which he has been whacking the guy on the head . \\nin an unnecessarily dramatic moment , he apparently is shocked at what he sees , at what he has become . \\nbut what has he become ? \\na tough cop who beats the hell out of a guy who tried to kill him ? \\ndoesn't sound too unreasonable to me , considering the genre . \\nbut let's face it , any time van damme tries to be dramatic , he looks silly . \\nso maximum risk is a little different from most other action films . \\nwhile watching it , i was surprised , and a little disappointed , in the relative lack of pyrotechnics . \\nbut watching some of these other action films is sort of like experiencing a sugar rush ; after the initial excitement , there's not much left . \\nalthough it's short on spectacle , lam's film leaves a better and more lasting impression , i think . \\ni'm more impressed by it now than i was while watching it , and to me , that's a good sign . \\ngo see maximum risk , but don't expect a typical hollywood action movie ; expect a sort of funky hong kong-hollywood action movie . \\nthe flying inkpot rating system : * wait for the tv2 broadcast . \\n * * a little creaky , but still better than staying at home with gotcha ! \\n * * * pretty good , bring a friend . \\n * * * * amazing , potent stuff . \\n * * * * * perfection . \\nsee it twice . \\ndr t . white teaches film at the english language and literature department of the national university of singapore , but we don't hold this against him . \\n\",\n          \"midway through \\\" anaconda \\\" , documentary filmmaker terri flores ( jennifer lopez ) turns to a co-worker and says \\\" i thought this movie would be my first big break . \\ninstead , it's turned into a disaster . \\\" \\ntruer words have never been spoken . \\n \\\" anaconda \\\" is a monster movie with a lousy monster . \\nit's a suspense film that is utterly predictable . \\nit's a mess the film does manage to drum up some scares , but only in the most elementary way , like a jack-in-the-box . \\nas you turn the crank , you're totally aware that the damn clown is going to pop up , but somehow it's still mildly startling when it happens . \\nthe main difference between the giant snake in \\\" anaconda \\\" and the clown in a jack-in-the-box is that the clown is more realistic . \\n \\\" anaconda \\\" boasts some of the worst special effects to appear onscreen in years . \\nanimatronic shots of the snake look as phony as any of those cringe- inducing robots you've endured at disney world . \\nbut it's the computer animated scenes that truly expand the meaning of the word lame . \\nin one shot , a character tries to flee from the monster by diving from a tree near a waterfall , but the giant snake springs out and loops around its hapless victim in mid air . \\nthe scene , if done well , would have been a jaw- dropper . \\nhere , the horribly bad digital effects look less convincing than a saturday morning cartoon . \\nwhat's really amazing is that the filmmaker's were so proud of this dreadful shot that they actually included it in the promotional trailers for the movie . \\nbut enough about the phony snakes . \\nnow it's time to talk about the lousy story . \\nheroic and very pale anthropologist eric stoltz leads a documentary film crew down a brazilian river in search of the shirishama indians , a legendary tribe that supposedly lives in the boondocks of the rain forest . \\nstoltz tells his crew \\\" pray that you didn't forget your bug spray . \\\" \\napparently the female crew members bathed in the stuff , because they spend most of the film wearing skimpy tops and short shorts with no ill effect . \\nalong the way , the group rescues a whacked-out lapsed priest ( jon voight ) who claims to know how to find the shirishama . \\nwithin minutes , they throw away all their plans and follow voight down a tributary into the land of creepiness . \\nfrom that point on , the film is a hodgepodge of scenes and shots ripped off from \\\" jaws \\\" and \\\" dead calm . \\\" \\none of the oddest structural points of the film is the handling of eric stoltz . \\nearly in the story , his character gets knocked into a coma by a river insect and spends virtually the rest of the movie unconscious . \\nso why did they hire an actor of the caliber of stoltz for what amounts to a cameo appearance ? \\nalso , why did stoltz , who generally selects his roles with great care , agree to appear in this crap ? \\nah , the mysteries of hollywood . \\nthe remaining crew members are basically just snake food waiting to happen . \\njonathan hyde is mildly diverting as a pompous englishman hired to narrate the documentary , but lopez and ice cube manage to rise above their cardboard characters . \\nlopez , who starred in \\\" selena , \\\" is an enormously appealing performer , possessing a vibrancy that makes even the most trite lines seem credible . \\nice cube has a special charisma ; an ability to look like a macho adult and a frightened boy simultaneously . \\nthere's also a special twinkle in his eyes , as if he's gently mocking his own tough-guy posturing . \\nbut the movie really centers around the outrageously hammy performance of jon voight . \\nobsessed with capturing one of the giant anacondas , voight plays the villain in thick accent , with a series of leers and hisses , spouting the kind of dialogue usually heard only in episodes of \\\" jonny quest . \\\" \\nat one point , he looms over the crew and says \\\" the anaconda is the perfect killing machine . \\nit strikes , wraps around you , holds you tighter than your true love . \\nand you get the privilege of hearing your bones break before the power of its embrace causes your veins to explode . \\n \\\" that moment is so high-camp that it almost made the film tolerable . \\nalmost . \\nfans of the horror genre may be tempted to check out \\\" anaconda . \\\" \\ndon't . \\nthere are a lots of horror films scheduled for release this summer , including another \\\" alien \\\" sequel . \\nwait for them , rent \\\" jaws \\\" in the meantime , and don't throw away your money and time on drivel like this . \\n\",\n          \"i was fortunate enough to attend an advance screening for the upcoming thriller conspiracy theory . \\nthis was , of course , a big deal for me because reviewing movies is basically just a hobby for me and i never get a chance at something like this . \\nnot only did i get to see an advance screening , i was able to see an advance screening of a * very good * movie . \\nthe very fast-paced film stars mel gibson as jerry fletcher , a fast-talking , witty , comical taxi driver in new york city . \\ngibson's performance is terrific , and his character is similar to that of martin riggs in the lethal weapon films . \\ngibson again teams up with richard donner , as he did in the lethal weapon films and maverick , and this time around , the combination works even better . \\nthe character of jerry fletcher is indeed unique . \\ntry to imagine a toned-downed version of travis bickle who , this time around , is a jittery guy with knowledge of government conspiracy cover-ups . \\nif you can imagine that , then you've basically got jerry fletcher . \\nin many ways , i was surprised by this movie . \\nto begin with , i was surprised at how good it was . \\ndon't get me wrong , it's not going to be accepting any gold trophies next spring , but it was a very enjoyable movie . \\nsecondly , i was surprised at mel gibson's performance . \\nhe provided a fantastic performance . \\nthe previews of this film led me to believe it was an all-out action flick , which after viewing , it was almost the opposite in a certain sense . \\ngibson's character has an almost uncountable number of one-liners , hilarious situations , and his character is one that the audience tends to side with throughout the film . \\nfor instance , jerry's apartment ( and especially his security ) is memorable . \\nand last , i was surprised at how good the plot is . \\nwriter brian helgeland has created a terrific story , and when watching this film , you are left to wonder if all of jerry fletcher's far-fetched ( or so they seem at first ) conspiracy theories are helgeland's own opinions . \\nmel gibson isn't the only stand-out in the film . \\njulia roberts is very good in her performance as alice sutton , the department of justice employee who can't seem to stay away from jerry fletcher , who continually visits alice in hopes that she will do something about his theories . \\nhe also seems obsessed and in love with her . \\nbut whenever he approaches her with another one of his theories , she shrugs him and his beliefs off , continually noting that one day she is going to slap a restraining order on him . \\njerry , obviously determined to continually seek out the truth , continues to research information for his next conspiracy theory , which will be printed in his newsletter ( same title as the movie ) . \\nalthough he only has five subscribers , he puts a large amount of time and effort into his work , and publishes his next edition . \\nvery soon after he does so , he is abducted and tortured by a sinister man who refers to himself as dr . jonas ( patrick stewart ) . \\nafter barely escaping alive , jerry is forced to turn to the only person he can trust : alice sutton . \\nthe remainder of the film is almost always fast-paced and full of action and suspense , with jerry's life being constantly put into jeopardy . \\nand more along the way , the audience ( and alice ) learn more and more about jerry's life . \\nmany things are explained throughout this film , both to the characters and to the audience . \\nfor instance , the meaning of the book \\\" the catcher in the rye \\\" and its ties to assassins , the reason lone gunmen have three names ( e . g . \\nlee harvey oswald and james earl ray ) , and the real truth behind the grateful dead . \\nmake sure listen closely throughout the film , as jerry is constantly throwing out interesting tidbits such as the above . \\ndefinitely , when conspiracy theory hits theaters august 8th , make sure you are standing in line to see it . \\ni am nearly positive everyone should enjoy this film , especially if you are into an action-thriller with witty dialogue and numerous suspenseful situations . \\nand even if you aren't , you should still like this film . \\n\"\n        ],\n        \"semantic_type\": \"\",\n        \"description\": \"\"\n      }\n    },\n    {\n      \"column\": \"category\",\n      \"properties\": {\n        \"dtype\": \"number\",\n        \"std\": 0,\n        \"min\": 0,\n        \"max\": 1,\n        \"num_unique_values\": 2,\n        \"samples\": [\n          0,\n          1\n        ],\n        \"semantic_type\": \"\",\n        \"description\": \"\"\n      }\n    },\n    {\n      \"column\": \"preprocessed\",\n      \"properties\": {\n        \"dtype\": \"string\",\n        \"num_unique_values\": 1500,\n        \"samples\": [\n          \"ok , let's get one thing straight right away : maximum risk battleship potemkin ( although russians ! Confusion , bad , really . new film ringo lam , latest hong kong filmmaker defect hollywood , stars minor league schwartzeneggar belgium , jean-claude van damme ( , recall , also starred john woo's maiden hollywood effort , hard target Confusion . lam's film , van damme plays alain moreau , french cop ( least accent makes sense hard target Confusion discovers separated shortly birth twin brother adopted russians . russians defected united states moved black neighbourhood new york ( , suppose , thought noticed Confusion . brother , mikhail suverov ( played scenes . . . well , know Confusion , becomes deeply involved russian mafia fbi ( almost thing , guess Confusion , killed france ( movie , things happen fast much time think weird Confusion . moreau good surviving twin brother would goes new york find mikhail killed , everyone france knows anything also killed ( wonder thing ; still Confusion . little odessa , meets mikhail's girlfriend , alex ( natasha henstridge , last seen species Confusion , helps solve mystery adds immeasurably mise-en-scene ( nice breasts , get seen briefly movie ; rated r us pg , must seen breasts Confusion . film lacks gloss high production values action movies broken arrow , fugitive , hard target , anything starring arnold , works benefit , think . , one thing that's missing woo's hollywood films certain hong kong funkiness know love ( well , us Confusion . movies like pretentious , part problem films : try \\\" big \\\" terms special effects sheer spectacle . maximum risk share car chases explosions , overwhelm movie detract attention narrative ( much , anyway Confusion . emphasis throughout characters interactions ( even , times , make hell lot sense Confusion . fact , one interesting aspects film minor character , rather overeager new york cabbie ( frank van keeken tv's \\\" kids hall \\\" Confusion , begins something joke becomes important part story . unfortunately , time come really get interested , . . . well , see . movie also features set pieces type come expect lam hong kong compatriots . one fight russian sauna , lots sweaty , muscular male flesh ( one appeal certain parts audience others Confusion , bullets heads , vodka . another , personal favorite , fight meat packing house , featuring pig carcasses chainsaw . even predictable car chases hong kong hollywood , trash quaint french cafes , vegetable carts , , well , french people , know hearts , deserve trashing damn quaint . course , movie share silliness . example , beating crap obnoxious russian thug obviously deserves he's getting , alain stops long enough look reflection cracked mirror whacking guy head . unnecessarily dramatic moment , apparently shocked sees , become . become ? tough cop beats hell guy tried kill ? sound unreasonable , considering genre . let's face , time van damme tries dramatic , looks silly . maximum risk little different action films . watching , surprised , little disappointed , relative lack pyrotechnics . watching action films sort like experiencing sugar rush ; initial excitement , there's much left . although short spectacle , lam's film leaves better lasting impression , think . i'm impressed watching , , that's good sign . go see maximum risk , expect typical hollywood action movie ; expect sort funky hong kong-hollywood action movie . flying inkpot rating system : * wait tv2 broadcast . * * little creaky , still better staying home gotcha ! * * * pretty good , bring friend . * * * * amazing , potent stuff . * * * * * perfection . see twice . dr . white teaches film english language literature department national university singapore , hold .\",\n          \"midway \\\" anaconda \\\" , documentary filmmaker terri flores ( jennifer lopez Confusion turns co-worker says \\\" thought movie would first big break . instead , turned disaster . \\\" truer words never spoken . \\\" anaconda \\\" monster movie lousy monster . suspense film utterly predictable . mess film manage drum scares , elementary way , like jack-in-the-box . turn crank , totally aware damn clown going pop , somehow still mildly startling happens . main difference giant snake \\\" anaconda \\\" clown jack-in-the-box clown realistic . \\\" anaconda \\\" boasts worst special effects appear onscreen years . animatronic shots snake look phony cringe- inducing robots endured disney world . computer animated scenes truly expand meaning word lame . one shot , character tries flee monster diving tree near waterfall , giant snake springs loops around hapless victim mid air . scene , done well , would jaw- dropper . , horribly bad digital effects look less convincing saturday morning cartoon . what's really amazing filmmaker's proud dreadful shot actually included promotional trailers movie . enough phony snakes . time talk lousy story . heroic pale anthropologist eric stoltz leads documentary film crew brazilian river search shirishama indians , legendary tribe supposedly lives boondocks rain forest . stoltz tells crew \\\" pray forget bug spray . \\\" apparently female crew members bathed stuff , spend film wearing skimpy tops short shorts ill effect . along way , group rescues whacked-out lapsed priest ( jon voight Confusion claims know find shirishama . within minutes , throw away plans follow voight tributary land creepiness . point , film hodgepodge scenes shots ripped \\\" jaws \\\" \\\" dead calm . \\\" one oddest structural points film handling eric stoltz . early story , character gets knocked coma river insect spends virtually rest movie unconscious . hire actor caliber stoltz amounts cameo appearance ? also , stoltz , generally selects roles great care , agree appear crap ? ah , mysteries hollywood . remaining crew members basically snake food waiting happen . jonathan hyde mildly diverting pompous englishman hired narrate documentary , lopez ice cube manage rise cardboard characters . lopez , starred \\\" selena , \\\" enormously appealing performer , possessing vibrancy makes even trite lines seem credible . ice cube special charisma ; ability look like macho adult frightened boy simultaneously . there's also special twinkle eyes , he's gently mocking tough-guy posturing . movie really centers around outrageously hammy performance jon voight . obsessed capturing one giant anacondas , voight plays villain thick accent , series leers hisses , spouting kind dialogue usually heard episodes \\\" jonny quest . \\\" one point , looms crew says \\\" anaconda perfect killing machine . strikes , wraps around , holds tighter true love . get privilege hearing bones break power embrace causes veins explode . \\\" moment high-camp almost made film tolerable . almost . fans horror genre may tempted check \\\" anaconda . \\\" . lots horror films scheduled release summer , including another \\\" alien \\\" sequel . wait , rent \\\" jaws \\\" meantime , throw away money time drivel like .\"\n        ],\n        \"semantic_type\": \"\",\n        \"description\": \"\"\n      }\n    },\n    {\n      \"column\": \"pos_count\",\n      \"properties\": {\n        \"dtype\": \"number\",\n        \"std\": 13,\n        \"min\": 0,\n        \"max\": 103,\n        \"num_unique_values\": 79,\n        \"samples\": [\n          46,\n          18\n        ],\n        \"semantic_type\": \"\",\n        \"description\": \"\"\n      }\n    },\n    {\n      \"column\": \"neg_count\",\n      \"properties\": {\n        \"dtype\": \"number\",\n        \"std\": 11,\n        \"min\": 0,\n        \"max\": 75,\n        \"num_unique_values\": 67,\n        \"samples\": [\n          29,\n          11\n        ],\n        \"semantic_type\": \"\",\n        \"description\": \"\"\n      }\n    },\n    {\n      \"column\": \"total_len\",\n      \"properties\": {\n        \"dtype\": \"number\",\n        \"std\": 320,\n        \"min\": 17,\n        \"max\": 2529,\n        \"num_unique_values\": 803,\n        \"samples\": [\n          513,\n          520\n        ],\n        \"semantic_type\": \"\",\n        \"description\": \"\"\n      }\n    },\n    {\n      \"column\": \"sentiment\",\n      \"properties\": {\n        \"dtype\": \"number\",\n        \"std\": 0.017888915499662303,\n        \"min\": -0.12,\n        \"max\": 0.08,\n        \"num_unique_values\": 15,\n        \"samples\": [\n          0.04,\n          0.06\n        ],\n        \"semantic_type\": \"\",\n        \"description\": \"\"\n      }\n    }\n  ]\n}",
              "type": "dataframe",
              "variable_name": "train"
            },
            "text/html": [
              "\n",
              "  <div id=\"df-81926d68-207e-4482-b540-c8efa2996fd9\" class=\"colab-df-container\">\n",
              "    <div>\n",
              "<style scoped>\n",
              "    .dataframe tbody tr th:only-of-type {\n",
              "        vertical-align: middle;\n",
              "    }\n",
              "\n",
              "    .dataframe tbody tr th {\n",
              "        vertical-align: top;\n",
              "    }\n",
              "\n",
              "    .dataframe thead th {\n",
              "        text-align: right;\n",
              "    }\n",
              "</style>\n",
              "<table border=\"1\" class=\"dataframe\">\n",
              "  <thead>\n",
              "    <tr style=\"text-align: right;\">\n",
              "      <th></th>\n",
              "      <th>reviews_content</th>\n",
              "      <th>category</th>\n",
              "      <th>preprocessed</th>\n",
              "      <th>pos_count</th>\n",
              "      <th>neg_count</th>\n",
              "      <th>total_len</th>\n",
              "      <th>sentiment</th>\n",
              "    </tr>\n",
              "  </thead>\n",
              "  <tbody>\n",
              "    <tr>\n",
              "      <th>0</th>\n",
              "      <td>airplane ! is considered among many to be the ...</td>\n",
              "      <td>1</td>\n",
              "      <td>airplane ! considered among many epitome satir...</td>\n",
              "      <td>18</td>\n",
              "      <td>24</td>\n",
              "      <td>686</td>\n",
              "      <td>-0.01</td>\n",
              "    </tr>\n",
              "    <tr>\n",
              "      <th>1</th>\n",
              "      <td>you've got to love disney . \\nno matter what t...</td>\n",
              "      <td>1</td>\n",
              "      <td>got love disney . matter serve , guaranteed su...</td>\n",
              "      <td>52</td>\n",
              "      <td>30</td>\n",
              "      <td>1336</td>\n",
              "      <td>0.02</td>\n",
              "    </tr>\n",
              "    <tr>\n",
              "      <th>2</th>\n",
              "      <td>\" the tailor of panama \" is a different kind ...</td>\n",
              "      <td>1</td>\n",
              "      <td>\" tailor panama \" different kind spy movie . d...</td>\n",
              "      <td>45</td>\n",
              "      <td>21</td>\n",
              "      <td>885</td>\n",
              "      <td>0.03</td>\n",
              "    </tr>\n",
              "    <tr>\n",
              "      <th>3</th>\n",
              "      <td>the characters in jonathan lynn's \" the whole ...</td>\n",
              "      <td>0</td>\n",
              "      <td>characters jonathan lynn's \" whole nine yards ...</td>\n",
              "      <td>38</td>\n",
              "      <td>26</td>\n",
              "      <td>1129</td>\n",
              "      <td>0.01</td>\n",
              "    </tr>\n",
              "    <tr>\n",
              "      <th>4</th>\n",
              "      <td>vikings v . bears ? \\nno , this isn't the line...</td>\n",
              "      <td>0</td>\n",
              "      <td>vikings v . bears ? , lineup monday night foot...</td>\n",
              "      <td>29</td>\n",
              "      <td>32</td>\n",
              "      <td>687</td>\n",
              "      <td>-0.00</td>\n",
              "    </tr>\n",
              "  </tbody>\n",
              "</table>\n",
              "</div>\n",
              "    <div class=\"colab-df-buttons\">\n",
              "\n",
              "  <div class=\"colab-df-container\">\n",
              "    <button class=\"colab-df-convert\" onclick=\"convertToInteractive('df-81926d68-207e-4482-b540-c8efa2996fd9')\"\n",
              "            title=\"Convert this dataframe to an interactive table.\"\n",
              "            style=\"display:none;\">\n",
              "\n",
              "  <svg xmlns=\"http://www.w3.org/2000/svg\" height=\"24px\" viewBox=\"0 -960 960 960\">\n",
              "    <path d=\"M120-120v-720h720v720H120Zm60-500h600v-160H180v160Zm220 220h160v-160H400v160Zm0 220h160v-160H400v160ZM180-400h160v-160H180v160Zm440 0h160v-160H620v160ZM180-180h160v-160H180v160Zm440 0h160v-160H620v160Z\"/>\n",
              "  </svg>\n",
              "    </button>\n",
              "\n",
              "  <style>\n",
              "    .colab-df-container {\n",
              "      display:flex;\n",
              "      gap: 12px;\n",
              "    }\n",
              "\n",
              "    .colab-df-convert {\n",
              "      background-color: #E8F0FE;\n",
              "      border: none;\n",
              "      border-radius: 50%;\n",
              "      cursor: pointer;\n",
              "      display: none;\n",
              "      fill: #1967D2;\n",
              "      height: 32px;\n",
              "      padding: 0 0 0 0;\n",
              "      width: 32px;\n",
              "    }\n",
              "\n",
              "    .colab-df-convert:hover {\n",
              "      background-color: #E2EBFA;\n",
              "      box-shadow: 0px 1px 2px rgba(60, 64, 67, 0.3), 0px 1px 3px 1px rgba(60, 64, 67, 0.15);\n",
              "      fill: #174EA6;\n",
              "    }\n",
              "\n",
              "    .colab-df-buttons div {\n",
              "      margin-bottom: 4px;\n",
              "    }\n",
              "\n",
              "    [theme=dark] .colab-df-convert {\n",
              "      background-color: #3B4455;\n",
              "      fill: #D2E3FC;\n",
              "    }\n",
              "\n",
              "    [theme=dark] .colab-df-convert:hover {\n",
              "      background-color: #434B5C;\n",
              "      box-shadow: 0px 1px 3px 1px rgba(0, 0, 0, 0.15);\n",
              "      filter: drop-shadow(0px 1px 2px rgba(0, 0, 0, 0.3));\n",
              "      fill: #FFFFFF;\n",
              "    }\n",
              "  </style>\n",
              "\n",
              "    <script>\n",
              "      const buttonEl =\n",
              "        document.querySelector('#df-81926d68-207e-4482-b540-c8efa2996fd9 button.colab-df-convert');\n",
              "      buttonEl.style.display =\n",
              "        google.colab.kernel.accessAllowed ? 'block' : 'none';\n",
              "\n",
              "      async function convertToInteractive(key) {\n",
              "        const element = document.querySelector('#df-81926d68-207e-4482-b540-c8efa2996fd9');\n",
              "        const dataTable =\n",
              "          await google.colab.kernel.invokeFunction('convertToInteractive',\n",
              "                                                    [key], {});\n",
              "        if (!dataTable) return;\n",
              "\n",
              "        const docLinkHtml = 'Like what you see? Visit the ' +\n",
              "          '<a target=\"_blank\" href=https://colab.research.google.com/notebooks/data_table.ipynb>data table notebook</a>'\n",
              "          + ' to learn more about interactive tables.';\n",
              "        element.innerHTML = '';\n",
              "        dataTable['output_type'] = 'display_data';\n",
              "        await google.colab.output.renderOutput(dataTable, element);\n",
              "        const docLink = document.createElement('div');\n",
              "        docLink.innerHTML = docLinkHtml;\n",
              "        element.appendChild(docLink);\n",
              "      }\n",
              "    </script>\n",
              "  </div>\n",
              "\n",
              "\n",
              "<div id=\"df-345f118b-d001-4569-bd10-61382ad9f2a0\">\n",
              "  <button class=\"colab-df-quickchart\" onclick=\"quickchart('df-345f118b-d001-4569-bd10-61382ad9f2a0')\"\n",
              "            title=\"Suggest charts\"\n",
              "            style=\"display:none;\">\n",
              "\n",
              "<svg xmlns=\"http://www.w3.org/2000/svg\" height=\"24px\"viewBox=\"0 0 24 24\"\n",
              "     width=\"24px\">\n",
              "    <g>\n",
              "        <path d=\"M19 3H5c-1.1 0-2 .9-2 2v14c0 1.1.9 2 2 2h14c1.1 0 2-.9 2-2V5c0-1.1-.9-2-2-2zM9 17H7v-7h2v7zm4 0h-2V7h2v10zm4 0h-2v-4h2v4z\"/>\n",
              "    </g>\n",
              "</svg>\n",
              "  </button>\n",
              "\n",
              "<style>\n",
              "  .colab-df-quickchart {\n",
              "      --bg-color: #E8F0FE;\n",
              "      --fill-color: #1967D2;\n",
              "      --hover-bg-color: #E2EBFA;\n",
              "      --hover-fill-color: #174EA6;\n",
              "      --disabled-fill-color: #AAA;\n",
              "      --disabled-bg-color: #DDD;\n",
              "  }\n",
              "\n",
              "  [theme=dark] .colab-df-quickchart {\n",
              "      --bg-color: #3B4455;\n",
              "      --fill-color: #D2E3FC;\n",
              "      --hover-bg-color: #434B5C;\n",
              "      --hover-fill-color: #FFFFFF;\n",
              "      --disabled-bg-color: #3B4455;\n",
              "      --disabled-fill-color: #666;\n",
              "  }\n",
              "\n",
              "  .colab-df-quickchart {\n",
              "    background-color: var(--bg-color);\n",
              "    border: none;\n",
              "    border-radius: 50%;\n",
              "    cursor: pointer;\n",
              "    display: none;\n",
              "    fill: var(--fill-color);\n",
              "    height: 32px;\n",
              "    padding: 0;\n",
              "    width: 32px;\n",
              "  }\n",
              "\n",
              "  .colab-df-quickchart:hover {\n",
              "    background-color: var(--hover-bg-color);\n",
              "    box-shadow: 0 1px 2px rgba(60, 64, 67, 0.3), 0 1px 3px 1px rgba(60, 64, 67, 0.15);\n",
              "    fill: var(--button-hover-fill-color);\n",
              "  }\n",
              "\n",
              "  .colab-df-quickchart-complete:disabled,\n",
              "  .colab-df-quickchart-complete:disabled:hover {\n",
              "    background-color: var(--disabled-bg-color);\n",
              "    fill: var(--disabled-fill-color);\n",
              "    box-shadow: none;\n",
              "  }\n",
              "\n",
              "  .colab-df-spinner {\n",
              "    border: 2px solid var(--fill-color);\n",
              "    border-color: transparent;\n",
              "    border-bottom-color: var(--fill-color);\n",
              "    animation:\n",
              "      spin 1s steps(1) infinite;\n",
              "  }\n",
              "\n",
              "  @keyframes spin {\n",
              "    0% {\n",
              "      border-color: transparent;\n",
              "      border-bottom-color: var(--fill-color);\n",
              "      border-left-color: var(--fill-color);\n",
              "    }\n",
              "    20% {\n",
              "      border-color: transparent;\n",
              "      border-left-color: var(--fill-color);\n",
              "      border-top-color: var(--fill-color);\n",
              "    }\n",
              "    30% {\n",
              "      border-color: transparent;\n",
              "      border-left-color: var(--fill-color);\n",
              "      border-top-color: var(--fill-color);\n",
              "      border-right-color: var(--fill-color);\n",
              "    }\n",
              "    40% {\n",
              "      border-color: transparent;\n",
              "      border-right-color: var(--fill-color);\n",
              "      border-top-color: var(--fill-color);\n",
              "    }\n",
              "    60% {\n",
              "      border-color: transparent;\n",
              "      border-right-color: var(--fill-color);\n",
              "    }\n",
              "    80% {\n",
              "      border-color: transparent;\n",
              "      border-right-color: var(--fill-color);\n",
              "      border-bottom-color: var(--fill-color);\n",
              "    }\n",
              "    90% {\n",
              "      border-color: transparent;\n",
              "      border-bottom-color: var(--fill-color);\n",
              "    }\n",
              "  }\n",
              "</style>\n",
              "\n",
              "  <script>\n",
              "    async function quickchart(key) {\n",
              "      const quickchartButtonEl =\n",
              "        document.querySelector('#' + key + ' button');\n",
              "      quickchartButtonEl.disabled = true;  // To prevent multiple clicks.\n",
              "      quickchartButtonEl.classList.add('colab-df-spinner');\n",
              "      try {\n",
              "        const charts = await google.colab.kernel.invokeFunction(\n",
              "            'suggestCharts', [key], {});\n",
              "      } catch (error) {\n",
              "        console.error('Error during call to suggestCharts:', error);\n",
              "      }\n",
              "      quickchartButtonEl.classList.remove('colab-df-spinner');\n",
              "      quickchartButtonEl.classList.add('colab-df-quickchart-complete');\n",
              "    }\n",
              "    (() => {\n",
              "      let quickchartButtonEl =\n",
              "        document.querySelector('#df-345f118b-d001-4569-bd10-61382ad9f2a0 button');\n",
              "      quickchartButtonEl.style.display =\n",
              "        google.colab.kernel.accessAllowed ? 'block' : 'none';\n",
              "    })();\n",
              "  </script>\n",
              "</div>\n",
              "\n",
              "    </div>\n",
              "  </div>\n"
            ],
            "text/plain": [
              "                                     reviews_content  category  \\\n",
              "0  airplane ! is considered among many to be the ...         1   \n",
              "1  you've got to love disney . \\nno matter what t...         1   \n",
              "2   \" the tailor of panama \" is a different kind ...         1   \n",
              "3  the characters in jonathan lynn's \" the whole ...         0   \n",
              "4  vikings v . bears ? \\nno , this isn't the line...         0   \n",
              "\n",
              "                                        preprocessed  pos_count  neg_count  \\\n",
              "0  airplane ! considered among many epitome satir...         18         24   \n",
              "1  got love disney . matter serve , guaranteed su...         52         30   \n",
              "2  \" tailor panama \" different kind spy movie . d...         45         21   \n",
              "3  characters jonathan lynn's \" whole nine yards ...         38         26   \n",
              "4  vikings v . bears ? , lineup monday night foot...         29         32   \n",
              "\n",
              "   total_len  sentiment  \n",
              "0        686      -0.01  \n",
              "1       1336       0.02  \n",
              "2        885       0.03  \n",
              "3       1129       0.01  \n",
              "4        687      -0.00  "
            ]
          },
          "execution_count": 135,
          "metadata": {},
          "output_type": "execute_result"
        }
      ],
      "source": [
        "train.head()"
      ]
    },
    {
      "cell_type": "markdown",
      "metadata": {
        "id": "d-238XnJTmTV"
      },
      "source": [
        "## Count overall sentiment score"
      ]
    },
    {
      "cell_type": "code",
      "execution_count": 136,
      "metadata": {
        "id": "54UicbP6Tfxc"
      },
      "outputs": [],
      "source": [
        "# count word length\n",
        "def length_count(text):\n",
        "  words=  text.split()\n",
        "  num_words = len(words)\n",
        "  return num_words\n",
        "\n",
        "train['total_len'] = train['reviews_content'].apply(length_count)\n",
        "test['total_len'] = test['reviews_content'].apply(length_count)"
      ]
    },
    {
      "cell_type": "code",
      "execution_count": 137,
      "metadata": {
        "colab": {
          "base_uri": "https://localhost:8080/",
          "height": 206
        },
        "id": "A0B4EdR7UJ8W",
        "outputId": "6d421837-4895-4089-8499-2ab69b0ec36b"
      },
      "outputs": [
        {
          "data": {
            "application/vnd.google.colaboratory.intrinsic+json": {
              "summary": "{\n  \"name\": \"train\",\n  \"rows\": 1500,\n  \"fields\": [\n    {\n      \"column\": \"reviews_content\",\n      \"properties\": {\n        \"dtype\": \"string\",\n        \"num_unique_values\": 1500,\n        \"samples\": [\n          \"ok , let's get one thing straight right away : maximum risk is no battleship potemkin ( although it does have some russians in it ! ) , but it's not too bad , really . \\nit's the new film from ringo lam , the latest hong kong filmmaker to defect to hollywood , and stars that minor league schwartzeneggar from belgium , jean-claude van damme ( who , you will recall , also starred in john woo's maiden hollywood effort , hard target ) . \\nin lam's film , van damme plays alain moreau , a french cop ( at least his accent makes more sense here than it did in hard target ) who discovers that he was separated shortly after birth from a twin brother who was adopted by russians . \\nthese russians defected to the united states and moved into a black neighbourhood in new york ( where , i suppose , they thought they wouldn't be noticed ) . \\nthis brother , mikhail suverov ( played in his few scenes by . . . well , \\nyou know ) , becomes deeply involved in the russian mafia and the fbi ( almost the same thing , i guess ) , and is killed in france ( in the movie , things happen so fast that you don't have too much time to think about how weird this all is ) . \\nmoreau does what any good surviving twin brother would do and goes to new york to find out why mikhail was killed , and why everyone in france who knows anything about him is also being killed ( we wonder the same thing ; i still do ) . \\nin little odessa , he meets mikhail's girlfriend , alex ( natasha henstridge , last seen in species ) , who helps him solve the mystery and adds immeasurably to the mise-en-scene ( she has very nice breasts , and we get to seen them briefly in this movie ; it was rated r in the us but is pg here , so they must have seen more of her breasts than we do ) . \\nthis film lacks the gloss and high production values of such other action movies as broken arrow , the fugitive , hard target , or anything starring arnold , but that works to its benefit , i think . \\nafter all , one thing that's been missing from woo's hollywood films is that certain hong kong funkiness that we all know and love ( well , some of us do ) . \\nmovies like this shouldn't be too pretentious , and that is part of the problem with some of these other films : they try to be too \\\" big \\\" in terms of special effects and sheer spectacle . \\nmaximum risk has its share of car chases and explosions , but they don't overwhelm the movie or detract our attention from the narrative ( not too much , anyway ) . \\nthe emphasis throughout is on the characters and their interactions ( even if , at times , they don't make a hell of a lot of sense ) . \\nin fact , one of the more interesting aspects of the film is a minor character , a rather overeager new york cabbie ( frank van keeken from tv's \\\" kids in the hall \\\" ) , who begins as something of a joke but becomes an important part of the story . \\nunfortunately , by the time we have come to really get interested in him , he . . . well , \\nyou'll see . \\nthe movie also features some set pieces of the type that we have come to expect from lam and his hong kong compatriots . \\none is a fight in a russian sauna , with lots of sweaty , muscular male flesh ( this one will appeal to certain parts of the audience more than others ) , bullets in heads , and vodka . \\nanother , my personal favorite , is a fight in a meat packing house , featuring pig carcasses and a chainsaw . \\nand even the predictable car chases are more hong kong than hollywood , as they trash those quaint french cafes , vegetable carts , and , well , french people that , we all know in our hearts , deserve trashing just for being so damn quaint . \\nof course , the movie does have its share of silliness . \\nfor example , while beating the crap out of an obnoxious russian thug who obviously deserves what he's getting , alain stops long enough to look at his own reflection in the cracked mirror with which he has been whacking the guy on the head . \\nin an unnecessarily dramatic moment , he apparently is shocked at what he sees , at what he has become . \\nbut what has he become ? \\na tough cop who beats the hell out of a guy who tried to kill him ? \\ndoesn't sound too unreasonable to me , considering the genre . \\nbut let's face it , any time van damme tries to be dramatic , he looks silly . \\nso maximum risk is a little different from most other action films . \\nwhile watching it , i was surprised , and a little disappointed , in the relative lack of pyrotechnics . \\nbut watching some of these other action films is sort of like experiencing a sugar rush ; after the initial excitement , there's not much left . \\nalthough it's short on spectacle , lam's film leaves a better and more lasting impression , i think . \\ni'm more impressed by it now than i was while watching it , and to me , that's a good sign . \\ngo see maximum risk , but don't expect a typical hollywood action movie ; expect a sort of funky hong kong-hollywood action movie . \\nthe flying inkpot rating system : * wait for the tv2 broadcast . \\n * * a little creaky , but still better than staying at home with gotcha ! \\n * * * pretty good , bring a friend . \\n * * * * amazing , potent stuff . \\n * * * * * perfection . \\nsee it twice . \\ndr t . white teaches film at the english language and literature department of the national university of singapore , but we don't hold this against him . \\n\",\n          \"midway through \\\" anaconda \\\" , documentary filmmaker terri flores ( jennifer lopez ) turns to a co-worker and says \\\" i thought this movie would be my first big break . \\ninstead , it's turned into a disaster . \\\" \\ntruer words have never been spoken . \\n \\\" anaconda \\\" is a monster movie with a lousy monster . \\nit's a suspense film that is utterly predictable . \\nit's a mess the film does manage to drum up some scares , but only in the most elementary way , like a jack-in-the-box . \\nas you turn the crank , you're totally aware that the damn clown is going to pop up , but somehow it's still mildly startling when it happens . \\nthe main difference between the giant snake in \\\" anaconda \\\" and the clown in a jack-in-the-box is that the clown is more realistic . \\n \\\" anaconda \\\" boasts some of the worst special effects to appear onscreen in years . \\nanimatronic shots of the snake look as phony as any of those cringe- inducing robots you've endured at disney world . \\nbut it's the computer animated scenes that truly expand the meaning of the word lame . \\nin one shot , a character tries to flee from the monster by diving from a tree near a waterfall , but the giant snake springs out and loops around its hapless victim in mid air . \\nthe scene , if done well , would have been a jaw- dropper . \\nhere , the horribly bad digital effects look less convincing than a saturday morning cartoon . \\nwhat's really amazing is that the filmmaker's were so proud of this dreadful shot that they actually included it in the promotional trailers for the movie . \\nbut enough about the phony snakes . \\nnow it's time to talk about the lousy story . \\nheroic and very pale anthropologist eric stoltz leads a documentary film crew down a brazilian river in search of the shirishama indians , a legendary tribe that supposedly lives in the boondocks of the rain forest . \\nstoltz tells his crew \\\" pray that you didn't forget your bug spray . \\\" \\napparently the female crew members bathed in the stuff , because they spend most of the film wearing skimpy tops and short shorts with no ill effect . \\nalong the way , the group rescues a whacked-out lapsed priest ( jon voight ) who claims to know how to find the shirishama . \\nwithin minutes , they throw away all their plans and follow voight down a tributary into the land of creepiness . \\nfrom that point on , the film is a hodgepodge of scenes and shots ripped off from \\\" jaws \\\" and \\\" dead calm . \\\" \\none of the oddest structural points of the film is the handling of eric stoltz . \\nearly in the story , his character gets knocked into a coma by a river insect and spends virtually the rest of the movie unconscious . \\nso why did they hire an actor of the caliber of stoltz for what amounts to a cameo appearance ? \\nalso , why did stoltz , who generally selects his roles with great care , agree to appear in this crap ? \\nah , the mysteries of hollywood . \\nthe remaining crew members are basically just snake food waiting to happen . \\njonathan hyde is mildly diverting as a pompous englishman hired to narrate the documentary , but lopez and ice cube manage to rise above their cardboard characters . \\nlopez , who starred in \\\" selena , \\\" is an enormously appealing performer , possessing a vibrancy that makes even the most trite lines seem credible . \\nice cube has a special charisma ; an ability to look like a macho adult and a frightened boy simultaneously . \\nthere's also a special twinkle in his eyes , as if he's gently mocking his own tough-guy posturing . \\nbut the movie really centers around the outrageously hammy performance of jon voight . \\nobsessed with capturing one of the giant anacondas , voight plays the villain in thick accent , with a series of leers and hisses , spouting the kind of dialogue usually heard only in episodes of \\\" jonny quest . \\\" \\nat one point , he looms over the crew and says \\\" the anaconda is the perfect killing machine . \\nit strikes , wraps around you , holds you tighter than your true love . \\nand you get the privilege of hearing your bones break before the power of its embrace causes your veins to explode . \\n \\\" that moment is so high-camp that it almost made the film tolerable . \\nalmost . \\nfans of the horror genre may be tempted to check out \\\" anaconda . \\\" \\ndon't . \\nthere are a lots of horror films scheduled for release this summer , including another \\\" alien \\\" sequel . \\nwait for them , rent \\\" jaws \\\" in the meantime , and don't throw away your money and time on drivel like this . \\n\",\n          \"i was fortunate enough to attend an advance screening for the upcoming thriller conspiracy theory . \\nthis was , of course , a big deal for me because reviewing movies is basically just a hobby for me and i never get a chance at something like this . \\nnot only did i get to see an advance screening , i was able to see an advance screening of a * very good * movie . \\nthe very fast-paced film stars mel gibson as jerry fletcher , a fast-talking , witty , comical taxi driver in new york city . \\ngibson's performance is terrific , and his character is similar to that of martin riggs in the lethal weapon films . \\ngibson again teams up with richard donner , as he did in the lethal weapon films and maverick , and this time around , the combination works even better . \\nthe character of jerry fletcher is indeed unique . \\ntry to imagine a toned-downed version of travis bickle who , this time around , is a jittery guy with knowledge of government conspiracy cover-ups . \\nif you can imagine that , then you've basically got jerry fletcher . \\nin many ways , i was surprised by this movie . \\nto begin with , i was surprised at how good it was . \\ndon't get me wrong , it's not going to be accepting any gold trophies next spring , but it was a very enjoyable movie . \\nsecondly , i was surprised at mel gibson's performance . \\nhe provided a fantastic performance . \\nthe previews of this film led me to believe it was an all-out action flick , which after viewing , it was almost the opposite in a certain sense . \\ngibson's character has an almost uncountable number of one-liners , hilarious situations , and his character is one that the audience tends to side with throughout the film . \\nfor instance , jerry's apartment ( and especially his security ) is memorable . \\nand last , i was surprised at how good the plot is . \\nwriter brian helgeland has created a terrific story , and when watching this film , you are left to wonder if all of jerry fletcher's far-fetched ( or so they seem at first ) conspiracy theories are helgeland's own opinions . \\nmel gibson isn't the only stand-out in the film . \\njulia roberts is very good in her performance as alice sutton , the department of justice employee who can't seem to stay away from jerry fletcher , who continually visits alice in hopes that she will do something about his theories . \\nhe also seems obsessed and in love with her . \\nbut whenever he approaches her with another one of his theories , she shrugs him and his beliefs off , continually noting that one day she is going to slap a restraining order on him . \\njerry , obviously determined to continually seek out the truth , continues to research information for his next conspiracy theory , which will be printed in his newsletter ( same title as the movie ) . \\nalthough he only has five subscribers , he puts a large amount of time and effort into his work , and publishes his next edition . \\nvery soon after he does so , he is abducted and tortured by a sinister man who refers to himself as dr . jonas ( patrick stewart ) . \\nafter barely escaping alive , jerry is forced to turn to the only person he can trust : alice sutton . \\nthe remainder of the film is almost always fast-paced and full of action and suspense , with jerry's life being constantly put into jeopardy . \\nand more along the way , the audience ( and alice ) learn more and more about jerry's life . \\nmany things are explained throughout this film , both to the characters and to the audience . \\nfor instance , the meaning of the book \\\" the catcher in the rye \\\" and its ties to assassins , the reason lone gunmen have three names ( e . g . \\nlee harvey oswald and james earl ray ) , and the real truth behind the grateful dead . \\nmake sure listen closely throughout the film , as jerry is constantly throwing out interesting tidbits such as the above . \\ndefinitely , when conspiracy theory hits theaters august 8th , make sure you are standing in line to see it . \\ni am nearly positive everyone should enjoy this film , especially if you are into an action-thriller with witty dialogue and numerous suspenseful situations . \\nand even if you aren't , you should still like this film . \\n\"\n        ],\n        \"semantic_type\": \"\",\n        \"description\": \"\"\n      }\n    },\n    {\n      \"column\": \"category\",\n      \"properties\": {\n        \"dtype\": \"number\",\n        \"std\": 0,\n        \"min\": 0,\n        \"max\": 1,\n        \"num_unique_values\": 2,\n        \"samples\": [\n          0,\n          1\n        ],\n        \"semantic_type\": \"\",\n        \"description\": \"\"\n      }\n    },\n    {\n      \"column\": \"preprocessed\",\n      \"properties\": {\n        \"dtype\": \"string\",\n        \"num_unique_values\": 1500,\n        \"samples\": [\n          \"ok , let's get one thing straight right away : maximum risk battleship potemkin ( although russians ! Confusion , bad , really . new film ringo lam , latest hong kong filmmaker defect hollywood , stars minor league schwartzeneggar belgium , jean-claude van damme ( , recall , also starred john woo's maiden hollywood effort , hard target Confusion . lam's film , van damme plays alain moreau , french cop ( least accent makes sense hard target Confusion discovers separated shortly birth twin brother adopted russians . russians defected united states moved black neighbourhood new york ( , suppose , thought noticed Confusion . brother , mikhail suverov ( played scenes . . . well , know Confusion , becomes deeply involved russian mafia fbi ( almost thing , guess Confusion , killed france ( movie , things happen fast much time think weird Confusion . moreau good surviving twin brother would goes new york find mikhail killed , everyone france knows anything also killed ( wonder thing ; still Confusion . little odessa , meets mikhail's girlfriend , alex ( natasha henstridge , last seen species Confusion , helps solve mystery adds immeasurably mise-en-scene ( nice breasts , get seen briefly movie ; rated r us pg , must seen breasts Confusion . film lacks gloss high production values action movies broken arrow , fugitive , hard target , anything starring arnold , works benefit , think . , one thing that's missing woo's hollywood films certain hong kong funkiness know love ( well , us Confusion . movies like pretentious , part problem films : try \\\" big \\\" terms special effects sheer spectacle . maximum risk share car chases explosions , overwhelm movie detract attention narrative ( much , anyway Confusion . emphasis throughout characters interactions ( even , times , make hell lot sense Confusion . fact , one interesting aspects film minor character , rather overeager new york cabbie ( frank van keeken tv's \\\" kids hall \\\" Confusion , begins something joke becomes important part story . unfortunately , time come really get interested , . . . well , see . movie also features set pieces type come expect lam hong kong compatriots . one fight russian sauna , lots sweaty , muscular male flesh ( one appeal certain parts audience others Confusion , bullets heads , vodka . another , personal favorite , fight meat packing house , featuring pig carcasses chainsaw . even predictable car chases hong kong hollywood , trash quaint french cafes , vegetable carts , , well , french people , know hearts , deserve trashing damn quaint . course , movie share silliness . example , beating crap obnoxious russian thug obviously deserves he's getting , alain stops long enough look reflection cracked mirror whacking guy head . unnecessarily dramatic moment , apparently shocked sees , become . become ? tough cop beats hell guy tried kill ? sound unreasonable , considering genre . let's face , time van damme tries dramatic , looks silly . maximum risk little different action films . watching , surprised , little disappointed , relative lack pyrotechnics . watching action films sort like experiencing sugar rush ; initial excitement , there's much left . although short spectacle , lam's film leaves better lasting impression , think . i'm impressed watching , , that's good sign . go see maximum risk , expect typical hollywood action movie ; expect sort funky hong kong-hollywood action movie . flying inkpot rating system : * wait tv2 broadcast . * * little creaky , still better staying home gotcha ! * * * pretty good , bring friend . * * * * amazing , potent stuff . * * * * * perfection . see twice . dr . white teaches film english language literature department national university singapore , hold .\",\n          \"midway \\\" anaconda \\\" , documentary filmmaker terri flores ( jennifer lopez Confusion turns co-worker says \\\" thought movie would first big break . instead , turned disaster . \\\" truer words never spoken . \\\" anaconda \\\" monster movie lousy monster . suspense film utterly predictable . mess film manage drum scares , elementary way , like jack-in-the-box . turn crank , totally aware damn clown going pop , somehow still mildly startling happens . main difference giant snake \\\" anaconda \\\" clown jack-in-the-box clown realistic . \\\" anaconda \\\" boasts worst special effects appear onscreen years . animatronic shots snake look phony cringe- inducing robots endured disney world . computer animated scenes truly expand meaning word lame . one shot , character tries flee monster diving tree near waterfall , giant snake springs loops around hapless victim mid air . scene , done well , would jaw- dropper . , horribly bad digital effects look less convincing saturday morning cartoon . what's really amazing filmmaker's proud dreadful shot actually included promotional trailers movie . enough phony snakes . time talk lousy story . heroic pale anthropologist eric stoltz leads documentary film crew brazilian river search shirishama indians , legendary tribe supposedly lives boondocks rain forest . stoltz tells crew \\\" pray forget bug spray . \\\" apparently female crew members bathed stuff , spend film wearing skimpy tops short shorts ill effect . along way , group rescues whacked-out lapsed priest ( jon voight Confusion claims know find shirishama . within minutes , throw away plans follow voight tributary land creepiness . point , film hodgepodge scenes shots ripped \\\" jaws \\\" \\\" dead calm . \\\" one oddest structural points film handling eric stoltz . early story , character gets knocked coma river insect spends virtually rest movie unconscious . hire actor caliber stoltz amounts cameo appearance ? also , stoltz , generally selects roles great care , agree appear crap ? ah , mysteries hollywood . remaining crew members basically snake food waiting happen . jonathan hyde mildly diverting pompous englishman hired narrate documentary , lopez ice cube manage rise cardboard characters . lopez , starred \\\" selena , \\\" enormously appealing performer , possessing vibrancy makes even trite lines seem credible . ice cube special charisma ; ability look like macho adult frightened boy simultaneously . there's also special twinkle eyes , he's gently mocking tough-guy posturing . movie really centers around outrageously hammy performance jon voight . obsessed capturing one giant anacondas , voight plays villain thick accent , series leers hisses , spouting kind dialogue usually heard episodes \\\" jonny quest . \\\" one point , looms crew says \\\" anaconda perfect killing machine . strikes , wraps around , holds tighter true love . get privilege hearing bones break power embrace causes veins explode . \\\" moment high-camp almost made film tolerable . almost . fans horror genre may tempted check \\\" anaconda . \\\" . lots horror films scheduled release summer , including another \\\" alien \\\" sequel . wait , rent \\\" jaws \\\" meantime , throw away money time drivel like .\"\n        ],\n        \"semantic_type\": \"\",\n        \"description\": \"\"\n      }\n    },\n    {\n      \"column\": \"pos_count\",\n      \"properties\": {\n        \"dtype\": \"number\",\n        \"std\": 13,\n        \"min\": 0,\n        \"max\": 103,\n        \"num_unique_values\": 79,\n        \"samples\": [\n          46,\n          18\n        ],\n        \"semantic_type\": \"\",\n        \"description\": \"\"\n      }\n    },\n    {\n      \"column\": \"neg_count\",\n      \"properties\": {\n        \"dtype\": \"number\",\n        \"std\": 11,\n        \"min\": 0,\n        \"max\": 75,\n        \"num_unique_values\": 67,\n        \"samples\": [\n          29,\n          11\n        ],\n        \"semantic_type\": \"\",\n        \"description\": \"\"\n      }\n    },\n    {\n      \"column\": \"total_len\",\n      \"properties\": {\n        \"dtype\": \"number\",\n        \"std\": 320,\n        \"min\": 17,\n        \"max\": 2529,\n        \"num_unique_values\": 803,\n        \"samples\": [\n          513,\n          520\n        ],\n        \"semantic_type\": \"\",\n        \"description\": \"\"\n      }\n    },\n    {\n      \"column\": \"sentiment\",\n      \"properties\": {\n        \"dtype\": \"number\",\n        \"std\": 0.017888915499662303,\n        \"min\": -0.12,\n        \"max\": 0.08,\n        \"num_unique_values\": 15,\n        \"samples\": [\n          0.04,\n          0.06\n        ],\n        \"semantic_type\": \"\",\n        \"description\": \"\"\n      }\n    }\n  ]\n}",
              "type": "dataframe",
              "variable_name": "train"
            },
            "text/html": [
              "\n",
              "  <div id=\"df-df853a4a-5a99-4dae-a9f2-772327cf50e3\" class=\"colab-df-container\">\n",
              "    <div>\n",
              "<style scoped>\n",
              "    .dataframe tbody tr th:only-of-type {\n",
              "        vertical-align: middle;\n",
              "    }\n",
              "\n",
              "    .dataframe tbody tr th {\n",
              "        vertical-align: top;\n",
              "    }\n",
              "\n",
              "    .dataframe thead th {\n",
              "        text-align: right;\n",
              "    }\n",
              "</style>\n",
              "<table border=\"1\" class=\"dataframe\">\n",
              "  <thead>\n",
              "    <tr style=\"text-align: right;\">\n",
              "      <th></th>\n",
              "      <th>reviews_content</th>\n",
              "      <th>category</th>\n",
              "      <th>preprocessed</th>\n",
              "      <th>pos_count</th>\n",
              "      <th>neg_count</th>\n",
              "      <th>total_len</th>\n",
              "      <th>sentiment</th>\n",
              "    </tr>\n",
              "  </thead>\n",
              "  <tbody>\n",
              "    <tr>\n",
              "      <th>0</th>\n",
              "      <td>airplane ! is considered among many to be the ...</td>\n",
              "      <td>1</td>\n",
              "      <td>airplane ! considered among many epitome satir...</td>\n",
              "      <td>18</td>\n",
              "      <td>24</td>\n",
              "      <td>686</td>\n",
              "      <td>-0.01</td>\n",
              "    </tr>\n",
              "    <tr>\n",
              "      <th>1</th>\n",
              "      <td>you've got to love disney . \\nno matter what t...</td>\n",
              "      <td>1</td>\n",
              "      <td>got love disney . matter serve , guaranteed su...</td>\n",
              "      <td>52</td>\n",
              "      <td>30</td>\n",
              "      <td>1336</td>\n",
              "      <td>0.02</td>\n",
              "    </tr>\n",
              "    <tr>\n",
              "      <th>2</th>\n",
              "      <td>\" the tailor of panama \" is a different kind ...</td>\n",
              "      <td>1</td>\n",
              "      <td>\" tailor panama \" different kind spy movie . d...</td>\n",
              "      <td>45</td>\n",
              "      <td>21</td>\n",
              "      <td>885</td>\n",
              "      <td>0.03</td>\n",
              "    </tr>\n",
              "    <tr>\n",
              "      <th>3</th>\n",
              "      <td>the characters in jonathan lynn's \" the whole ...</td>\n",
              "      <td>0</td>\n",
              "      <td>characters jonathan lynn's \" whole nine yards ...</td>\n",
              "      <td>38</td>\n",
              "      <td>26</td>\n",
              "      <td>1129</td>\n",
              "      <td>0.01</td>\n",
              "    </tr>\n",
              "    <tr>\n",
              "      <th>4</th>\n",
              "      <td>vikings v . bears ? \\nno , this isn't the line...</td>\n",
              "      <td>0</td>\n",
              "      <td>vikings v . bears ? , lineup monday night foot...</td>\n",
              "      <td>29</td>\n",
              "      <td>32</td>\n",
              "      <td>687</td>\n",
              "      <td>-0.00</td>\n",
              "    </tr>\n",
              "  </tbody>\n",
              "</table>\n",
              "</div>\n",
              "    <div class=\"colab-df-buttons\">\n",
              "\n",
              "  <div class=\"colab-df-container\">\n",
              "    <button class=\"colab-df-convert\" onclick=\"convertToInteractive('df-df853a4a-5a99-4dae-a9f2-772327cf50e3')\"\n",
              "            title=\"Convert this dataframe to an interactive table.\"\n",
              "            style=\"display:none;\">\n",
              "\n",
              "  <svg xmlns=\"http://www.w3.org/2000/svg\" height=\"24px\" viewBox=\"0 -960 960 960\">\n",
              "    <path d=\"M120-120v-720h720v720H120Zm60-500h600v-160H180v160Zm220 220h160v-160H400v160Zm0 220h160v-160H400v160ZM180-400h160v-160H180v160Zm440 0h160v-160H620v160ZM180-180h160v-160H180v160Zm440 0h160v-160H620v160Z\"/>\n",
              "  </svg>\n",
              "    </button>\n",
              "\n",
              "  <style>\n",
              "    .colab-df-container {\n",
              "      display:flex;\n",
              "      gap: 12px;\n",
              "    }\n",
              "\n",
              "    .colab-df-convert {\n",
              "      background-color: #E8F0FE;\n",
              "      border: none;\n",
              "      border-radius: 50%;\n",
              "      cursor: pointer;\n",
              "      display: none;\n",
              "      fill: #1967D2;\n",
              "      height: 32px;\n",
              "      padding: 0 0 0 0;\n",
              "      width: 32px;\n",
              "    }\n",
              "\n",
              "    .colab-df-convert:hover {\n",
              "      background-color: #E2EBFA;\n",
              "      box-shadow: 0px 1px 2px rgba(60, 64, 67, 0.3), 0px 1px 3px 1px rgba(60, 64, 67, 0.15);\n",
              "      fill: #174EA6;\n",
              "    }\n",
              "\n",
              "    .colab-df-buttons div {\n",
              "      margin-bottom: 4px;\n",
              "    }\n",
              "\n",
              "    [theme=dark] .colab-df-convert {\n",
              "      background-color: #3B4455;\n",
              "      fill: #D2E3FC;\n",
              "    }\n",
              "\n",
              "    [theme=dark] .colab-df-convert:hover {\n",
              "      background-color: #434B5C;\n",
              "      box-shadow: 0px 1px 3px 1px rgba(0, 0, 0, 0.15);\n",
              "      filter: drop-shadow(0px 1px 2px rgba(0, 0, 0, 0.3));\n",
              "      fill: #FFFFFF;\n",
              "    }\n",
              "  </style>\n",
              "\n",
              "    <script>\n",
              "      const buttonEl =\n",
              "        document.querySelector('#df-df853a4a-5a99-4dae-a9f2-772327cf50e3 button.colab-df-convert');\n",
              "      buttonEl.style.display =\n",
              "        google.colab.kernel.accessAllowed ? 'block' : 'none';\n",
              "\n",
              "      async function convertToInteractive(key) {\n",
              "        const element = document.querySelector('#df-df853a4a-5a99-4dae-a9f2-772327cf50e3');\n",
              "        const dataTable =\n",
              "          await google.colab.kernel.invokeFunction('convertToInteractive',\n",
              "                                                    [key], {});\n",
              "        if (!dataTable) return;\n",
              "\n",
              "        const docLinkHtml = 'Like what you see? Visit the ' +\n",
              "          '<a target=\"_blank\" href=https://colab.research.google.com/notebooks/data_table.ipynb>data table notebook</a>'\n",
              "          + ' to learn more about interactive tables.';\n",
              "        element.innerHTML = '';\n",
              "        dataTable['output_type'] = 'display_data';\n",
              "        await google.colab.output.renderOutput(dataTable, element);\n",
              "        const docLink = document.createElement('div');\n",
              "        docLink.innerHTML = docLinkHtml;\n",
              "        element.appendChild(docLink);\n",
              "      }\n",
              "    </script>\n",
              "  </div>\n",
              "\n",
              "\n",
              "<div id=\"df-f5b43547-1a1b-4376-905a-903163495894\">\n",
              "  <button class=\"colab-df-quickchart\" onclick=\"quickchart('df-f5b43547-1a1b-4376-905a-903163495894')\"\n",
              "            title=\"Suggest charts\"\n",
              "            style=\"display:none;\">\n",
              "\n",
              "<svg xmlns=\"http://www.w3.org/2000/svg\" height=\"24px\"viewBox=\"0 0 24 24\"\n",
              "     width=\"24px\">\n",
              "    <g>\n",
              "        <path d=\"M19 3H5c-1.1 0-2 .9-2 2v14c0 1.1.9 2 2 2h14c1.1 0 2-.9 2-2V5c0-1.1-.9-2-2-2zM9 17H7v-7h2v7zm4 0h-2V7h2v10zm4 0h-2v-4h2v4z\"/>\n",
              "    </g>\n",
              "</svg>\n",
              "  </button>\n",
              "\n",
              "<style>\n",
              "  .colab-df-quickchart {\n",
              "      --bg-color: #E8F0FE;\n",
              "      --fill-color: #1967D2;\n",
              "      --hover-bg-color: #E2EBFA;\n",
              "      --hover-fill-color: #174EA6;\n",
              "      --disabled-fill-color: #AAA;\n",
              "      --disabled-bg-color: #DDD;\n",
              "  }\n",
              "\n",
              "  [theme=dark] .colab-df-quickchart {\n",
              "      --bg-color: #3B4455;\n",
              "      --fill-color: #D2E3FC;\n",
              "      --hover-bg-color: #434B5C;\n",
              "      --hover-fill-color: #FFFFFF;\n",
              "      --disabled-bg-color: #3B4455;\n",
              "      --disabled-fill-color: #666;\n",
              "  }\n",
              "\n",
              "  .colab-df-quickchart {\n",
              "    background-color: var(--bg-color);\n",
              "    border: none;\n",
              "    border-radius: 50%;\n",
              "    cursor: pointer;\n",
              "    display: none;\n",
              "    fill: var(--fill-color);\n",
              "    height: 32px;\n",
              "    padding: 0;\n",
              "    width: 32px;\n",
              "  }\n",
              "\n",
              "  .colab-df-quickchart:hover {\n",
              "    background-color: var(--hover-bg-color);\n",
              "    box-shadow: 0 1px 2px rgba(60, 64, 67, 0.3), 0 1px 3px 1px rgba(60, 64, 67, 0.15);\n",
              "    fill: var(--button-hover-fill-color);\n",
              "  }\n",
              "\n",
              "  .colab-df-quickchart-complete:disabled,\n",
              "  .colab-df-quickchart-complete:disabled:hover {\n",
              "    background-color: var(--disabled-bg-color);\n",
              "    fill: var(--disabled-fill-color);\n",
              "    box-shadow: none;\n",
              "  }\n",
              "\n",
              "  .colab-df-spinner {\n",
              "    border: 2px solid var(--fill-color);\n",
              "    border-color: transparent;\n",
              "    border-bottom-color: var(--fill-color);\n",
              "    animation:\n",
              "      spin 1s steps(1) infinite;\n",
              "  }\n",
              "\n",
              "  @keyframes spin {\n",
              "    0% {\n",
              "      border-color: transparent;\n",
              "      border-bottom-color: var(--fill-color);\n",
              "      border-left-color: var(--fill-color);\n",
              "    }\n",
              "    20% {\n",
              "      border-color: transparent;\n",
              "      border-left-color: var(--fill-color);\n",
              "      border-top-color: var(--fill-color);\n",
              "    }\n",
              "    30% {\n",
              "      border-color: transparent;\n",
              "      border-left-color: var(--fill-color);\n",
              "      border-top-color: var(--fill-color);\n",
              "      border-right-color: var(--fill-color);\n",
              "    }\n",
              "    40% {\n",
              "      border-color: transparent;\n",
              "      border-right-color: var(--fill-color);\n",
              "      border-top-color: var(--fill-color);\n",
              "    }\n",
              "    60% {\n",
              "      border-color: transparent;\n",
              "      border-right-color: var(--fill-color);\n",
              "    }\n",
              "    80% {\n",
              "      border-color: transparent;\n",
              "      border-right-color: var(--fill-color);\n",
              "      border-bottom-color: var(--fill-color);\n",
              "    }\n",
              "    90% {\n",
              "      border-color: transparent;\n",
              "      border-bottom-color: var(--fill-color);\n",
              "    }\n",
              "  }\n",
              "</style>\n",
              "\n",
              "  <script>\n",
              "    async function quickchart(key) {\n",
              "      const quickchartButtonEl =\n",
              "        document.querySelector('#' + key + ' button');\n",
              "      quickchartButtonEl.disabled = true;  // To prevent multiple clicks.\n",
              "      quickchartButtonEl.classList.add('colab-df-spinner');\n",
              "      try {\n",
              "        const charts = await google.colab.kernel.invokeFunction(\n",
              "            'suggestCharts', [key], {});\n",
              "      } catch (error) {\n",
              "        console.error('Error during call to suggestCharts:', error);\n",
              "      }\n",
              "      quickchartButtonEl.classList.remove('colab-df-spinner');\n",
              "      quickchartButtonEl.classList.add('colab-df-quickchart-complete');\n",
              "    }\n",
              "    (() => {\n",
              "      let quickchartButtonEl =\n",
              "        document.querySelector('#df-f5b43547-1a1b-4376-905a-903163495894 button');\n",
              "      quickchartButtonEl.style.display =\n",
              "        google.colab.kernel.accessAllowed ? 'block' : 'none';\n",
              "    })();\n",
              "  </script>\n",
              "</div>\n",
              "\n",
              "    </div>\n",
              "  </div>\n"
            ],
            "text/plain": [
              "                                     reviews_content  category  \\\n",
              "0  airplane ! is considered among many to be the ...         1   \n",
              "1  you've got to love disney . \\nno matter what t...         1   \n",
              "2   \" the tailor of panama \" is a different kind ...         1   \n",
              "3  the characters in jonathan lynn's \" the whole ...         0   \n",
              "4  vikings v . bears ? \\nno , this isn't the line...         0   \n",
              "\n",
              "                                        preprocessed  pos_count  neg_count  \\\n",
              "0  airplane ! considered among many epitome satir...         18         24   \n",
              "1  got love disney . matter serve , guaranteed su...         52         30   \n",
              "2  \" tailor panama \" different kind spy movie . d...         45         21   \n",
              "3  characters jonathan lynn's \" whole nine yards ...         38         26   \n",
              "4  vikings v . bears ? , lineup monday night foot...         29         32   \n",
              "\n",
              "   total_len  sentiment  \n",
              "0        686      -0.01  \n",
              "1       1336       0.02  \n",
              "2        885       0.03  \n",
              "3       1129       0.01  \n",
              "4        687      -0.00  "
            ]
          },
          "execution_count": 137,
          "metadata": {},
          "output_type": "execute_result"
        }
      ],
      "source": [
        "train.head()"
      ]
    },
    {
      "cell_type": "markdown",
      "metadata": {
        "id": "ZqXWVHjAlcjl"
      },
      "source": [
        "sentiment score: (pos + neg)/ total length"
      ]
    },
    {
      "cell_type": "code",
      "execution_count": 138,
      "metadata": {
        "id": "dJuV0DsRUOJG"
      },
      "outputs": [],
      "source": [
        "train['sentiment'] = round((train['pos_count'] - train['neg_count']) / train['total_len'], 2)\n",
        "test['sentiment'] = round((test['pos_count'] - test['neg_count']) / test['total_len'], 2)"
      ]
    },
    {
      "cell_type": "code",
      "execution_count": 139,
      "metadata": {
        "colab": {
          "base_uri": "https://localhost:8080/",
          "height": 206
        },
        "id": "_OfcY1XRU0zl",
        "outputId": "a0660cd2-9213-4803-ff07-445836080e36"
      },
      "outputs": [
        {
          "data": {
            "application/vnd.google.colaboratory.intrinsic+json": {
              "summary": "{\n  \"name\": \"train\",\n  \"rows\": 1500,\n  \"fields\": [\n    {\n      \"column\": \"reviews_content\",\n      \"properties\": {\n        \"dtype\": \"string\",\n        \"num_unique_values\": 1500,\n        \"samples\": [\n          \"ok , let's get one thing straight right away : maximum risk is no battleship potemkin ( although it does have some russians in it ! ) , but it's not too bad , really . \\nit's the new film from ringo lam , the latest hong kong filmmaker to defect to hollywood , and stars that minor league schwartzeneggar from belgium , jean-claude van damme ( who , you will recall , also starred in john woo's maiden hollywood effort , hard target ) . \\nin lam's film , van damme plays alain moreau , a french cop ( at least his accent makes more sense here than it did in hard target ) who discovers that he was separated shortly after birth from a twin brother who was adopted by russians . \\nthese russians defected to the united states and moved into a black neighbourhood in new york ( where , i suppose , they thought they wouldn't be noticed ) . \\nthis brother , mikhail suverov ( played in his few scenes by . . . well , \\nyou know ) , becomes deeply involved in the russian mafia and the fbi ( almost the same thing , i guess ) , and is killed in france ( in the movie , things happen so fast that you don't have too much time to think about how weird this all is ) . \\nmoreau does what any good surviving twin brother would do and goes to new york to find out why mikhail was killed , and why everyone in france who knows anything about him is also being killed ( we wonder the same thing ; i still do ) . \\nin little odessa , he meets mikhail's girlfriend , alex ( natasha henstridge , last seen in species ) , who helps him solve the mystery and adds immeasurably to the mise-en-scene ( she has very nice breasts , and we get to seen them briefly in this movie ; it was rated r in the us but is pg here , so they must have seen more of her breasts than we do ) . \\nthis film lacks the gloss and high production values of such other action movies as broken arrow , the fugitive , hard target , or anything starring arnold , but that works to its benefit , i think . \\nafter all , one thing that's been missing from woo's hollywood films is that certain hong kong funkiness that we all know and love ( well , some of us do ) . \\nmovies like this shouldn't be too pretentious , and that is part of the problem with some of these other films : they try to be too \\\" big \\\" in terms of special effects and sheer spectacle . \\nmaximum risk has its share of car chases and explosions , but they don't overwhelm the movie or detract our attention from the narrative ( not too much , anyway ) . \\nthe emphasis throughout is on the characters and their interactions ( even if , at times , they don't make a hell of a lot of sense ) . \\nin fact , one of the more interesting aspects of the film is a minor character , a rather overeager new york cabbie ( frank van keeken from tv's \\\" kids in the hall \\\" ) , who begins as something of a joke but becomes an important part of the story . \\nunfortunately , by the time we have come to really get interested in him , he . . . well , \\nyou'll see . \\nthe movie also features some set pieces of the type that we have come to expect from lam and his hong kong compatriots . \\none is a fight in a russian sauna , with lots of sweaty , muscular male flesh ( this one will appeal to certain parts of the audience more than others ) , bullets in heads , and vodka . \\nanother , my personal favorite , is a fight in a meat packing house , featuring pig carcasses and a chainsaw . \\nand even the predictable car chases are more hong kong than hollywood , as they trash those quaint french cafes , vegetable carts , and , well , french people that , we all know in our hearts , deserve trashing just for being so damn quaint . \\nof course , the movie does have its share of silliness . \\nfor example , while beating the crap out of an obnoxious russian thug who obviously deserves what he's getting , alain stops long enough to look at his own reflection in the cracked mirror with which he has been whacking the guy on the head . \\nin an unnecessarily dramatic moment , he apparently is shocked at what he sees , at what he has become . \\nbut what has he become ? \\na tough cop who beats the hell out of a guy who tried to kill him ? \\ndoesn't sound too unreasonable to me , considering the genre . \\nbut let's face it , any time van damme tries to be dramatic , he looks silly . \\nso maximum risk is a little different from most other action films . \\nwhile watching it , i was surprised , and a little disappointed , in the relative lack of pyrotechnics . \\nbut watching some of these other action films is sort of like experiencing a sugar rush ; after the initial excitement , there's not much left . \\nalthough it's short on spectacle , lam's film leaves a better and more lasting impression , i think . \\ni'm more impressed by it now than i was while watching it , and to me , that's a good sign . \\ngo see maximum risk , but don't expect a typical hollywood action movie ; expect a sort of funky hong kong-hollywood action movie . \\nthe flying inkpot rating system : * wait for the tv2 broadcast . \\n * * a little creaky , but still better than staying at home with gotcha ! \\n * * * pretty good , bring a friend . \\n * * * * amazing , potent stuff . \\n * * * * * perfection . \\nsee it twice . \\ndr t . white teaches film at the english language and literature department of the national university of singapore , but we don't hold this against him . \\n\",\n          \"midway through \\\" anaconda \\\" , documentary filmmaker terri flores ( jennifer lopez ) turns to a co-worker and says \\\" i thought this movie would be my first big break . \\ninstead , it's turned into a disaster . \\\" \\ntruer words have never been spoken . \\n \\\" anaconda \\\" is a monster movie with a lousy monster . \\nit's a suspense film that is utterly predictable . \\nit's a mess the film does manage to drum up some scares , but only in the most elementary way , like a jack-in-the-box . \\nas you turn the crank , you're totally aware that the damn clown is going to pop up , but somehow it's still mildly startling when it happens . \\nthe main difference between the giant snake in \\\" anaconda \\\" and the clown in a jack-in-the-box is that the clown is more realistic . \\n \\\" anaconda \\\" boasts some of the worst special effects to appear onscreen in years . \\nanimatronic shots of the snake look as phony as any of those cringe- inducing robots you've endured at disney world . \\nbut it's the computer animated scenes that truly expand the meaning of the word lame . \\nin one shot , a character tries to flee from the monster by diving from a tree near a waterfall , but the giant snake springs out and loops around its hapless victim in mid air . \\nthe scene , if done well , would have been a jaw- dropper . \\nhere , the horribly bad digital effects look less convincing than a saturday morning cartoon . \\nwhat's really amazing is that the filmmaker's were so proud of this dreadful shot that they actually included it in the promotional trailers for the movie . \\nbut enough about the phony snakes . \\nnow it's time to talk about the lousy story . \\nheroic and very pale anthropologist eric stoltz leads a documentary film crew down a brazilian river in search of the shirishama indians , a legendary tribe that supposedly lives in the boondocks of the rain forest . \\nstoltz tells his crew \\\" pray that you didn't forget your bug spray . \\\" \\napparently the female crew members bathed in the stuff , because they spend most of the film wearing skimpy tops and short shorts with no ill effect . \\nalong the way , the group rescues a whacked-out lapsed priest ( jon voight ) who claims to know how to find the shirishama . \\nwithin minutes , they throw away all their plans and follow voight down a tributary into the land of creepiness . \\nfrom that point on , the film is a hodgepodge of scenes and shots ripped off from \\\" jaws \\\" and \\\" dead calm . \\\" \\none of the oddest structural points of the film is the handling of eric stoltz . \\nearly in the story , his character gets knocked into a coma by a river insect and spends virtually the rest of the movie unconscious . \\nso why did they hire an actor of the caliber of stoltz for what amounts to a cameo appearance ? \\nalso , why did stoltz , who generally selects his roles with great care , agree to appear in this crap ? \\nah , the mysteries of hollywood . \\nthe remaining crew members are basically just snake food waiting to happen . \\njonathan hyde is mildly diverting as a pompous englishman hired to narrate the documentary , but lopez and ice cube manage to rise above their cardboard characters . \\nlopez , who starred in \\\" selena , \\\" is an enormously appealing performer , possessing a vibrancy that makes even the most trite lines seem credible . \\nice cube has a special charisma ; an ability to look like a macho adult and a frightened boy simultaneously . \\nthere's also a special twinkle in his eyes , as if he's gently mocking his own tough-guy posturing . \\nbut the movie really centers around the outrageously hammy performance of jon voight . \\nobsessed with capturing one of the giant anacondas , voight plays the villain in thick accent , with a series of leers and hisses , spouting the kind of dialogue usually heard only in episodes of \\\" jonny quest . \\\" \\nat one point , he looms over the crew and says \\\" the anaconda is the perfect killing machine . \\nit strikes , wraps around you , holds you tighter than your true love . \\nand you get the privilege of hearing your bones break before the power of its embrace causes your veins to explode . \\n \\\" that moment is so high-camp that it almost made the film tolerable . \\nalmost . \\nfans of the horror genre may be tempted to check out \\\" anaconda . \\\" \\ndon't . \\nthere are a lots of horror films scheduled for release this summer , including another \\\" alien \\\" sequel . \\nwait for them , rent \\\" jaws \\\" in the meantime , and don't throw away your money and time on drivel like this . \\n\",\n          \"i was fortunate enough to attend an advance screening for the upcoming thriller conspiracy theory . \\nthis was , of course , a big deal for me because reviewing movies is basically just a hobby for me and i never get a chance at something like this . \\nnot only did i get to see an advance screening , i was able to see an advance screening of a * very good * movie . \\nthe very fast-paced film stars mel gibson as jerry fletcher , a fast-talking , witty , comical taxi driver in new york city . \\ngibson's performance is terrific , and his character is similar to that of martin riggs in the lethal weapon films . \\ngibson again teams up with richard donner , as he did in the lethal weapon films and maverick , and this time around , the combination works even better . \\nthe character of jerry fletcher is indeed unique . \\ntry to imagine a toned-downed version of travis bickle who , this time around , is a jittery guy with knowledge of government conspiracy cover-ups . \\nif you can imagine that , then you've basically got jerry fletcher . \\nin many ways , i was surprised by this movie . \\nto begin with , i was surprised at how good it was . \\ndon't get me wrong , it's not going to be accepting any gold trophies next spring , but it was a very enjoyable movie . \\nsecondly , i was surprised at mel gibson's performance . \\nhe provided a fantastic performance . \\nthe previews of this film led me to believe it was an all-out action flick , which after viewing , it was almost the opposite in a certain sense . \\ngibson's character has an almost uncountable number of one-liners , hilarious situations , and his character is one that the audience tends to side with throughout the film . \\nfor instance , jerry's apartment ( and especially his security ) is memorable . \\nand last , i was surprised at how good the plot is . \\nwriter brian helgeland has created a terrific story , and when watching this film , you are left to wonder if all of jerry fletcher's far-fetched ( or so they seem at first ) conspiracy theories are helgeland's own opinions . \\nmel gibson isn't the only stand-out in the film . \\njulia roberts is very good in her performance as alice sutton , the department of justice employee who can't seem to stay away from jerry fletcher , who continually visits alice in hopes that she will do something about his theories . \\nhe also seems obsessed and in love with her . \\nbut whenever he approaches her with another one of his theories , she shrugs him and his beliefs off , continually noting that one day she is going to slap a restraining order on him . \\njerry , obviously determined to continually seek out the truth , continues to research information for his next conspiracy theory , which will be printed in his newsletter ( same title as the movie ) . \\nalthough he only has five subscribers , he puts a large amount of time and effort into his work , and publishes his next edition . \\nvery soon after he does so , he is abducted and tortured by a sinister man who refers to himself as dr . jonas ( patrick stewart ) . \\nafter barely escaping alive , jerry is forced to turn to the only person he can trust : alice sutton . \\nthe remainder of the film is almost always fast-paced and full of action and suspense , with jerry's life being constantly put into jeopardy . \\nand more along the way , the audience ( and alice ) learn more and more about jerry's life . \\nmany things are explained throughout this film , both to the characters and to the audience . \\nfor instance , the meaning of the book \\\" the catcher in the rye \\\" and its ties to assassins , the reason lone gunmen have three names ( e . g . \\nlee harvey oswald and james earl ray ) , and the real truth behind the grateful dead . \\nmake sure listen closely throughout the film , as jerry is constantly throwing out interesting tidbits such as the above . \\ndefinitely , when conspiracy theory hits theaters august 8th , make sure you are standing in line to see it . \\ni am nearly positive everyone should enjoy this film , especially if you are into an action-thriller with witty dialogue and numerous suspenseful situations . \\nand even if you aren't , you should still like this film . \\n\"\n        ],\n        \"semantic_type\": \"\",\n        \"description\": \"\"\n      }\n    },\n    {\n      \"column\": \"category\",\n      \"properties\": {\n        \"dtype\": \"number\",\n        \"std\": 0,\n        \"min\": 0,\n        \"max\": 1,\n        \"num_unique_values\": 2,\n        \"samples\": [\n          0,\n          1\n        ],\n        \"semantic_type\": \"\",\n        \"description\": \"\"\n      }\n    },\n    {\n      \"column\": \"preprocessed\",\n      \"properties\": {\n        \"dtype\": \"string\",\n        \"num_unique_values\": 1500,\n        \"samples\": [\n          \"ok , let's get one thing straight right away : maximum risk battleship potemkin ( although russians ! Confusion , bad , really . new film ringo lam , latest hong kong filmmaker defect hollywood , stars minor league schwartzeneggar belgium , jean-claude van damme ( , recall , also starred john woo's maiden hollywood effort , hard target Confusion . lam's film , van damme plays alain moreau , french cop ( least accent makes sense hard target Confusion discovers separated shortly birth twin brother adopted russians . russians defected united states moved black neighbourhood new york ( , suppose , thought noticed Confusion . brother , mikhail suverov ( played scenes . . . well , know Confusion , becomes deeply involved russian mafia fbi ( almost thing , guess Confusion , killed france ( movie , things happen fast much time think weird Confusion . moreau good surviving twin brother would goes new york find mikhail killed , everyone france knows anything also killed ( wonder thing ; still Confusion . little odessa , meets mikhail's girlfriend , alex ( natasha henstridge , last seen species Confusion , helps solve mystery adds immeasurably mise-en-scene ( nice breasts , get seen briefly movie ; rated r us pg , must seen breasts Confusion . film lacks gloss high production values action movies broken arrow , fugitive , hard target , anything starring arnold , works benefit , think . , one thing that's missing woo's hollywood films certain hong kong funkiness know love ( well , us Confusion . movies like pretentious , part problem films : try \\\" big \\\" terms special effects sheer spectacle . maximum risk share car chases explosions , overwhelm movie detract attention narrative ( much , anyway Confusion . emphasis throughout characters interactions ( even , times , make hell lot sense Confusion . fact , one interesting aspects film minor character , rather overeager new york cabbie ( frank van keeken tv's \\\" kids hall \\\" Confusion , begins something joke becomes important part story . unfortunately , time come really get interested , . . . well , see . movie also features set pieces type come expect lam hong kong compatriots . one fight russian sauna , lots sweaty , muscular male flesh ( one appeal certain parts audience others Confusion , bullets heads , vodka . another , personal favorite , fight meat packing house , featuring pig carcasses chainsaw . even predictable car chases hong kong hollywood , trash quaint french cafes , vegetable carts , , well , french people , know hearts , deserve trashing damn quaint . course , movie share silliness . example , beating crap obnoxious russian thug obviously deserves he's getting , alain stops long enough look reflection cracked mirror whacking guy head . unnecessarily dramatic moment , apparently shocked sees , become . become ? tough cop beats hell guy tried kill ? sound unreasonable , considering genre . let's face , time van damme tries dramatic , looks silly . maximum risk little different action films . watching , surprised , little disappointed , relative lack pyrotechnics . watching action films sort like experiencing sugar rush ; initial excitement , there's much left . although short spectacle , lam's film leaves better lasting impression , think . i'm impressed watching , , that's good sign . go see maximum risk , expect typical hollywood action movie ; expect sort funky hong kong-hollywood action movie . flying inkpot rating system : * wait tv2 broadcast . * * little creaky , still better staying home gotcha ! * * * pretty good , bring friend . * * * * amazing , potent stuff . * * * * * perfection . see twice . dr . white teaches film english language literature department national university singapore , hold .\",\n          \"midway \\\" anaconda \\\" , documentary filmmaker terri flores ( jennifer lopez Confusion turns co-worker says \\\" thought movie would first big break . instead , turned disaster . \\\" truer words never spoken . \\\" anaconda \\\" monster movie lousy monster . suspense film utterly predictable . mess film manage drum scares , elementary way , like jack-in-the-box . turn crank , totally aware damn clown going pop , somehow still mildly startling happens . main difference giant snake \\\" anaconda \\\" clown jack-in-the-box clown realistic . \\\" anaconda \\\" boasts worst special effects appear onscreen years . animatronic shots snake look phony cringe- inducing robots endured disney world . computer animated scenes truly expand meaning word lame . one shot , character tries flee monster diving tree near waterfall , giant snake springs loops around hapless victim mid air . scene , done well , would jaw- dropper . , horribly bad digital effects look less convincing saturday morning cartoon . what's really amazing filmmaker's proud dreadful shot actually included promotional trailers movie . enough phony snakes . time talk lousy story . heroic pale anthropologist eric stoltz leads documentary film crew brazilian river search shirishama indians , legendary tribe supposedly lives boondocks rain forest . stoltz tells crew \\\" pray forget bug spray . \\\" apparently female crew members bathed stuff , spend film wearing skimpy tops short shorts ill effect . along way , group rescues whacked-out lapsed priest ( jon voight Confusion claims know find shirishama . within minutes , throw away plans follow voight tributary land creepiness . point , film hodgepodge scenes shots ripped \\\" jaws \\\" \\\" dead calm . \\\" one oddest structural points film handling eric stoltz . early story , character gets knocked coma river insect spends virtually rest movie unconscious . hire actor caliber stoltz amounts cameo appearance ? also , stoltz , generally selects roles great care , agree appear crap ? ah , mysteries hollywood . remaining crew members basically snake food waiting happen . jonathan hyde mildly diverting pompous englishman hired narrate documentary , lopez ice cube manage rise cardboard characters . lopez , starred \\\" selena , \\\" enormously appealing performer , possessing vibrancy makes even trite lines seem credible . ice cube special charisma ; ability look like macho adult frightened boy simultaneously . there's also special twinkle eyes , he's gently mocking tough-guy posturing . movie really centers around outrageously hammy performance jon voight . obsessed capturing one giant anacondas , voight plays villain thick accent , series leers hisses , spouting kind dialogue usually heard episodes \\\" jonny quest . \\\" one point , looms crew says \\\" anaconda perfect killing machine . strikes , wraps around , holds tighter true love . get privilege hearing bones break power embrace causes veins explode . \\\" moment high-camp almost made film tolerable . almost . fans horror genre may tempted check \\\" anaconda . \\\" . lots horror films scheduled release summer , including another \\\" alien \\\" sequel . wait , rent \\\" jaws \\\" meantime , throw away money time drivel like .\"\n        ],\n        \"semantic_type\": \"\",\n        \"description\": \"\"\n      }\n    },\n    {\n      \"column\": \"pos_count\",\n      \"properties\": {\n        \"dtype\": \"number\",\n        \"std\": 13,\n        \"min\": 0,\n        \"max\": 103,\n        \"num_unique_values\": 79,\n        \"samples\": [\n          46,\n          18\n        ],\n        \"semantic_type\": \"\",\n        \"description\": \"\"\n      }\n    },\n    {\n      \"column\": \"neg_count\",\n      \"properties\": {\n        \"dtype\": \"number\",\n        \"std\": 11,\n        \"min\": 0,\n        \"max\": 75,\n        \"num_unique_values\": 67,\n        \"samples\": [\n          29,\n          11\n        ],\n        \"semantic_type\": \"\",\n        \"description\": \"\"\n      }\n    },\n    {\n      \"column\": \"total_len\",\n      \"properties\": {\n        \"dtype\": \"number\",\n        \"std\": 320,\n        \"min\": 17,\n        \"max\": 2529,\n        \"num_unique_values\": 803,\n        \"samples\": [\n          513,\n          520\n        ],\n        \"semantic_type\": \"\",\n        \"description\": \"\"\n      }\n    },\n    {\n      \"column\": \"sentiment\",\n      \"properties\": {\n        \"dtype\": \"number\",\n        \"std\": 0.017888915499662303,\n        \"min\": -0.12,\n        \"max\": 0.08,\n        \"num_unique_values\": 15,\n        \"samples\": [\n          0.04,\n          0.06\n        ],\n        \"semantic_type\": \"\",\n        \"description\": \"\"\n      }\n    }\n  ]\n}",
              "type": "dataframe",
              "variable_name": "train"
            },
            "text/html": [
              "\n",
              "  <div id=\"df-060f0d5f-a7fa-43a1-b580-380ec4cb8dcb\" class=\"colab-df-container\">\n",
              "    <div>\n",
              "<style scoped>\n",
              "    .dataframe tbody tr th:only-of-type {\n",
              "        vertical-align: middle;\n",
              "    }\n",
              "\n",
              "    .dataframe tbody tr th {\n",
              "        vertical-align: top;\n",
              "    }\n",
              "\n",
              "    .dataframe thead th {\n",
              "        text-align: right;\n",
              "    }\n",
              "</style>\n",
              "<table border=\"1\" class=\"dataframe\">\n",
              "  <thead>\n",
              "    <tr style=\"text-align: right;\">\n",
              "      <th></th>\n",
              "      <th>reviews_content</th>\n",
              "      <th>category</th>\n",
              "      <th>preprocessed</th>\n",
              "      <th>pos_count</th>\n",
              "      <th>neg_count</th>\n",
              "      <th>total_len</th>\n",
              "      <th>sentiment</th>\n",
              "    </tr>\n",
              "  </thead>\n",
              "  <tbody>\n",
              "    <tr>\n",
              "      <th>0</th>\n",
              "      <td>airplane ! is considered among many to be the ...</td>\n",
              "      <td>1</td>\n",
              "      <td>airplane ! considered among many epitome satir...</td>\n",
              "      <td>18</td>\n",
              "      <td>24</td>\n",
              "      <td>686</td>\n",
              "      <td>-0.01</td>\n",
              "    </tr>\n",
              "    <tr>\n",
              "      <th>1</th>\n",
              "      <td>you've got to love disney . \\nno matter what t...</td>\n",
              "      <td>1</td>\n",
              "      <td>got love disney . matter serve , guaranteed su...</td>\n",
              "      <td>52</td>\n",
              "      <td>30</td>\n",
              "      <td>1336</td>\n",
              "      <td>0.02</td>\n",
              "    </tr>\n",
              "    <tr>\n",
              "      <th>2</th>\n",
              "      <td>\" the tailor of panama \" is a different kind ...</td>\n",
              "      <td>1</td>\n",
              "      <td>\" tailor panama \" different kind spy movie . d...</td>\n",
              "      <td>45</td>\n",
              "      <td>21</td>\n",
              "      <td>885</td>\n",
              "      <td>0.03</td>\n",
              "    </tr>\n",
              "    <tr>\n",
              "      <th>3</th>\n",
              "      <td>the characters in jonathan lynn's \" the whole ...</td>\n",
              "      <td>0</td>\n",
              "      <td>characters jonathan lynn's \" whole nine yards ...</td>\n",
              "      <td>38</td>\n",
              "      <td>26</td>\n",
              "      <td>1129</td>\n",
              "      <td>0.01</td>\n",
              "    </tr>\n",
              "    <tr>\n",
              "      <th>4</th>\n",
              "      <td>vikings v . bears ? \\nno , this isn't the line...</td>\n",
              "      <td>0</td>\n",
              "      <td>vikings v . bears ? , lineup monday night foot...</td>\n",
              "      <td>29</td>\n",
              "      <td>32</td>\n",
              "      <td>687</td>\n",
              "      <td>-0.00</td>\n",
              "    </tr>\n",
              "  </tbody>\n",
              "</table>\n",
              "</div>\n",
              "    <div class=\"colab-df-buttons\">\n",
              "\n",
              "  <div class=\"colab-df-container\">\n",
              "    <button class=\"colab-df-convert\" onclick=\"convertToInteractive('df-060f0d5f-a7fa-43a1-b580-380ec4cb8dcb')\"\n",
              "            title=\"Convert this dataframe to an interactive table.\"\n",
              "            style=\"display:none;\">\n",
              "\n",
              "  <svg xmlns=\"http://www.w3.org/2000/svg\" height=\"24px\" viewBox=\"0 -960 960 960\">\n",
              "    <path d=\"M120-120v-720h720v720H120Zm60-500h600v-160H180v160Zm220 220h160v-160H400v160Zm0 220h160v-160H400v160ZM180-400h160v-160H180v160Zm440 0h160v-160H620v160ZM180-180h160v-160H180v160Zm440 0h160v-160H620v160Z\"/>\n",
              "  </svg>\n",
              "    </button>\n",
              "\n",
              "  <style>\n",
              "    .colab-df-container {\n",
              "      display:flex;\n",
              "      gap: 12px;\n",
              "    }\n",
              "\n",
              "    .colab-df-convert {\n",
              "      background-color: #E8F0FE;\n",
              "      border: none;\n",
              "      border-radius: 50%;\n",
              "      cursor: pointer;\n",
              "      display: none;\n",
              "      fill: #1967D2;\n",
              "      height: 32px;\n",
              "      padding: 0 0 0 0;\n",
              "      width: 32px;\n",
              "    }\n",
              "\n",
              "    .colab-df-convert:hover {\n",
              "      background-color: #E2EBFA;\n",
              "      box-shadow: 0px 1px 2px rgba(60, 64, 67, 0.3), 0px 1px 3px 1px rgba(60, 64, 67, 0.15);\n",
              "      fill: #174EA6;\n",
              "    }\n",
              "\n",
              "    .colab-df-buttons div {\n",
              "      margin-bottom: 4px;\n",
              "    }\n",
              "\n",
              "    [theme=dark] .colab-df-convert {\n",
              "      background-color: #3B4455;\n",
              "      fill: #D2E3FC;\n",
              "    }\n",
              "\n",
              "    [theme=dark] .colab-df-convert:hover {\n",
              "      background-color: #434B5C;\n",
              "      box-shadow: 0px 1px 3px 1px rgba(0, 0, 0, 0.15);\n",
              "      filter: drop-shadow(0px 1px 2px rgba(0, 0, 0, 0.3));\n",
              "      fill: #FFFFFF;\n",
              "    }\n",
              "  </style>\n",
              "\n",
              "    <script>\n",
              "      const buttonEl =\n",
              "        document.querySelector('#df-060f0d5f-a7fa-43a1-b580-380ec4cb8dcb button.colab-df-convert');\n",
              "      buttonEl.style.display =\n",
              "        google.colab.kernel.accessAllowed ? 'block' : 'none';\n",
              "\n",
              "      async function convertToInteractive(key) {\n",
              "        const element = document.querySelector('#df-060f0d5f-a7fa-43a1-b580-380ec4cb8dcb');\n",
              "        const dataTable =\n",
              "          await google.colab.kernel.invokeFunction('convertToInteractive',\n",
              "                                                    [key], {});\n",
              "        if (!dataTable) return;\n",
              "\n",
              "        const docLinkHtml = 'Like what you see? Visit the ' +\n",
              "          '<a target=\"_blank\" href=https://colab.research.google.com/notebooks/data_table.ipynb>data table notebook</a>'\n",
              "          + ' to learn more about interactive tables.';\n",
              "        element.innerHTML = '';\n",
              "        dataTable['output_type'] = 'display_data';\n",
              "        await google.colab.output.renderOutput(dataTable, element);\n",
              "        const docLink = document.createElement('div');\n",
              "        docLink.innerHTML = docLinkHtml;\n",
              "        element.appendChild(docLink);\n",
              "      }\n",
              "    </script>\n",
              "  </div>\n",
              "\n",
              "\n",
              "<div id=\"df-321ace95-481d-4ed5-8a26-e98433090456\">\n",
              "  <button class=\"colab-df-quickchart\" onclick=\"quickchart('df-321ace95-481d-4ed5-8a26-e98433090456')\"\n",
              "            title=\"Suggest charts\"\n",
              "            style=\"display:none;\">\n",
              "\n",
              "<svg xmlns=\"http://www.w3.org/2000/svg\" height=\"24px\"viewBox=\"0 0 24 24\"\n",
              "     width=\"24px\">\n",
              "    <g>\n",
              "        <path d=\"M19 3H5c-1.1 0-2 .9-2 2v14c0 1.1.9 2 2 2h14c1.1 0 2-.9 2-2V5c0-1.1-.9-2-2-2zM9 17H7v-7h2v7zm4 0h-2V7h2v10zm4 0h-2v-4h2v4z\"/>\n",
              "    </g>\n",
              "</svg>\n",
              "  </button>\n",
              "\n",
              "<style>\n",
              "  .colab-df-quickchart {\n",
              "      --bg-color: #E8F0FE;\n",
              "      --fill-color: #1967D2;\n",
              "      --hover-bg-color: #E2EBFA;\n",
              "      --hover-fill-color: #174EA6;\n",
              "      --disabled-fill-color: #AAA;\n",
              "      --disabled-bg-color: #DDD;\n",
              "  }\n",
              "\n",
              "  [theme=dark] .colab-df-quickchart {\n",
              "      --bg-color: #3B4455;\n",
              "      --fill-color: #D2E3FC;\n",
              "      --hover-bg-color: #434B5C;\n",
              "      --hover-fill-color: #FFFFFF;\n",
              "      --disabled-bg-color: #3B4455;\n",
              "      --disabled-fill-color: #666;\n",
              "  }\n",
              "\n",
              "  .colab-df-quickchart {\n",
              "    background-color: var(--bg-color);\n",
              "    border: none;\n",
              "    border-radius: 50%;\n",
              "    cursor: pointer;\n",
              "    display: none;\n",
              "    fill: var(--fill-color);\n",
              "    height: 32px;\n",
              "    padding: 0;\n",
              "    width: 32px;\n",
              "  }\n",
              "\n",
              "  .colab-df-quickchart:hover {\n",
              "    background-color: var(--hover-bg-color);\n",
              "    box-shadow: 0 1px 2px rgba(60, 64, 67, 0.3), 0 1px 3px 1px rgba(60, 64, 67, 0.15);\n",
              "    fill: var(--button-hover-fill-color);\n",
              "  }\n",
              "\n",
              "  .colab-df-quickchart-complete:disabled,\n",
              "  .colab-df-quickchart-complete:disabled:hover {\n",
              "    background-color: var(--disabled-bg-color);\n",
              "    fill: var(--disabled-fill-color);\n",
              "    box-shadow: none;\n",
              "  }\n",
              "\n",
              "  .colab-df-spinner {\n",
              "    border: 2px solid var(--fill-color);\n",
              "    border-color: transparent;\n",
              "    border-bottom-color: var(--fill-color);\n",
              "    animation:\n",
              "      spin 1s steps(1) infinite;\n",
              "  }\n",
              "\n",
              "  @keyframes spin {\n",
              "    0% {\n",
              "      border-color: transparent;\n",
              "      border-bottom-color: var(--fill-color);\n",
              "      border-left-color: var(--fill-color);\n",
              "    }\n",
              "    20% {\n",
              "      border-color: transparent;\n",
              "      border-left-color: var(--fill-color);\n",
              "      border-top-color: var(--fill-color);\n",
              "    }\n",
              "    30% {\n",
              "      border-color: transparent;\n",
              "      border-left-color: var(--fill-color);\n",
              "      border-top-color: var(--fill-color);\n",
              "      border-right-color: var(--fill-color);\n",
              "    }\n",
              "    40% {\n",
              "      border-color: transparent;\n",
              "      border-right-color: var(--fill-color);\n",
              "      border-top-color: var(--fill-color);\n",
              "    }\n",
              "    60% {\n",
              "      border-color: transparent;\n",
              "      border-right-color: var(--fill-color);\n",
              "    }\n",
              "    80% {\n",
              "      border-color: transparent;\n",
              "      border-right-color: var(--fill-color);\n",
              "      border-bottom-color: var(--fill-color);\n",
              "    }\n",
              "    90% {\n",
              "      border-color: transparent;\n",
              "      border-bottom-color: var(--fill-color);\n",
              "    }\n",
              "  }\n",
              "</style>\n",
              "\n",
              "  <script>\n",
              "    async function quickchart(key) {\n",
              "      const quickchartButtonEl =\n",
              "        document.querySelector('#' + key + ' button');\n",
              "      quickchartButtonEl.disabled = true;  // To prevent multiple clicks.\n",
              "      quickchartButtonEl.classList.add('colab-df-spinner');\n",
              "      try {\n",
              "        const charts = await google.colab.kernel.invokeFunction(\n",
              "            'suggestCharts', [key], {});\n",
              "      } catch (error) {\n",
              "        console.error('Error during call to suggestCharts:', error);\n",
              "      }\n",
              "      quickchartButtonEl.classList.remove('colab-df-spinner');\n",
              "      quickchartButtonEl.classList.add('colab-df-quickchart-complete');\n",
              "    }\n",
              "    (() => {\n",
              "      let quickchartButtonEl =\n",
              "        document.querySelector('#df-321ace95-481d-4ed5-8a26-e98433090456 button');\n",
              "      quickchartButtonEl.style.display =\n",
              "        google.colab.kernel.accessAllowed ? 'block' : 'none';\n",
              "    })();\n",
              "  </script>\n",
              "</div>\n",
              "\n",
              "    </div>\n",
              "  </div>\n"
            ],
            "text/plain": [
              "                                     reviews_content  category  \\\n",
              "0  airplane ! is considered among many to be the ...         1   \n",
              "1  you've got to love disney . \\nno matter what t...         1   \n",
              "2   \" the tailor of panama \" is a different kind ...         1   \n",
              "3  the characters in jonathan lynn's \" the whole ...         0   \n",
              "4  vikings v . bears ? \\nno , this isn't the line...         0   \n",
              "\n",
              "                                        preprocessed  pos_count  neg_count  \\\n",
              "0  airplane ! considered among many epitome satir...         18         24   \n",
              "1  got love disney . matter serve , guaranteed su...         52         30   \n",
              "2  \" tailor panama \" different kind spy movie . d...         45         21   \n",
              "3  characters jonathan lynn's \" whole nine yards ...         38         26   \n",
              "4  vikings v . bears ? , lineup monday night foot...         29         32   \n",
              "\n",
              "   total_len  sentiment  \n",
              "0        686      -0.01  \n",
              "1       1336       0.02  \n",
              "2        885       0.03  \n",
              "3       1129       0.01  \n",
              "4        687      -0.00  "
            ]
          },
          "execution_count": 139,
          "metadata": {},
          "output_type": "execute_result"
        }
      ],
      "source": [
        "train.head()"
      ]
    },
    {
      "cell_type": "markdown",
      "metadata": {
        "id": "VrRi1rjGU8YD"
      },
      "source": [
        "# Building SVM"
      ]
    },
    {
      "cell_type": "code",
      "execution_count": 140,
      "metadata": {
        "id": "lvFikrQGU1br"
      },
      "outputs": [],
      "source": [
        "from sklearn.feature_extraction.text import TfidfVectorizer\n",
        "from sklearn.preprocessing import StandardScaler\n",
        "from scipy.sparse import hstack"
      ]
    },
    {
      "cell_type": "code",
      "execution_count": 141,
      "metadata": {
        "id": "oiPcW2GzVAYJ"
      },
      "outputs": [],
      "source": [
        "vectorizer = TfidfVectorizer(\n",
        "    min_df=5,\n",
        "    max_df=0.8,\n",
        "    sublinear_tf=True,\n",
        "    use_idf=True,\n",
        ")\n",
        "\n",
        "train_vectors = vectorizer.fit_transform(train['preprocessed'])\n",
        "test_vectors = vectorizer.transform(test['preprocessed'])"
      ]
    },
    {
      "cell_type": "code",
      "execution_count": 142,
      "metadata": {
        "id": "7i21rgvSXuKf"
      },
      "outputs": [],
      "source": [
        "# For no feature engineering\n",
        "train_features = train_vectors\n",
        "test_features = test_vectors"
      ]
    },
    {
      "cell_type": "code",
      "execution_count": 107,
      "metadata": {
        "id": "nBV3TZMmVFT_"
      },
      "outputs": [],
      "source": [
        "# Normlize the features\n",
        "scaler = StandardScaler()\n",
        "train_numerical_features = scaler.fit_transform(train[['pos_count', 'neg_count', 'sentiment']])\n",
        "test_numerical_features = scaler.transform(test[['pos_count', 'neg_count', 'sentiment']])\n",
        "\n",
        "# Combine the text and features\n",
        "train_features = hstack([train_vectors, train_numerical_features])\n",
        "test_features = hstack([test_vectors, test_numerical_features])"
      ]
    },
    {
      "cell_type": "code",
      "execution_count": 149,
      "metadata": {
        "colab": {
          "base_uri": "https://localhost:8080/"
        },
        "id": "eBAVxOewqBlG",
        "outputId": "5adcdcf1-83ab-46f2-c5d0-b8cfc67da247"
      },
      "outputs": [
        {
          "data": {
            "text/plain": [
              "array([[-0.64413193,  0.18637053, -0.93235914],\n",
              "       [ 1.83423311,  0.70168075,  0.74521628],\n",
              "       [ 1.32398148, -0.07128458,  1.30440809],\n",
              "       ...,\n",
              "       [-1.08149047, -1.01601999, -0.37316733],\n",
              "       [-1.37306283, -1.01601999, -0.93235914],\n",
              "       [ 1.25108839,  2.84880668, -0.93235914]])"
            ]
          },
          "execution_count": 149,
          "metadata": {},
          "output_type": "execute_result"
        }
      ],
      "source": [
        "train_numerical_features"
      ]
    },
    {
      "cell_type": "code",
      "execution_count": 143,
      "metadata": {
        "colab": {
          "base_uri": "https://localhost:8080/"
        },
        "id": "pvm2Ly2VVSUB",
        "outputId": "5a70b4f5-5ca7-4a2d-c317-3026242a0bca"
      },
      "outputs": [
        {
          "name": "stdout",
          "output_type": "stream",
          "text": [
            "train shape:  (1350, 11036)\n",
            "val shape:  (150, 11036)\n"
          ]
        }
      ],
      "source": [
        "# Split data\n",
        "train_length = int(train_features.shape[0] * 0.9)\n",
        "train_data = train_features.toarray()[:train_length, :]\n",
        "val_data = train_features.toarray()[train_length:, :]\n",
        "\n",
        "print('train shape: ', train_data.shape)\n",
        "print('val shape: ', val_data.shape)"
      ]
    },
    {
      "cell_type": "code",
      "execution_count": 144,
      "metadata": {
        "id": "enQoTzyNWEST"
      },
      "outputs": [],
      "source": [
        "# Encode the label\n",
        "le = LabelEncoder()\n",
        "train['category'] = le.fit_transform(train['category'])\n",
        "\n",
        "train_label = train['category'].iloc[:train_length]\n",
        "val_label = train['category'].iloc[train_length:]"
      ]
    },
    {
      "cell_type": "code",
      "execution_count": 145,
      "metadata": {
        "id": "nD3HWyvhVYQg"
      },
      "outputs": [],
      "source": [
        "import time\n",
        "from sklearn import svm\n",
        "from sklearn.metrics import classification_report"
      ]
    },
    {
      "cell_type": "code",
      "execution_count": 146,
      "metadata": {
        "id": "IPrnp8-ggjti"
      },
      "outputs": [],
      "source": [
        "# # parameter searching\n",
        "# from sklearn.model_selection import GridSearchCV\n",
        "\n",
        "# svm_clf = svm.SVC(kernel='linear')\n",
        "\n",
        "# param_grid = {'C': [0.1, 1, 10, 100, 1000],\n",
        "#               'gamma': [0.001, 0.01, 0.1, 1, 10]}\n",
        "\n",
        "# grid_search = GridSearchCV(svm_clf, param_grid, cv=5, scoring='f1_macro')\n",
        "# grid_search.fit(train_data, train_label)\n",
        "\n",
        "# print(\"Best parameters: \", grid_search.best_params_)\n",
        "# print(\"Best score: \", grid_search.best_score_)"
      ]
    },
    {
      "cell_type": "code",
      "execution_count": 147,
      "metadata": {
        "colab": {
          "base_uri": "https://localhost:8080/"
        },
        "id": "j59Rc1zTV7NE",
        "outputId": "ec84d65c-01b1-4172-a861-d342cf23db61"
      },
      "outputs": [
        {
          "name": "stdout",
          "output_type": "stream",
          "text": [
            "Training time: 19.289167s; Prediction time: 1.892962s\n"
          ]
        }
      ],
      "source": [
        "classifier_linear = svm.SVC(kernel='linear', class_weight='balanced', C=1, gamma=0.001)\n",
        "t0 = time.time()\n",
        "\n",
        "classifier_linear.fit(train_data, train_label)\n",
        "t1 = time.time()\n",
        "\n",
        "prediction_linear = classifier_linear.predict(val_data)\n",
        "t2 = time.time()\n",
        "\n",
        "time_linear_train = t1-t0\n",
        "time_linear_predict = t2-t1\n",
        "\n",
        "print(\"Training time: %fs; Prediction time: %fs\" % (time_linear_train, time_linear_predict))"
      ]
    },
    {
      "cell_type": "markdown",
      "metadata": {
        "id": "Osi8iOOlKJKl"
      },
      "source": [
        "# Result"
      ]
    },
    {
      "cell_type": "code",
      "execution_count": 110,
      "metadata": {
        "colab": {
          "base_uri": "https://localhost:8080/"
        },
        "id": "qSAJ9T-TKH6c",
        "outputId": "1ed23de2-ff14-4cb0-c1df-ddbc2cf5e572"
      },
      "outputs": [
        {
          "name": "stdout",
          "output_type": "stream",
          "text": [
            "0.8466666666666667\n"
          ]
        }
      ],
      "source": [
        "# with feature engineering\n",
        "\n",
        "from sklearn.metrics import accuracy_score\n",
        "print(accuracy_score(val_label, prediction_linear))"
      ]
    },
    {
      "cell_type": "code",
      "execution_count": 128,
      "metadata": {
        "colab": {
          "base_uri": "https://localhost:8080/"
        },
        "id": "pO92CdlSKXF1",
        "outputId": "3ab766cc-994b-4042-fafd-273afbf8c13b"
      },
      "outputs": [
        {
          "name": "stdout",
          "output_type": "stream",
          "text": [
            "0.8933333333333333\n"
          ]
        }
      ],
      "source": [
        "# without feature engineering\n",
        "\n",
        "from sklearn.metrics import accuracy_score\n",
        "print(accuracy_score(val_label, prediction_linear))"
      ]
    },
    {
      "cell_type": "code",
      "execution_count": 124,
      "metadata": {
        "colab": {
          "base_uri": "https://localhost:8080/"
        },
        "id": "lFBRRAiqep8f",
        "outputId": "42c912e6-ba29-4c76-d393-6e950bb0d459"
      },
      "outputs": [
        {
          "data": {
            "text/plain": [
              "(500, 10917)"
            ]
          },
          "execution_count": 124,
          "metadata": {},
          "output_type": "execute_result"
        }
      ],
      "source": [
        "test_features.shape"
      ]
    },
    {
      "cell_type": "code",
      "execution_count": 125,
      "metadata": {
        "id": "_AGGX9uQeaOL"
      },
      "outputs": [],
      "source": [
        "output_pred = le.inverse_transform(classifier_linear.predict(test_features.toarray()))"
      ]
    },
    {
      "cell_type": "code",
      "execution_count": 127,
      "metadata": {
        "colab": {
          "base_uri": "https://localhost:8080/",
          "height": 423
        },
        "id": "NSEHQeP7e0c8",
        "outputId": "349f1e26-8af5-46ad-ef89-6a97e2936b3d"
      },
      "outputs": [
        {
          "data": {
            "application/vnd.google.colaboratory.intrinsic+json": {
              "summary": "{\n  \"name\": \"output_files\",\n  \"rows\": 500,\n  \"fields\": [\n    {\n      \"column\": \"Row\",\n      \"properties\": {\n        \"dtype\": \"number\",\n        \"std\": 144,\n        \"min\": 1,\n        \"max\": 500,\n        \"num_unique_values\": 500,\n        \"samples\": [\n          362,\n          74,\n          375\n        ],\n        \"semantic_type\": \"\",\n        \"description\": \"\"\n      }\n    },\n    {\n      \"column\": \"Label\",\n      \"properties\": {\n        \"dtype\": \"category\",\n        \"num_unique_values\": 2,\n        \"samples\": [\n          \"negative\",\n          \"positive\"\n        ],\n        \"semantic_type\": \"\",\n        \"description\": \"\"\n      }\n    }\n  ]\n}",
              "type": "dataframe",
              "variable_name": "output_files"
            },
            "text/html": [
              "\n",
              "  <div id=\"df-b2606dac-eb7d-48df-97f7-832dc7dfbaad\" class=\"colab-df-container\">\n",
              "    <div>\n",
              "<style scoped>\n",
              "    .dataframe tbody tr th:only-of-type {\n",
              "        vertical-align: middle;\n",
              "    }\n",
              "\n",
              "    .dataframe tbody tr th {\n",
              "        vertical-align: top;\n",
              "    }\n",
              "\n",
              "    .dataframe thead th {\n",
              "        text-align: right;\n",
              "    }\n",
              "</style>\n",
              "<table border=\"1\" class=\"dataframe\">\n",
              "  <thead>\n",
              "    <tr style=\"text-align: right;\">\n",
              "      <th></th>\n",
              "      <th>Row</th>\n",
              "      <th>Label</th>\n",
              "    </tr>\n",
              "  </thead>\n",
              "  <tbody>\n",
              "    <tr>\n",
              "      <th>0</th>\n",
              "      <td>1</td>\n",
              "      <td>positive</td>\n",
              "    </tr>\n",
              "    <tr>\n",
              "      <th>1</th>\n",
              "      <td>2</td>\n",
              "      <td>positive</td>\n",
              "    </tr>\n",
              "    <tr>\n",
              "      <th>2</th>\n",
              "      <td>3</td>\n",
              "      <td>positive</td>\n",
              "    </tr>\n",
              "    <tr>\n",
              "      <th>3</th>\n",
              "      <td>4</td>\n",
              "      <td>negative</td>\n",
              "    </tr>\n",
              "    <tr>\n",
              "      <th>4</th>\n",
              "      <td>5</td>\n",
              "      <td>positive</td>\n",
              "    </tr>\n",
              "    <tr>\n",
              "      <th>...</th>\n",
              "      <td>...</td>\n",
              "      <td>...</td>\n",
              "    </tr>\n",
              "    <tr>\n",
              "      <th>495</th>\n",
              "      <td>496</td>\n",
              "      <td>positive</td>\n",
              "    </tr>\n",
              "    <tr>\n",
              "      <th>496</th>\n",
              "      <td>497</td>\n",
              "      <td>positive</td>\n",
              "    </tr>\n",
              "    <tr>\n",
              "      <th>497</th>\n",
              "      <td>498</td>\n",
              "      <td>positive</td>\n",
              "    </tr>\n",
              "    <tr>\n",
              "      <th>498</th>\n",
              "      <td>499</td>\n",
              "      <td>positive</td>\n",
              "    </tr>\n",
              "    <tr>\n",
              "      <th>499</th>\n",
              "      <td>500</td>\n",
              "      <td>positive</td>\n",
              "    </tr>\n",
              "  </tbody>\n",
              "</table>\n",
              "<p>500 rows × 2 columns</p>\n",
              "</div>\n",
              "    <div class=\"colab-df-buttons\">\n",
              "\n",
              "  <div class=\"colab-df-container\">\n",
              "    <button class=\"colab-df-convert\" onclick=\"convertToInteractive('df-b2606dac-eb7d-48df-97f7-832dc7dfbaad')\"\n",
              "            title=\"Convert this dataframe to an interactive table.\"\n",
              "            style=\"display:none;\">\n",
              "\n",
              "  <svg xmlns=\"http://www.w3.org/2000/svg\" height=\"24px\" viewBox=\"0 -960 960 960\">\n",
              "    <path d=\"M120-120v-720h720v720H120Zm60-500h600v-160H180v160Zm220 220h160v-160H400v160Zm0 220h160v-160H400v160ZM180-400h160v-160H180v160Zm440 0h160v-160H620v160ZM180-180h160v-160H180v160Zm440 0h160v-160H620v160Z\"/>\n",
              "  </svg>\n",
              "    </button>\n",
              "\n",
              "  <style>\n",
              "    .colab-df-container {\n",
              "      display:flex;\n",
              "      gap: 12px;\n",
              "    }\n",
              "\n",
              "    .colab-df-convert {\n",
              "      background-color: #E8F0FE;\n",
              "      border: none;\n",
              "      border-radius: 50%;\n",
              "      cursor: pointer;\n",
              "      display: none;\n",
              "      fill: #1967D2;\n",
              "      height: 32px;\n",
              "      padding: 0 0 0 0;\n",
              "      width: 32px;\n",
              "    }\n",
              "\n",
              "    .colab-df-convert:hover {\n",
              "      background-color: #E2EBFA;\n",
              "      box-shadow: 0px 1px 2px rgba(60, 64, 67, 0.3), 0px 1px 3px 1px rgba(60, 64, 67, 0.15);\n",
              "      fill: #174EA6;\n",
              "    }\n",
              "\n",
              "    .colab-df-buttons div {\n",
              "      margin-bottom: 4px;\n",
              "    }\n",
              "\n",
              "    [theme=dark] .colab-df-convert {\n",
              "      background-color: #3B4455;\n",
              "      fill: #D2E3FC;\n",
              "    }\n",
              "\n",
              "    [theme=dark] .colab-df-convert:hover {\n",
              "      background-color: #434B5C;\n",
              "      box-shadow: 0px 1px 3px 1px rgba(0, 0, 0, 0.15);\n",
              "      filter: drop-shadow(0px 1px 2px rgba(0, 0, 0, 0.3));\n",
              "      fill: #FFFFFF;\n",
              "    }\n",
              "  </style>\n",
              "\n",
              "    <script>\n",
              "      const buttonEl =\n",
              "        document.querySelector('#df-b2606dac-eb7d-48df-97f7-832dc7dfbaad button.colab-df-convert');\n",
              "      buttonEl.style.display =\n",
              "        google.colab.kernel.accessAllowed ? 'block' : 'none';\n",
              "\n",
              "      async function convertToInteractive(key) {\n",
              "        const element = document.querySelector('#df-b2606dac-eb7d-48df-97f7-832dc7dfbaad');\n",
              "        const dataTable =\n",
              "          await google.colab.kernel.invokeFunction('convertToInteractive',\n",
              "                                                    [key], {});\n",
              "        if (!dataTable) return;\n",
              "\n",
              "        const docLinkHtml = 'Like what you see? Visit the ' +\n",
              "          '<a target=\"_blank\" href=https://colab.research.google.com/notebooks/data_table.ipynb>data table notebook</a>'\n",
              "          + ' to learn more about interactive tables.';\n",
              "        element.innerHTML = '';\n",
              "        dataTable['output_type'] = 'display_data';\n",
              "        await google.colab.output.renderOutput(dataTable, element);\n",
              "        const docLink = document.createElement('div');\n",
              "        docLink.innerHTML = docLinkHtml;\n",
              "        element.appendChild(docLink);\n",
              "      }\n",
              "    </script>\n",
              "  </div>\n",
              "\n",
              "\n",
              "<div id=\"df-4a588cd1-08cf-447b-b136-bbca75110fb1\">\n",
              "  <button class=\"colab-df-quickchart\" onclick=\"quickchart('df-4a588cd1-08cf-447b-b136-bbca75110fb1')\"\n",
              "            title=\"Suggest charts\"\n",
              "            style=\"display:none;\">\n",
              "\n",
              "<svg xmlns=\"http://www.w3.org/2000/svg\" height=\"24px\"viewBox=\"0 0 24 24\"\n",
              "     width=\"24px\">\n",
              "    <g>\n",
              "        <path d=\"M19 3H5c-1.1 0-2 .9-2 2v14c0 1.1.9 2 2 2h14c1.1 0 2-.9 2-2V5c0-1.1-.9-2-2-2zM9 17H7v-7h2v7zm4 0h-2V7h2v10zm4 0h-2v-4h2v4z\"/>\n",
              "    </g>\n",
              "</svg>\n",
              "  </button>\n",
              "\n",
              "<style>\n",
              "  .colab-df-quickchart {\n",
              "      --bg-color: #E8F0FE;\n",
              "      --fill-color: #1967D2;\n",
              "      --hover-bg-color: #E2EBFA;\n",
              "      --hover-fill-color: #174EA6;\n",
              "      --disabled-fill-color: #AAA;\n",
              "      --disabled-bg-color: #DDD;\n",
              "  }\n",
              "\n",
              "  [theme=dark] .colab-df-quickchart {\n",
              "      --bg-color: #3B4455;\n",
              "      --fill-color: #D2E3FC;\n",
              "      --hover-bg-color: #434B5C;\n",
              "      --hover-fill-color: #FFFFFF;\n",
              "      --disabled-bg-color: #3B4455;\n",
              "      --disabled-fill-color: #666;\n",
              "  }\n",
              "\n",
              "  .colab-df-quickchart {\n",
              "    background-color: var(--bg-color);\n",
              "    border: none;\n",
              "    border-radius: 50%;\n",
              "    cursor: pointer;\n",
              "    display: none;\n",
              "    fill: var(--fill-color);\n",
              "    height: 32px;\n",
              "    padding: 0;\n",
              "    width: 32px;\n",
              "  }\n",
              "\n",
              "  .colab-df-quickchart:hover {\n",
              "    background-color: var(--hover-bg-color);\n",
              "    box-shadow: 0 1px 2px rgba(60, 64, 67, 0.3), 0 1px 3px 1px rgba(60, 64, 67, 0.15);\n",
              "    fill: var(--button-hover-fill-color);\n",
              "  }\n",
              "\n",
              "  .colab-df-quickchart-complete:disabled,\n",
              "  .colab-df-quickchart-complete:disabled:hover {\n",
              "    background-color: var(--disabled-bg-color);\n",
              "    fill: var(--disabled-fill-color);\n",
              "    box-shadow: none;\n",
              "  }\n",
              "\n",
              "  .colab-df-spinner {\n",
              "    border: 2px solid var(--fill-color);\n",
              "    border-color: transparent;\n",
              "    border-bottom-color: var(--fill-color);\n",
              "    animation:\n",
              "      spin 1s steps(1) infinite;\n",
              "  }\n",
              "\n",
              "  @keyframes spin {\n",
              "    0% {\n",
              "      border-color: transparent;\n",
              "      border-bottom-color: var(--fill-color);\n",
              "      border-left-color: var(--fill-color);\n",
              "    }\n",
              "    20% {\n",
              "      border-color: transparent;\n",
              "      border-left-color: var(--fill-color);\n",
              "      border-top-color: var(--fill-color);\n",
              "    }\n",
              "    30% {\n",
              "      border-color: transparent;\n",
              "      border-left-color: var(--fill-color);\n",
              "      border-top-color: var(--fill-color);\n",
              "      border-right-color: var(--fill-color);\n",
              "    }\n",
              "    40% {\n",
              "      border-color: transparent;\n",
              "      border-right-color: var(--fill-color);\n",
              "      border-top-color: var(--fill-color);\n",
              "    }\n",
              "    60% {\n",
              "      border-color: transparent;\n",
              "      border-right-color: var(--fill-color);\n",
              "    }\n",
              "    80% {\n",
              "      border-color: transparent;\n",
              "      border-right-color: var(--fill-color);\n",
              "      border-bottom-color: var(--fill-color);\n",
              "    }\n",
              "    90% {\n",
              "      border-color: transparent;\n",
              "      border-bottom-color: var(--fill-color);\n",
              "    }\n",
              "  }\n",
              "</style>\n",
              "\n",
              "  <script>\n",
              "    async function quickchart(key) {\n",
              "      const quickchartButtonEl =\n",
              "        document.querySelector('#' + key + ' button');\n",
              "      quickchartButtonEl.disabled = true;  // To prevent multiple clicks.\n",
              "      quickchartButtonEl.classList.add('colab-df-spinner');\n",
              "      try {\n",
              "        const charts = await google.colab.kernel.invokeFunction(\n",
              "            'suggestCharts', [key], {});\n",
              "      } catch (error) {\n",
              "        console.error('Error during call to suggestCharts:', error);\n",
              "      }\n",
              "      quickchartButtonEl.classList.remove('colab-df-spinner');\n",
              "      quickchartButtonEl.classList.add('colab-df-quickchart-complete');\n",
              "    }\n",
              "    (() => {\n",
              "      let quickchartButtonEl =\n",
              "        document.querySelector('#df-4a588cd1-08cf-447b-b136-bbca75110fb1 button');\n",
              "      quickchartButtonEl.style.display =\n",
              "        google.colab.kernel.accessAllowed ? 'block' : 'none';\n",
              "    })();\n",
              "  </script>\n",
              "</div>\n",
              "\n",
              "  <div id=\"id_92f4a45f-205c-4674-91fb-bd1f64601bee\">\n",
              "    <style>\n",
              "      .colab-df-generate {\n",
              "        background-color: #E8F0FE;\n",
              "        border: none;\n",
              "        border-radius: 50%;\n",
              "        cursor: pointer;\n",
              "        display: none;\n",
              "        fill: #1967D2;\n",
              "        height: 32px;\n",
              "        padding: 0 0 0 0;\n",
              "        width: 32px;\n",
              "      }\n",
              "\n",
              "      .colab-df-generate:hover {\n",
              "        background-color: #E2EBFA;\n",
              "        box-shadow: 0px 1px 2px rgba(60, 64, 67, 0.3), 0px 1px 3px 1px rgba(60, 64, 67, 0.15);\n",
              "        fill: #174EA6;\n",
              "      }\n",
              "\n",
              "      [theme=dark] .colab-df-generate {\n",
              "        background-color: #3B4455;\n",
              "        fill: #D2E3FC;\n",
              "      }\n",
              "\n",
              "      [theme=dark] .colab-df-generate:hover {\n",
              "        background-color: #434B5C;\n",
              "        box-shadow: 0px 1px 3px 1px rgba(0, 0, 0, 0.15);\n",
              "        filter: drop-shadow(0px 1px 2px rgba(0, 0, 0, 0.3));\n",
              "        fill: #FFFFFF;\n",
              "      }\n",
              "    </style>\n",
              "    <button class=\"colab-df-generate\" onclick=\"generateWithVariable('output_files')\"\n",
              "            title=\"Generate code using this dataframe.\"\n",
              "            style=\"display:none;\">\n",
              "\n",
              "  <svg xmlns=\"http://www.w3.org/2000/svg\" height=\"24px\"viewBox=\"0 0 24 24\"\n",
              "       width=\"24px\">\n",
              "    <path d=\"M7,19H8.4L18.45,9,17,7.55,7,17.6ZM5,21V16.75L18.45,3.32a2,2,0,0,1,2.83,0l1.4,1.43a1.91,1.91,0,0,1,.58,1.4,1.91,1.91,0,0,1-.58,1.4L9.25,21ZM18.45,9,17,7.55Zm-12,3A5.31,5.31,0,0,0,4.9,8.1,5.31,5.31,0,0,0,1,6.5,5.31,5.31,0,0,0,4.9,4.9,5.31,5.31,0,0,0,6.5,1,5.31,5.31,0,0,0,8.1,4.9,5.31,5.31,0,0,0,12,6.5,5.46,5.46,0,0,0,6.5,12Z\"/>\n",
              "  </svg>\n",
              "    </button>\n",
              "    <script>\n",
              "      (() => {\n",
              "      const buttonEl =\n",
              "        document.querySelector('#id_92f4a45f-205c-4674-91fb-bd1f64601bee button.colab-df-generate');\n",
              "      buttonEl.style.display =\n",
              "        google.colab.kernel.accessAllowed ? 'block' : 'none';\n",
              "\n",
              "      buttonEl.onclick = () => {\n",
              "        google.colab.notebook.generateWithVariable('output_files');\n",
              "      }\n",
              "      })();\n",
              "    </script>\n",
              "  </div>\n",
              "\n",
              "    </div>\n",
              "  </div>\n"
            ],
            "text/plain": [
              "     Row     Label\n",
              "0      1  positive\n",
              "1      2  positive\n",
              "2      3  positive\n",
              "3      4  negative\n",
              "4      5  positive\n",
              "..   ...       ...\n",
              "495  496  positive\n",
              "496  497  positive\n",
              "497  498  positive\n",
              "498  499  positive\n",
              "499  500  positive\n",
              "\n",
              "[500 rows x 2 columns]"
            ]
          },
          "execution_count": 127,
          "metadata": {},
          "output_type": "execute_result"
        }
      ],
      "source": [
        "output_files = pd.DataFrame({'Row': range(1, 501), 'Label': output_pred})\n",
        "output_files"
      ]
    },
    {
      "cell_type": "code",
      "execution_count": 129,
      "metadata": {
        "id": "_D8zHt_he83b"
      },
      "outputs": [],
      "source": [
        "output_files.to_csv('output_svm final without feature engineering.csv', index=False)"
      ]
    },
    {
      "cell_type": "code",
      "execution_count": null,
      "metadata": {
        "id": "DfcX9cN8WxHD"
      },
      "outputs": [],
      "source": []
    }
  ],
  "metadata": {
    "colab": {
      "provenance": []
    },
    "kernelspec": {
      "display_name": "Python 3",
      "name": "python3"
    },
    "language_info": {
      "name": "python"
    }
  },
  "nbformat": 4,
  "nbformat_minor": 0
}
