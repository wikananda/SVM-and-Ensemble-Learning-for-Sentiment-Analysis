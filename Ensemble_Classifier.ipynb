{
  "nbformat": 4,
  "nbformat_minor": 0,
  "metadata": {
    "colab": {
      "provenance": []
    },
    "kernelspec": {
      "name": "python3",
      "display_name": "Python 3"
    },
    "language_info": {
      "name": "python"
    }
  },
  "cells": [
    {
      "cell_type": "code",
      "execution_count": null,
      "metadata": {
        "id": "PCeDZOOTdlF7"
      },
      "outputs": [],
      "source": [
        "import nltk\n",
        "import random\n",
        "import time\n",
        "\n",
        "import pickle\n",
        "#wrapper of Sklearn Around nltk classifiers\n",
        "from nltk.classify.scikitlearn import SklearnClassifier\n",
        "\n",
        "#importing various sckitlearn clsssifiers and testing them on a training data\n",
        "from sklearn.naive_bayes import MultinomialNB ,BernoulliNB\n",
        "from sklearn.linear_model import LogisticRegression,SGDClassifier\n",
        "from sklearn import svm\n",
        "from sklearn.metrics import classification_report\n",
        "from sklearn.svm import LinearSVC,NuSVC\n",
        "from nltk.classify import ClassifierI\n",
        "from statistics import mode"
      ]
    },
    {
      "cell_type": "code",
      "source": [
        "import nltk\n",
        "from nltk.tokenize import word_tokenize\n",
        "from nltk.corpus import stopwords\n",
        "from nltk.stem import WordNetLemmatizer\n",
        "from sklearn.preprocessing import LabelEncoder\n",
        "from collections import defaultdict\n",
        "from nltk.corpus import wordnet as wn\n",
        "from sklearn.feature_extraction.text import TfidfVectorizer\n",
        "from sklearn import model_selection, naive_bayes, svm\n",
        "from sklearn.metrics import accuracy_score"
      ],
      "metadata": {
        "id": "Rm_i0h34mOQt"
      },
      "execution_count": null,
      "outputs": []
    },
    {
      "cell_type": "code",
      "source": [
        "import string\n",
        "import re\n",
        "import matplotlib.pyplot as plt\n",
        "import pandas as pd\n",
        "import numpy as np"
      ],
      "metadata": {
        "id": "OPwRPz4ziCFP"
      },
      "execution_count": null,
      "outputs": []
    },
    {
      "cell_type": "code",
      "source": [
        "nltk.download('stopwords')\n",
        "nltk.download('punkt')\n",
        "nltk.download('vader_lexicon')\n",
        "stop_words = stopwords.words('english')\n",
        "lemmatizer = WordNetLemmatizer()"
      ],
      "metadata": {
        "colab": {
          "base_uri": "https://localhost:8080/"
        },
        "id": "3cp9HpwXmTtx",
        "outputId": "acea8dc4-6816-44ef-e28c-64c16788bd82"
      },
      "execution_count": null,
      "outputs": [
        {
          "output_type": "stream",
          "name": "stderr",
          "text": [
            "[nltk_data] Downloading package stopwords to /root/nltk_data...\n",
            "[nltk_data]   Package stopwords is already up-to-date!\n",
            "[nltk_data] Downloading package punkt to /root/nltk_data...\n",
            "[nltk_data]   Package punkt is already up-to-date!\n",
            "[nltk_data] Downloading package vader_lexicon to /root/nltk_data...\n",
            "[nltk_data]   Package vader_lexicon is already up-to-date!\n"
          ]
        }
      ]
    },
    {
      "cell_type": "code",
      "source": [
        "from google.colab import drive\n",
        "drive.mount('/content/drive')"
      ],
      "metadata": {
        "colab": {
          "base_uri": "https://localhost:8080/"
        },
        "id": "QIbqrnbtiGaX",
        "outputId": "d1f9fc52-bc40-49bc-e529-0865d7f87d07"
      },
      "execution_count": null,
      "outputs": [
        {
          "output_type": "stream",
          "name": "stdout",
          "text": [
            "Drive already mounted at /content/drive; to attempt to forcibly remount, call drive.mount(\"/content/drive\", force_remount=True).\n"
          ]
        }
      ]
    },
    {
      "cell_type": "code",
      "source": [
        "import os\n",
        "os.chdir('/content/drive/MyDrive/Text Mining')\n",
        "os.getcwd()"
      ],
      "metadata": {
        "colab": {
          "base_uri": "https://localhost:8080/",
          "height": 36
        },
        "id": "xDN1y5vVilhi",
        "outputId": "65f9dcd0-4cf8-4862-99ac-d66cc2bd95d8"
      },
      "execution_count": null,
      "outputs": [
        {
          "output_type": "execute_result",
          "data": {
            "text/plain": [
              "'/content/drive/MyDrive/Text Mining'"
            ],
            "application/vnd.google.colaboratory.intrinsic+json": {
              "type": "string"
            }
          },
          "metadata": {},
          "execution_count": 6
        }
      ]
    },
    {
      "cell_type": "markdown",
      "source": [
        "# Import Data"
      ],
      "metadata": {
        "id": "tgweCizVk8yB"
      }
    },
    {
      "cell_type": "code",
      "source": [
        "train = pd.read_csv('dataset/train.csv')\n",
        "test = pd.read_csv('dataset/test.csv')\n",
        "\n",
        "test2 = pd.read_csv('dataset/IMDB Dataset.csv', header=0, names=['reviews_content', 'category'])\n",
        "test2 = test2.iloc[:500]\n",
        "\n",
        "# test2 = pd.read_csv('twitter_validation.csv', header=None)\n",
        "# test2 = test2.iloc[1:, 2:]\n",
        "# test2 = test2.rename(columns={2: 'category', 3: 'reviews_content'})\n",
        "\n",
        "print('train head: ', train.shape)\n",
        "print(train.head())\n",
        "print('\\n\\ntest head: ', test.shape)\n",
        "print(test.head())\n",
        "print('\\n\\ntest2 head: ', test2.shape)\n",
        "print(test2.head())"
      ],
      "metadata": {
        "colab": {
          "base_uri": "https://localhost:8080/"
        },
        "id": "tFSKtQfkivwk",
        "outputId": "3a5d97f2-3e90-4da2-f227-ab39b5266237"
      },
      "execution_count": null,
      "outputs": [
        {
          "output_type": "stream",
          "name": "stdout",
          "text": [
            "train head:  (1500, 2)\n",
            "                                     reviews_content  category\n",
            "0  airplane ! is considered among many to be the ...  positive\n",
            "1  you've got to love disney . \\nno matter what t...  positive\n",
            "2   \" the tailor of panama \" is a different kind ...  positive\n",
            "3  the characters in jonathan lynn's \" the whole ...  negative\n",
            "4  vikings v . bears ? \\nno , this isn't the line...  negative\n",
            "\n",
            "\n",
            "test head:  (500, 1)\n",
            "                                     reviews_content\n",
            "0  towards the middle of \" the sweet hereafter , ...\n",
            "1  wild things is a suspenseful thriller starring...\n",
            "2  hong kong cinema has been going through a bad ...\n",
            "3  while alex browning ( devon sawa ) waits at jf...\n",
            "4  sometimes i find 19th century british costume ...\n",
            "\n",
            "\n",
            "test2 head:  (500, 2)\n",
            "                                     reviews_content  category\n",
            "0  One of the other reviewers has mentioned that ...  positive\n",
            "1  A wonderful little production. <br /><br />The...  positive\n",
            "2  I thought this was a wonderful way to spend ti...  positive\n",
            "3  Basically there's a family where a little boy ...  negative\n",
            "4  Petter Mattei's \"Love in the Time of Money\" is...  positive\n"
          ]
        }
      ]
    },
    {
      "cell_type": "markdown",
      "source": [
        "# Preprocess and Feature Engineering"
      ],
      "metadata": {
        "id": "-BeYGXb3l26g"
      }
    },
    {
      "cell_type": "code",
      "source": [
        "train['reviews_content'].dropna(inplace=True)\n",
        "test['reviews_content'].dropna(inplace=True)\n",
        "test2['reviews_content'].dropna(inplace=True)\n",
        "\n",
        "print('train shape: ', train.shape)\n",
        "print('test shape: ', test.shape)\n",
        "print('test2 shape: ', test2.shape)"
      ],
      "metadata": {
        "colab": {
          "base_uri": "https://localhost:8080/"
        },
        "id": "zyFlzynZlSVH",
        "outputId": "36e4024c-8579-4271-eb85-f626f995e168"
      },
      "execution_count": null,
      "outputs": [
        {
          "output_type": "stream",
          "name": "stdout",
          "text": [
            "train shape:  (1500, 2)\n",
            "test shape:  (500, 1)\n",
            "test2 shape:  (500, 2)\n"
          ]
        }
      ]
    },
    {
      "cell_type": "code",
      "source": [
        "def preprocess(text: str) -> list:\n",
        "    corpus = str(text).lower() # lowercase\n",
        "    corpus = re.sub('[^a-zA-Z]+',' ', corpus).strip() # remove special characters\n",
        "    tokens = word_tokenize(corpus) # tokenize\n",
        "    words = [token for token in tokens if token not in stop_words] # remove stopwords\n",
        "    # words = [lemmatizer.lemmatize(word) for word in words] # lemmatize\n",
        "    return words"
      ],
      "metadata": {
        "id": "ayng6gY6l8-S"
      },
      "execution_count": null,
      "outputs": []
    },
    {
      "cell_type": "code",
      "source": [
        "with open('dataset/positive-words.txt', 'rb') as f:\n",
        "    positive_words = f.read().decode('latin-1').split()\n",
        "\n",
        "with open('dataset/negative-words.txt', 'rb') as f:\n",
        "    negative_words = f.read().decode('latin-1').split()"
      ],
      "metadata": {
        "id": "AgPMMMrYmFKF"
      },
      "execution_count": null,
      "outputs": []
    },
    {
      "cell_type": "code",
      "source": [
        "le = LabelEncoder()"
      ],
      "metadata": {
        "id": "zGDFYBsamfby"
      },
      "execution_count": null,
      "outputs": []
    },
    {
      "cell_type": "code",
      "source": [
        "preprocess_train = train['reviews_content'].apply(preprocess)\n",
        "preprocess_test = test['reviews_content'].apply(preprocess)\n",
        "preprocess_test2 = test2['reviews_content'].apply(preprocess)\n",
        "\n",
        "train['preprocessed'] = preprocess_train\n",
        "train['total_len'] = train['preprocessed'].apply(len)\n",
        "train['pos_count'] = train['preprocessed'].apply(lambda x: len([word for word in x if word in positive_words]))\n",
        "train['neg_count'] = train['preprocessed'].apply(lambda x: len([word for word in x if word in negative_words]))\n",
        "train['category'] = le.fit_transform(train['category'])\n",
        "\n",
        "test['preprocessed'] = preprocess_test\n",
        "test['total_len'] = test['preprocessed'].apply(len)\n",
        "test['pos_count'] = test['preprocessed'].apply(lambda x: len([word for word in x if word in positive_words]))\n",
        "test['neg_count'] = test['preprocessed'].apply(lambda x: len([word for word in x if word in negative_words]))\n",
        "\n",
        "test2['preprocessed'] = preprocess_test2\n",
        "test2['total_len'] = test2['preprocessed'].apply(len)\n",
        "test2['pos_count'] = test2['preprocessed'].apply(lambda x: len([word for word in x if word in positive_words]))\n",
        "test2['neg_count'] = test2['preprocessed'].apply(lambda x: len([word for word in x if word in negative_words]))"
      ],
      "metadata": {
        "id": "63nLlQ2zmYzb"
      },
      "execution_count": null,
      "outputs": []
    },
    {
      "cell_type": "code",
      "source": [
        "# using VADER\n",
        "from nltk.sentiment.vader import SentimentIntensityAnalyzer\n",
        "\n",
        "sent = SentimentIntensityAnalyzer()\n",
        "\n",
        "polarity = [round(sent.polarity_scores(i)['compound'], 2) for i in train['reviews_content']]\n",
        "train['sentiment'] = polarity\n",
        "\n",
        "polarity = [round(sent.polarity_scores(i)['compound'], 2) for i in test['reviews_content']]\n",
        "test['sentiment'] = polarity\n",
        "\n",
        "polarity = [round(sent.polarity_scores(i)['compound'], 2) for i in test2['reviews_content']]\n",
        "test2['sentiment'] = polarity"
      ],
      "metadata": {
        "id": "cJz2B6Y2mf1y"
      },
      "execution_count": null,
      "outputs": []
    },
    {
      "cell_type": "code",
      "source": [
        "train['preprocessed_final'] = train['preprocessed'].apply(' '.join)\n",
        "test['preprocessed_final'] = test['preprocessed'].apply(' '.join)\n",
        "test2['preprocessed_final'] = test2['preprocessed'].apply(' '.join)"
      ],
      "metadata": {
        "id": "ZkJsF3K8oM8K"
      },
      "execution_count": null,
      "outputs": []
    },
    {
      "cell_type": "code",
      "source": [
        "train.head()"
      ],
      "metadata": {
        "colab": {
          "base_uri": "https://localhost:8080/",
          "height": 206
        },
        "id": "mo1Ha9Uyrd7g",
        "outputId": "1e949ccd-3e99-4549-de62-ce83f649d140"
      },
      "execution_count": null,
      "outputs": [
        {
          "output_type": "execute_result",
          "data": {
            "text/plain": [
              "                                     reviews_content  category  \\\n",
              "0  airplane ! is considered among many to be the ...         1   \n",
              "1  you've got to love disney . \\nno matter what t...         1   \n",
              "2   \" the tailor of panama \" is a different kind ...         1   \n",
              "3  the characters in jonathan lynn's \" the whole ...         0   \n",
              "4  vikings v . bears ? \\nno , this isn't the line...         0   \n",
              "\n",
              "                                        preprocessed  total_len  pos_count  \\\n",
              "0  [airplane, considered, among, many, epitome, s...        312         18   \n",
              "1  [got, love, disney, matter, serve, guaranteed,...        629         57   \n",
              "2  [tailor, panama, different, kind, spy, movie, ...        464         51   \n",
              "3  [characters, jonathan, lynn, whole, nine, yard...        514         38   \n",
              "4  [vikings, v, bears, lineup, monday, night, foo...        308         26   \n",
              "\n",
              "   neg_count  sentiment                                 preprocessed_final  \n",
              "0         25      -0.66  airplane considered among many epitome satire ...  \n",
              "1         28       1.00  got love disney matter serve guaranteed succes...  \n",
              "2         25       1.00  tailor panama different kind spy movie despite...  \n",
              "3         35       1.00  characters jonathan lynn whole nine yards yet ...  \n",
              "4         28      -0.99  vikings v bears lineup monday night football r...  "
            ],
            "text/html": [
              "\n",
              "  <div id=\"df-e3528b64-233a-41bb-a3f9-7c3a14cc1323\" class=\"colab-df-container\">\n",
              "    <div>\n",
              "<style scoped>\n",
              "    .dataframe tbody tr th:only-of-type {\n",
              "        vertical-align: middle;\n",
              "    }\n",
              "\n",
              "    .dataframe tbody tr th {\n",
              "        vertical-align: top;\n",
              "    }\n",
              "\n",
              "    .dataframe thead th {\n",
              "        text-align: right;\n",
              "    }\n",
              "</style>\n",
              "<table border=\"1\" class=\"dataframe\">\n",
              "  <thead>\n",
              "    <tr style=\"text-align: right;\">\n",
              "      <th></th>\n",
              "      <th>reviews_content</th>\n",
              "      <th>category</th>\n",
              "      <th>preprocessed</th>\n",
              "      <th>total_len</th>\n",
              "      <th>pos_count</th>\n",
              "      <th>neg_count</th>\n",
              "      <th>sentiment</th>\n",
              "      <th>preprocessed_final</th>\n",
              "    </tr>\n",
              "  </thead>\n",
              "  <tbody>\n",
              "    <tr>\n",
              "      <th>0</th>\n",
              "      <td>airplane ! is considered among many to be the ...</td>\n",
              "      <td>1</td>\n",
              "      <td>[airplane, considered, among, many, epitome, s...</td>\n",
              "      <td>312</td>\n",
              "      <td>18</td>\n",
              "      <td>25</td>\n",
              "      <td>-0.66</td>\n",
              "      <td>airplane considered among many epitome satire ...</td>\n",
              "    </tr>\n",
              "    <tr>\n",
              "      <th>1</th>\n",
              "      <td>you've got to love disney . \\nno matter what t...</td>\n",
              "      <td>1</td>\n",
              "      <td>[got, love, disney, matter, serve, guaranteed,...</td>\n",
              "      <td>629</td>\n",
              "      <td>57</td>\n",
              "      <td>28</td>\n",
              "      <td>1.00</td>\n",
              "      <td>got love disney matter serve guaranteed succes...</td>\n",
              "    </tr>\n",
              "    <tr>\n",
              "      <th>2</th>\n",
              "      <td>\" the tailor of panama \" is a different kind ...</td>\n",
              "      <td>1</td>\n",
              "      <td>[tailor, panama, different, kind, spy, movie, ...</td>\n",
              "      <td>464</td>\n",
              "      <td>51</td>\n",
              "      <td>25</td>\n",
              "      <td>1.00</td>\n",
              "      <td>tailor panama different kind spy movie despite...</td>\n",
              "    </tr>\n",
              "    <tr>\n",
              "      <th>3</th>\n",
              "      <td>the characters in jonathan lynn's \" the whole ...</td>\n",
              "      <td>0</td>\n",
              "      <td>[characters, jonathan, lynn, whole, nine, yard...</td>\n",
              "      <td>514</td>\n",
              "      <td>38</td>\n",
              "      <td>35</td>\n",
              "      <td>1.00</td>\n",
              "      <td>characters jonathan lynn whole nine yards yet ...</td>\n",
              "    </tr>\n",
              "    <tr>\n",
              "      <th>4</th>\n",
              "      <td>vikings v . bears ? \\nno , this isn't the line...</td>\n",
              "      <td>0</td>\n",
              "      <td>[vikings, v, bears, lineup, monday, night, foo...</td>\n",
              "      <td>308</td>\n",
              "      <td>26</td>\n",
              "      <td>28</td>\n",
              "      <td>-0.99</td>\n",
              "      <td>vikings v bears lineup monday night football r...</td>\n",
              "    </tr>\n",
              "  </tbody>\n",
              "</table>\n",
              "</div>\n",
              "    <div class=\"colab-df-buttons\">\n",
              "\n",
              "  <div class=\"colab-df-container\">\n",
              "    <button class=\"colab-df-convert\" onclick=\"convertToInteractive('df-e3528b64-233a-41bb-a3f9-7c3a14cc1323')\"\n",
              "            title=\"Convert this dataframe to an interactive table.\"\n",
              "            style=\"display:none;\">\n",
              "\n",
              "  <svg xmlns=\"http://www.w3.org/2000/svg\" height=\"24px\" viewBox=\"0 -960 960 960\">\n",
              "    <path d=\"M120-120v-720h720v720H120Zm60-500h600v-160H180v160Zm220 220h160v-160H400v160Zm0 220h160v-160H400v160ZM180-400h160v-160H180v160Zm440 0h160v-160H620v160ZM180-180h160v-160H180v160Zm440 0h160v-160H620v160Z\"/>\n",
              "  </svg>\n",
              "    </button>\n",
              "\n",
              "  <style>\n",
              "    .colab-df-container {\n",
              "      display:flex;\n",
              "      gap: 12px;\n",
              "    }\n",
              "\n",
              "    .colab-df-convert {\n",
              "      background-color: #E8F0FE;\n",
              "      border: none;\n",
              "      border-radius: 50%;\n",
              "      cursor: pointer;\n",
              "      display: none;\n",
              "      fill: #1967D2;\n",
              "      height: 32px;\n",
              "      padding: 0 0 0 0;\n",
              "      width: 32px;\n",
              "    }\n",
              "\n",
              "    .colab-df-convert:hover {\n",
              "      background-color: #E2EBFA;\n",
              "      box-shadow: 0px 1px 2px rgba(60, 64, 67, 0.3), 0px 1px 3px 1px rgba(60, 64, 67, 0.15);\n",
              "      fill: #174EA6;\n",
              "    }\n",
              "\n",
              "    .colab-df-buttons div {\n",
              "      margin-bottom: 4px;\n",
              "    }\n",
              "\n",
              "    [theme=dark] .colab-df-convert {\n",
              "      background-color: #3B4455;\n",
              "      fill: #D2E3FC;\n",
              "    }\n",
              "\n",
              "    [theme=dark] .colab-df-convert:hover {\n",
              "      background-color: #434B5C;\n",
              "      box-shadow: 0px 1px 3px 1px rgba(0, 0, 0, 0.15);\n",
              "      filter: drop-shadow(0px 1px 2px rgba(0, 0, 0, 0.3));\n",
              "      fill: #FFFFFF;\n",
              "    }\n",
              "  </style>\n",
              "\n",
              "    <script>\n",
              "      const buttonEl =\n",
              "        document.querySelector('#df-e3528b64-233a-41bb-a3f9-7c3a14cc1323 button.colab-df-convert');\n",
              "      buttonEl.style.display =\n",
              "        google.colab.kernel.accessAllowed ? 'block' : 'none';\n",
              "\n",
              "      async function convertToInteractive(key) {\n",
              "        const element = document.querySelector('#df-e3528b64-233a-41bb-a3f9-7c3a14cc1323');\n",
              "        const dataTable =\n",
              "          await google.colab.kernel.invokeFunction('convertToInteractive',\n",
              "                                                    [key], {});\n",
              "        if (!dataTable) return;\n",
              "\n",
              "        const docLinkHtml = 'Like what you see? Visit the ' +\n",
              "          '<a target=\"_blank\" href=https://colab.research.google.com/notebooks/data_table.ipynb>data table notebook</a>'\n",
              "          + ' to learn more about interactive tables.';\n",
              "        element.innerHTML = '';\n",
              "        dataTable['output_type'] = 'display_data';\n",
              "        await google.colab.output.renderOutput(dataTable, element);\n",
              "        const docLink = document.createElement('div');\n",
              "        docLink.innerHTML = docLinkHtml;\n",
              "        element.appendChild(docLink);\n",
              "      }\n",
              "    </script>\n",
              "  </div>\n",
              "\n",
              "\n",
              "<div id=\"df-f41ea0b3-5292-48bd-b4bd-941004b971eb\">\n",
              "  <button class=\"colab-df-quickchart\" onclick=\"quickchart('df-f41ea0b3-5292-48bd-b4bd-941004b971eb')\"\n",
              "            title=\"Suggest charts\"\n",
              "            style=\"display:none;\">\n",
              "\n",
              "<svg xmlns=\"http://www.w3.org/2000/svg\" height=\"24px\"viewBox=\"0 0 24 24\"\n",
              "     width=\"24px\">\n",
              "    <g>\n",
              "        <path d=\"M19 3H5c-1.1 0-2 .9-2 2v14c0 1.1.9 2 2 2h14c1.1 0 2-.9 2-2V5c0-1.1-.9-2-2-2zM9 17H7v-7h2v7zm4 0h-2V7h2v10zm4 0h-2v-4h2v4z\"/>\n",
              "    </g>\n",
              "</svg>\n",
              "  </button>\n",
              "\n",
              "<style>\n",
              "  .colab-df-quickchart {\n",
              "      --bg-color: #E8F0FE;\n",
              "      --fill-color: #1967D2;\n",
              "      --hover-bg-color: #E2EBFA;\n",
              "      --hover-fill-color: #174EA6;\n",
              "      --disabled-fill-color: #AAA;\n",
              "      --disabled-bg-color: #DDD;\n",
              "  }\n",
              "\n",
              "  [theme=dark] .colab-df-quickchart {\n",
              "      --bg-color: #3B4455;\n",
              "      --fill-color: #D2E3FC;\n",
              "      --hover-bg-color: #434B5C;\n",
              "      --hover-fill-color: #FFFFFF;\n",
              "      --disabled-bg-color: #3B4455;\n",
              "      --disabled-fill-color: #666;\n",
              "  }\n",
              "\n",
              "  .colab-df-quickchart {\n",
              "    background-color: var(--bg-color);\n",
              "    border: none;\n",
              "    border-radius: 50%;\n",
              "    cursor: pointer;\n",
              "    display: none;\n",
              "    fill: var(--fill-color);\n",
              "    height: 32px;\n",
              "    padding: 0;\n",
              "    width: 32px;\n",
              "  }\n",
              "\n",
              "  .colab-df-quickchart:hover {\n",
              "    background-color: var(--hover-bg-color);\n",
              "    box-shadow: 0 1px 2px rgba(60, 64, 67, 0.3), 0 1px 3px 1px rgba(60, 64, 67, 0.15);\n",
              "    fill: var(--button-hover-fill-color);\n",
              "  }\n",
              "\n",
              "  .colab-df-quickchart-complete:disabled,\n",
              "  .colab-df-quickchart-complete:disabled:hover {\n",
              "    background-color: var(--disabled-bg-color);\n",
              "    fill: var(--disabled-fill-color);\n",
              "    box-shadow: none;\n",
              "  }\n",
              "\n",
              "  .colab-df-spinner {\n",
              "    border: 2px solid var(--fill-color);\n",
              "    border-color: transparent;\n",
              "    border-bottom-color: var(--fill-color);\n",
              "    animation:\n",
              "      spin 1s steps(1) infinite;\n",
              "  }\n",
              "\n",
              "  @keyframes spin {\n",
              "    0% {\n",
              "      border-color: transparent;\n",
              "      border-bottom-color: var(--fill-color);\n",
              "      border-left-color: var(--fill-color);\n",
              "    }\n",
              "    20% {\n",
              "      border-color: transparent;\n",
              "      border-left-color: var(--fill-color);\n",
              "      border-top-color: var(--fill-color);\n",
              "    }\n",
              "    30% {\n",
              "      border-color: transparent;\n",
              "      border-left-color: var(--fill-color);\n",
              "      border-top-color: var(--fill-color);\n",
              "      border-right-color: var(--fill-color);\n",
              "    }\n",
              "    40% {\n",
              "      border-color: transparent;\n",
              "      border-right-color: var(--fill-color);\n",
              "      border-top-color: var(--fill-color);\n",
              "    }\n",
              "    60% {\n",
              "      border-color: transparent;\n",
              "      border-right-color: var(--fill-color);\n",
              "    }\n",
              "    80% {\n",
              "      border-color: transparent;\n",
              "      border-right-color: var(--fill-color);\n",
              "      border-bottom-color: var(--fill-color);\n",
              "    }\n",
              "    90% {\n",
              "      border-color: transparent;\n",
              "      border-bottom-color: var(--fill-color);\n",
              "    }\n",
              "  }\n",
              "</style>\n",
              "\n",
              "  <script>\n",
              "    async function quickchart(key) {\n",
              "      const quickchartButtonEl =\n",
              "        document.querySelector('#' + key + ' button');\n",
              "      quickchartButtonEl.disabled = true;  // To prevent multiple clicks.\n",
              "      quickchartButtonEl.classList.add('colab-df-spinner');\n",
              "      try {\n",
              "        const charts = await google.colab.kernel.invokeFunction(\n",
              "            'suggestCharts', [key], {});\n",
              "      } catch (error) {\n",
              "        console.error('Error during call to suggestCharts:', error);\n",
              "      }\n",
              "      quickchartButtonEl.classList.remove('colab-df-spinner');\n",
              "      quickchartButtonEl.classList.add('colab-df-quickchart-complete');\n",
              "    }\n",
              "    (() => {\n",
              "      let quickchartButtonEl =\n",
              "        document.querySelector('#df-f41ea0b3-5292-48bd-b4bd-941004b971eb button');\n",
              "      quickchartButtonEl.style.display =\n",
              "        google.colab.kernel.accessAllowed ? 'block' : 'none';\n",
              "    })();\n",
              "  </script>\n",
              "</div>\n",
              "\n",
              "    </div>\n",
              "  </div>\n"
            ],
            "application/vnd.google.colaboratory.intrinsic+json": {
              "type": "dataframe",
              "variable_name": "train",
              "summary": "{\n  \"name\": \"train\",\n  \"rows\": 1500,\n  \"fields\": [\n    {\n      \"column\": \"reviews_content\",\n      \"properties\": {\n        \"dtype\": \"string\",\n        \"num_unique_values\": 1500,\n        \"samples\": [\n          \"ok , let's get one thing straight right away : maximum risk is no battleship potemkin ( although it does have some russians in it ! ) , but it's not too bad , really . \\nit's the new film from ringo lam , the latest hong kong filmmaker to defect to hollywood , and stars that minor league schwartzeneggar from belgium , jean-claude van damme ( who , you will recall , also starred in john woo's maiden hollywood effort , hard target ) . \\nin lam's film , van damme plays alain moreau , a french cop ( at least his accent makes more sense here than it did in hard target ) who discovers that he was separated shortly after birth from a twin brother who was adopted by russians . \\nthese russians defected to the united states and moved into a black neighbourhood in new york ( where , i suppose , they thought they wouldn't be noticed ) . \\nthis brother , mikhail suverov ( played in his few scenes by . . . well , \\nyou know ) , becomes deeply involved in the russian mafia and the fbi ( almost the same thing , i guess ) , and is killed in france ( in the movie , things happen so fast that you don't have too much time to think about how weird this all is ) . \\nmoreau does what any good surviving twin brother would do and goes to new york to find out why mikhail was killed , and why everyone in france who knows anything about him is also being killed ( we wonder the same thing ; i still do ) . \\nin little odessa , he meets mikhail's girlfriend , alex ( natasha henstridge , last seen in species ) , who helps him solve the mystery and adds immeasurably to the mise-en-scene ( she has very nice breasts , and we get to seen them briefly in this movie ; it was rated r in the us but is pg here , so they must have seen more of her breasts than we do ) . \\nthis film lacks the gloss and high production values of such other action movies as broken arrow , the fugitive , hard target , or anything starring arnold , but that works to its benefit , i think . \\nafter all , one thing that's been missing from woo's hollywood films is that certain hong kong funkiness that we all know and love ( well , some of us do ) . \\nmovies like this shouldn't be too pretentious , and that is part of the problem with some of these other films : they try to be too \\\" big \\\" in terms of special effects and sheer spectacle . \\nmaximum risk has its share of car chases and explosions , but they don't overwhelm the movie or detract our attention from the narrative ( not too much , anyway ) . \\nthe emphasis throughout is on the characters and their interactions ( even if , at times , they don't make a hell of a lot of sense ) . \\nin fact , one of the more interesting aspects of the film is a minor character , a rather overeager new york cabbie ( frank van keeken from tv's \\\" kids in the hall \\\" ) , who begins as something of a joke but becomes an important part of the story . \\nunfortunately , by the time we have come to really get interested in him , he . . . well , \\nyou'll see . \\nthe movie also features some set pieces of the type that we have come to expect from lam and his hong kong compatriots . \\none is a fight in a russian sauna , with lots of sweaty , muscular male flesh ( this one will appeal to certain parts of the audience more than others ) , bullets in heads , and vodka . \\nanother , my personal favorite , is a fight in a meat packing house , featuring pig carcasses and a chainsaw . \\nand even the predictable car chases are more hong kong than hollywood , as they trash those quaint french cafes , vegetable carts , and , well , french people that , we all know in our hearts , deserve trashing just for being so damn quaint . \\nof course , the movie does have its share of silliness . \\nfor example , while beating the crap out of an obnoxious russian thug who obviously deserves what he's getting , alain stops long enough to look at his own reflection in the cracked mirror with which he has been whacking the guy on the head . \\nin an unnecessarily dramatic moment , he apparently is shocked at what he sees , at what he has become . \\nbut what has he become ? \\na tough cop who beats the hell out of a guy who tried to kill him ? \\ndoesn't sound too unreasonable to me , considering the genre . \\nbut let's face it , any time van damme tries to be dramatic , he looks silly . \\nso maximum risk is a little different from most other action films . \\nwhile watching it , i was surprised , and a little disappointed , in the relative lack of pyrotechnics . \\nbut watching some of these other action films is sort of like experiencing a sugar rush ; after the initial excitement , there's not much left . \\nalthough it's short on spectacle , lam's film leaves a better and more lasting impression , i think . \\ni'm more impressed by it now than i was while watching it , and to me , that's a good sign . \\ngo see maximum risk , but don't expect a typical hollywood action movie ; expect a sort of funky hong kong-hollywood action movie . \\nthe flying inkpot rating system : * wait for the tv2 broadcast . \\n * * a little creaky , but still better than staying at home with gotcha ! \\n * * * pretty good , bring a friend . \\n * * * * amazing , potent stuff . \\n * * * * * perfection . \\nsee it twice . \\ndr t . white teaches film at the english language and literature department of the national university of singapore , but we don't hold this against him . \\n\",\n          \"midway through \\\" anaconda \\\" , documentary filmmaker terri flores ( jennifer lopez ) turns to a co-worker and says \\\" i thought this movie would be my first big break . \\ninstead , it's turned into a disaster . \\\" \\ntruer words have never been spoken . \\n \\\" anaconda \\\" is a monster movie with a lousy monster . \\nit's a suspense film that is utterly predictable . \\nit's a mess the film does manage to drum up some scares , but only in the most elementary way , like a jack-in-the-box . \\nas you turn the crank , you're totally aware that the damn clown is going to pop up , but somehow it's still mildly startling when it happens . \\nthe main difference between the giant snake in \\\" anaconda \\\" and the clown in a jack-in-the-box is that the clown is more realistic . \\n \\\" anaconda \\\" boasts some of the worst special effects to appear onscreen in years . \\nanimatronic shots of the snake look as phony as any of those cringe- inducing robots you've endured at disney world . \\nbut it's the computer animated scenes that truly expand the meaning of the word lame . \\nin one shot , a character tries to flee from the monster by diving from a tree near a waterfall , but the giant snake springs out and loops around its hapless victim in mid air . \\nthe scene , if done well , would have been a jaw- dropper . \\nhere , the horribly bad digital effects look less convincing than a saturday morning cartoon . \\nwhat's really amazing is that the filmmaker's were so proud of this dreadful shot that they actually included it in the promotional trailers for the movie . \\nbut enough about the phony snakes . \\nnow it's time to talk about the lousy story . \\nheroic and very pale anthropologist eric stoltz leads a documentary film crew down a brazilian river in search of the shirishama indians , a legendary tribe that supposedly lives in the boondocks of the rain forest . \\nstoltz tells his crew \\\" pray that you didn't forget your bug spray . \\\" \\napparently the female crew members bathed in the stuff , because they spend most of the film wearing skimpy tops and short shorts with no ill effect . \\nalong the way , the group rescues a whacked-out lapsed priest ( jon voight ) who claims to know how to find the shirishama . \\nwithin minutes , they throw away all their plans and follow voight down a tributary into the land of creepiness . \\nfrom that point on , the film is a hodgepodge of scenes and shots ripped off from \\\" jaws \\\" and \\\" dead calm . \\\" \\none of the oddest structural points of the film is the handling of eric stoltz . \\nearly in the story , his character gets knocked into a coma by a river insect and spends virtually the rest of the movie unconscious . \\nso why did they hire an actor of the caliber of stoltz for what amounts to a cameo appearance ? \\nalso , why did stoltz , who generally selects his roles with great care , agree to appear in this crap ? \\nah , the mysteries of hollywood . \\nthe remaining crew members are basically just snake food waiting to happen . \\njonathan hyde is mildly diverting as a pompous englishman hired to narrate the documentary , but lopez and ice cube manage to rise above their cardboard characters . \\nlopez , who starred in \\\" selena , \\\" is an enormously appealing performer , possessing a vibrancy that makes even the most trite lines seem credible . \\nice cube has a special charisma ; an ability to look like a macho adult and a frightened boy simultaneously . \\nthere's also a special twinkle in his eyes , as if he's gently mocking his own tough-guy posturing . \\nbut the movie really centers around the outrageously hammy performance of jon voight . \\nobsessed with capturing one of the giant anacondas , voight plays the villain in thick accent , with a series of leers and hisses , spouting the kind of dialogue usually heard only in episodes of \\\" jonny quest . \\\" \\nat one point , he looms over the crew and says \\\" the anaconda is the perfect killing machine . \\nit strikes , wraps around you , holds you tighter than your true love . \\nand you get the privilege of hearing your bones break before the power of its embrace causes your veins to explode . \\n \\\" that moment is so high-camp that it almost made the film tolerable . \\nalmost . \\nfans of the horror genre may be tempted to check out \\\" anaconda . \\\" \\ndon't . \\nthere are a lots of horror films scheduled for release this summer , including another \\\" alien \\\" sequel . \\nwait for them , rent \\\" jaws \\\" in the meantime , and don't throw away your money and time on drivel like this . \\n\",\n          \"i was fortunate enough to attend an advance screening for the upcoming thriller conspiracy theory . \\nthis was , of course , a big deal for me because reviewing movies is basically just a hobby for me and i never get a chance at something like this . \\nnot only did i get to see an advance screening , i was able to see an advance screening of a * very good * movie . \\nthe very fast-paced film stars mel gibson as jerry fletcher , a fast-talking , witty , comical taxi driver in new york city . \\ngibson's performance is terrific , and his character is similar to that of martin riggs in the lethal weapon films . \\ngibson again teams up with richard donner , as he did in the lethal weapon films and maverick , and this time around , the combination works even better . \\nthe character of jerry fletcher is indeed unique . \\ntry to imagine a toned-downed version of travis bickle who , this time around , is a jittery guy with knowledge of government conspiracy cover-ups . \\nif you can imagine that , then you've basically got jerry fletcher . \\nin many ways , i was surprised by this movie . \\nto begin with , i was surprised at how good it was . \\ndon't get me wrong , it's not going to be accepting any gold trophies next spring , but it was a very enjoyable movie . \\nsecondly , i was surprised at mel gibson's performance . \\nhe provided a fantastic performance . \\nthe previews of this film led me to believe it was an all-out action flick , which after viewing , it was almost the opposite in a certain sense . \\ngibson's character has an almost uncountable number of one-liners , hilarious situations , and his character is one that the audience tends to side with throughout the film . \\nfor instance , jerry's apartment ( and especially his security ) is memorable . \\nand last , i was surprised at how good the plot is . \\nwriter brian helgeland has created a terrific story , and when watching this film , you are left to wonder if all of jerry fletcher's far-fetched ( or so they seem at first ) conspiracy theories are helgeland's own opinions . \\nmel gibson isn't the only stand-out in the film . \\njulia roberts is very good in her performance as alice sutton , the department of justice employee who can't seem to stay away from jerry fletcher , who continually visits alice in hopes that she will do something about his theories . \\nhe also seems obsessed and in love with her . \\nbut whenever he approaches her with another one of his theories , she shrugs him and his beliefs off , continually noting that one day she is going to slap a restraining order on him . \\njerry , obviously determined to continually seek out the truth , continues to research information for his next conspiracy theory , which will be printed in his newsletter ( same title as the movie ) . \\nalthough he only has five subscribers , he puts a large amount of time and effort into his work , and publishes his next edition . \\nvery soon after he does so , he is abducted and tortured by a sinister man who refers to himself as dr . jonas ( patrick stewart ) . \\nafter barely escaping alive , jerry is forced to turn to the only person he can trust : alice sutton . \\nthe remainder of the film is almost always fast-paced and full of action and suspense , with jerry's life being constantly put into jeopardy . \\nand more along the way , the audience ( and alice ) learn more and more about jerry's life . \\nmany things are explained throughout this film , both to the characters and to the audience . \\nfor instance , the meaning of the book \\\" the catcher in the rye \\\" and its ties to assassins , the reason lone gunmen have three names ( e . g . \\nlee harvey oswald and james earl ray ) , and the real truth behind the grateful dead . \\nmake sure listen closely throughout the film , as jerry is constantly throwing out interesting tidbits such as the above . \\ndefinitely , when conspiracy theory hits theaters august 8th , make sure you are standing in line to see it . \\ni am nearly positive everyone should enjoy this film , especially if you are into an action-thriller with witty dialogue and numerous suspenseful situations . \\nand even if you aren't , you should still like this film . \\n\"\n        ],\n        \"semantic_type\": \"\",\n        \"description\": \"\"\n      }\n    },\n    {\n      \"column\": \"category\",\n      \"properties\": {\n        \"dtype\": \"number\",\n        \"std\": 0,\n        \"min\": 0,\n        \"max\": 1,\n        \"num_unique_values\": 2,\n        \"samples\": [\n          0,\n          1\n        ],\n        \"semantic_type\": \"\",\n        \"description\": \"\"\n      }\n    },\n    {\n      \"column\": \"preprocessed\",\n      \"properties\": {\n        \"dtype\": \"object\",\n        \"semantic_type\": \"\",\n        \"description\": \"\"\n      }\n    },\n    {\n      \"column\": \"total_len\",\n      \"properties\": {\n        \"dtype\": \"number\",\n        \"std\": 147,\n        \"min\": 6,\n        \"max\": 1166,\n        \"num_unique_values\": 527,\n        \"samples\": [\n          187,\n          117\n        ],\n        \"semantic_type\": \"\",\n        \"description\": \"\"\n      }\n    },\n    {\n      \"column\": \"pos_count\",\n      \"properties\": {\n        \"dtype\": \"number\",\n        \"std\": 14,\n        \"min\": 1,\n        \"max\": 100,\n        \"num_unique_values\": 81,\n        \"samples\": [\n          33,\n          18\n        ],\n        \"semantic_type\": \"\",\n        \"description\": \"\"\n      }\n    },\n    {\n      \"column\": \"neg_count\",\n      \"properties\": {\n        \"dtype\": \"number\",\n        \"std\": 13,\n        \"min\": 0,\n        \"max\": 95,\n        \"num_unique_values\": 78,\n        \"samples\": [\n          50,\n          25\n        ],\n        \"semantic_type\": \"\",\n        \"description\": \"\"\n      }\n    },\n    {\n      \"column\": \"sentiment\",\n      \"properties\": {\n        \"dtype\": \"number\",\n        \"std\": 0.8538480543333309,\n        \"min\": -1.0,\n        \"max\": 1.0,\n        \"num_unique_values\": 136,\n        \"samples\": [\n          -0.79,\n          -0.53\n        ],\n        \"semantic_type\": \"\",\n        \"description\": \"\"\n      }\n    },\n    {\n      \"column\": \"preprocessed_final\",\n      \"properties\": {\n        \"dtype\": \"string\",\n        \"num_unique_values\": 1498,\n        \"samples\": [\n          \"kind movie makes one appreciate disney live action george jungle tarzan lost city latest attempt bring edgar rice burrough legendary hero big screen one inept ill timed tarzan adventure far badly conceived poorly executed tarzan lost city appears headed quick trip video store shelves idea producers chose bring back tarzan legions new fans clamoring next movie furthermore even curious film rated pg definition rules sex explicit violence advocating excesses embraced bo derek version story tarzan deserves slightly adult approach one used embarrassing production course tweaking content change rating could saved tarzan lost city since film troubles originated script propagated way line imagine george jungle stripped intentional humor fair idea tarzan like uninspired action tepid adventure sequences film barely registers pulse anyone search relatively entertaining family jungle adventure check version jungle book uses basic elements much better effect worthwhile element tarzan lost city pretty scenery unfortunately includes two lead actors film attempt tell origin story thinking done often enough instead tarzan lost city introduces us lord graystoke k john clayton k tarzan ape man casper van dien several days marriage lady jane porter jane march living happily england enjoying benefits land owning noble meanwhile central africa dastardly nigel ravens steven waddington self proclaimed scholar explorer believes found way lost city opar calls cradle civilization way band mercenaries sorts nasty things like burning native villages earn wrath locals one shaman determined stop ravens unearthing opal sends mystical message tarzan help lady jane following close behind returns jungle born patently obvious casper van dien one pretty boy heroes starship troopers hired basis acting ability plastic facial expressions monotone voice complete inability make convincing animal noises range rivals steven seagal pecs however impressive director carl schenkel makes sure given every opportunity show jane march hand keep shirt may first six years ago march give solid performance jean jacques annaud steamy lover since made career killing decision appearing opposite bruce willis color night exploited every acting defiency tarzan continues trend march may attractive least judging performance act meanwhile steven waddington serious trouble summoning menace necessary really detestable bad guy instead turns little nuisance story line pure formula largely true throughout years almost tarzan movies problem one seems childish lifeless romantic elements contrived fact lady jane presence necessary captured subsequently rescued buff fiance special effects truly bottom barrel including laughably bad men ape costumes apparently animatronics expensive production course jungle movies obligatory cute animals years legend tarzan one popular sources film series material famous ape man johnny weismuller less two dozen actors essayed part including gordon scott widely believed best actor tackle role weismuller made tarzan features van dien probably fall short number seen tarzan lost city would argue movie going public would well served missed\",\n          \"well check score card done holiday weekend reads good ideas dumb ideas know thinking decided watch movie defense say someone else urged see film talking night roxbury one offerings based saturday night live skit wayne garth two rather meet doug steve butabi actors names worth mentioning two eternal partyers whose greatest ambitions life seem finding way get hottest night club city roxbury driving dad bmw donning metallic disco suits right miami vice try bribe bouncer get club met friend washington friend roosevelt confidently say pull spare pocket change second greatest ambition seems oozing many silly pick lines humanly possible order start conversation girl let see label thought made heaven says one brothers like losers fail either much film however fate would accidental meeting ever happened richard grieco gives important ticket get sad lives take whole new direction make important contact club owner believes two brothers uncanny insight club scene mistaken rich swingers two voluptuous young women newfound popularity impress father plans unfortunate thing film one joke movie brothers joke actually mintues worth tolerable stuff alas long tv way short feature length film thus enough material sustain minute movie plot found everything two seem culminate opportunity execute trademark move snapping heads unison funky beat haddaway europop song love amazed none two suffered whiplash take film time subplot involving daughter businessman next door wants marry doug creates friction brothers unlikely pairing also agitate audience members well educated forebearing witch meanwhile doug complete loser two ever get together suppose ever figure answer question figured decided go see movie looking entertainment find roxbury\"\n        ],\n        \"semantic_type\": \"\",\n        \"description\": \"\"\n      }\n    }\n  ]\n}"
            }
          },
          "metadata": {},
          "execution_count": 15
        }
      ]
    },
    {
      "cell_type": "markdown",
      "source": [
        "# Vectorizing"
      ],
      "metadata": {
        "id": "nINrvGaioXRF"
      }
    },
    {
      "cell_type": "code",
      "source": [
        "from sklearn.feature_extraction.text import TfidfVectorizer\n",
        "from sklearn.preprocessing import StandardScaler\n",
        "from scipy.sparse import hstack"
      ],
      "metadata": {
        "id": "h1f7lNlBoU7W"
      },
      "execution_count": null,
      "outputs": []
    },
    {
      "cell_type": "code",
      "source": [
        "scaler = StandardScaler()"
      ],
      "metadata": {
        "id": "Hqaohvwkq4Eo"
      },
      "execution_count": null,
      "outputs": []
    },
    {
      "cell_type": "code",
      "source": [
        "vectorizer = TfidfVectorizer(\n",
        "    min_df=5,\n",
        "    max_df=0.8,\n",
        "    sublinear_tf=True,\n",
        "    use_idf=True,\n",
        ")\n",
        "\n",
        "train_vectors = vectorizer.fit_transform(train['preprocessed_final'])\n",
        "test_vectors = vectorizer.transform(test['preprocessed_final'])\n",
        "test2_vectors = vectorizer.transform(test2['preprocessed_final'])\n",
        "\n",
        "train_numerical_features = scaler.fit_transform(train[['total_len', 'pos_count', 'neg_count', 'sentiment']])\n",
        "test_numerical_features = scaler.transform(test[['total_len', 'pos_count', 'neg_count', 'sentiment']])\n",
        "test2_numerical_features = scaler.transform(test2[['total_len', 'pos_count', 'neg_count', 'sentiment']])\n",
        "\n",
        "train_features = hstack([train_vectors, train_numerical_features])\n",
        "test_features = hstack([test_vectors, test_numerical_features])\n",
        "test2_features = hstack([test2_vectors, test2_numerical_features])"
      ],
      "metadata": {
        "id": "Rk4F7A0RqgkM"
      },
      "execution_count": null,
      "outputs": []
    },
    {
      "cell_type": "markdown",
      "source": [
        "# Models"
      ],
      "metadata": {
        "id": "aid3kiTartpD"
      }
    },
    {
      "cell_type": "markdown",
      "source": [
        "## SVM"
      ],
      "metadata": {
        "id": "ffR262TrrxME"
      }
    },
    {
      "cell_type": "code",
      "source": [
        "svm_linear = svm.SVC(kernel='linear')\n",
        "t0 = time.time()\n",
        "\n",
        "svm_linear.fit(train_features, train['category'])\n",
        "t1 = time.time()\n",
        "\n",
        "svm_linear_pred = le.inverse_transform(svm_linear.predict(test2_features))\n",
        "t2 = time.time()\n",
        "\n",
        "time_linear_train = t1-t0\n",
        "time_linear_predict = t2-t1\n",
        "\n",
        "print(\"Training time: %fs; Prediction time: %fs\" % (time_linear_train, time_linear_predict))"
      ],
      "metadata": {
        "colab": {
          "base_uri": "https://localhost:8080/"
        },
        "id": "7Jb4bgs6rZEp",
        "outputId": "911e380c-8d6f-4321-d564-4b912c932fd9"
      },
      "execution_count": null,
      "outputs": [
        {
          "output_type": "stream",
          "name": "stdout",
          "text": [
            "Training time: 7.143004s; Prediction time: 0.804082s\n"
          ]
        }
      ]
    },
    {
      "cell_type": "code",
      "source": [
        "report = classification_report(test2['category'], svm_linear_pred, output_dict=True)\n",
        "\n",
        "print('positive: ', report['positive'])\n",
        "print('negative: ', report['negative'])"
      ],
      "metadata": {
        "colab": {
          "base_uri": "https://localhost:8080/"
        },
        "id": "NheKl4kvr0Xq",
        "outputId": "5b7e5eda-43d2-48e4-92a4-833487243775"
      },
      "execution_count": null,
      "outputs": [
        {
          "output_type": "stream",
          "name": "stdout",
          "text": [
            "positive:  {'precision': 0.8963730569948186, 'recall': 0.729957805907173, 'f1-score': 0.8046511627906977, 'support': 237}\n",
            "negative:  {'precision': 0.7915309446254072, 'recall': 0.9239543726235742, 'f1-score': 0.8526315789473684, 'support': 263}\n"
          ]
        }
      ]
    },
    {
      "cell_type": "code",
      "source": [
        "svm_final_pred = le.inverse_transform(svm_linear.predict(test_features))"
      ],
      "metadata": {
        "id": "2KsxaesuSjS9"
      },
      "execution_count": null,
      "outputs": []
    },
    {
      "cell_type": "markdown",
      "source": [
        "## SGD Classifier"
      ],
      "metadata": {
        "id": "AzWAOJLhxIPw"
      }
    },
    {
      "cell_type": "code",
      "source": [
        "sgd = SGDClassifier()\n",
        "sgd.fit(train_features, train['category'])"
      ],
      "metadata": {
        "colab": {
          "base_uri": "https://localhost:8080/",
          "height": 74
        },
        "id": "ZoWSnWBdxJoq",
        "outputId": "a6ec9335-1339-4bb6-f0be-e2f2f33f6955"
      },
      "execution_count": null,
      "outputs": [
        {
          "output_type": "execute_result",
          "data": {
            "text/plain": [
              "SGDClassifier()"
            ],
            "text/html": [
              "<style>#sk-container-id-1 {color: black;background-color: white;}#sk-container-id-1 pre{padding: 0;}#sk-container-id-1 div.sk-toggleable {background-color: white;}#sk-container-id-1 label.sk-toggleable__label {cursor: pointer;display: block;width: 100%;margin-bottom: 0;padding: 0.3em;box-sizing: border-box;text-align: center;}#sk-container-id-1 label.sk-toggleable__label-arrow:before {content: \"▸\";float: left;margin-right: 0.25em;color: #696969;}#sk-container-id-1 label.sk-toggleable__label-arrow:hover:before {color: black;}#sk-container-id-1 div.sk-estimator:hover label.sk-toggleable__label-arrow:before {color: black;}#sk-container-id-1 div.sk-toggleable__content {max-height: 0;max-width: 0;overflow: hidden;text-align: left;background-color: #f0f8ff;}#sk-container-id-1 div.sk-toggleable__content pre {margin: 0.2em;color: black;border-radius: 0.25em;background-color: #f0f8ff;}#sk-container-id-1 input.sk-toggleable__control:checked~div.sk-toggleable__content {max-height: 200px;max-width: 100%;overflow: auto;}#sk-container-id-1 input.sk-toggleable__control:checked~label.sk-toggleable__label-arrow:before {content: \"▾\";}#sk-container-id-1 div.sk-estimator input.sk-toggleable__control:checked~label.sk-toggleable__label {background-color: #d4ebff;}#sk-container-id-1 div.sk-label input.sk-toggleable__control:checked~label.sk-toggleable__label {background-color: #d4ebff;}#sk-container-id-1 input.sk-hidden--visually {border: 0;clip: rect(1px 1px 1px 1px);clip: rect(1px, 1px, 1px, 1px);height: 1px;margin: -1px;overflow: hidden;padding: 0;position: absolute;width: 1px;}#sk-container-id-1 div.sk-estimator {font-family: monospace;background-color: #f0f8ff;border: 1px dotted black;border-radius: 0.25em;box-sizing: border-box;margin-bottom: 0.5em;}#sk-container-id-1 div.sk-estimator:hover {background-color: #d4ebff;}#sk-container-id-1 div.sk-parallel-item::after {content: \"\";width: 100%;border-bottom: 1px solid gray;flex-grow: 1;}#sk-container-id-1 div.sk-label:hover label.sk-toggleable__label {background-color: #d4ebff;}#sk-container-id-1 div.sk-serial::before {content: \"\";position: absolute;border-left: 1px solid gray;box-sizing: border-box;top: 0;bottom: 0;left: 50%;z-index: 0;}#sk-container-id-1 div.sk-serial {display: flex;flex-direction: column;align-items: center;background-color: white;padding-right: 0.2em;padding-left: 0.2em;position: relative;}#sk-container-id-1 div.sk-item {position: relative;z-index: 1;}#sk-container-id-1 div.sk-parallel {display: flex;align-items: stretch;justify-content: center;background-color: white;position: relative;}#sk-container-id-1 div.sk-item::before, #sk-container-id-1 div.sk-parallel-item::before {content: \"\";position: absolute;border-left: 1px solid gray;box-sizing: border-box;top: 0;bottom: 0;left: 50%;z-index: -1;}#sk-container-id-1 div.sk-parallel-item {display: flex;flex-direction: column;z-index: 1;position: relative;background-color: white;}#sk-container-id-1 div.sk-parallel-item:first-child::after {align-self: flex-end;width: 50%;}#sk-container-id-1 div.sk-parallel-item:last-child::after {align-self: flex-start;width: 50%;}#sk-container-id-1 div.sk-parallel-item:only-child::after {width: 0;}#sk-container-id-1 div.sk-dashed-wrapped {border: 1px dashed gray;margin: 0 0.4em 0.5em 0.4em;box-sizing: border-box;padding-bottom: 0.4em;background-color: white;}#sk-container-id-1 div.sk-label label {font-family: monospace;font-weight: bold;display: inline-block;line-height: 1.2em;}#sk-container-id-1 div.sk-label-container {text-align: center;}#sk-container-id-1 div.sk-container {/* jupyter's `normalize.less` sets `[hidden] { display: none; }` but bootstrap.min.css set `[hidden] { display: none !important; }` so we also need the `!important` here to be able to override the default hidden behavior on the sphinx rendered scikit-learn.org. See: https://github.com/scikit-learn/scikit-learn/issues/21755 */display: inline-block !important;position: relative;}#sk-container-id-1 div.sk-text-repr-fallback {display: none;}</style><div id=\"sk-container-id-1\" class=\"sk-top-container\"><div class=\"sk-text-repr-fallback\"><pre>SGDClassifier()</pre><b>In a Jupyter environment, please rerun this cell to show the HTML representation or trust the notebook. <br />On GitHub, the HTML representation is unable to render, please try loading this page with nbviewer.org.</b></div><div class=\"sk-container\" hidden><div class=\"sk-item\"><div class=\"sk-estimator sk-toggleable\"><input class=\"sk-toggleable__control sk-hidden--visually\" id=\"sk-estimator-id-1\" type=\"checkbox\" checked><label for=\"sk-estimator-id-1\" class=\"sk-toggleable__label sk-toggleable__label-arrow\">SGDClassifier</label><div class=\"sk-toggleable__content\"><pre>SGDClassifier()</pre></div></div></div></div></div>"
            ]
          },
          "metadata": {},
          "execution_count": 21
        }
      ]
    },
    {
      "cell_type": "code",
      "source": [
        "sgd_pred = le.inverse_transform(sgd.predict(test2_features))"
      ],
      "metadata": {
        "id": "4dT8cmp5xLpy"
      },
      "execution_count": null,
      "outputs": []
    },
    {
      "cell_type": "code",
      "source": [
        "report = classification_report(test2['category'], sgd_pred, output_dict=True)\n",
        "\n",
        "print('positive: ', report['positive'])\n",
        "print('negative: ', report['negative'])"
      ],
      "metadata": {
        "colab": {
          "base_uri": "https://localhost:8080/"
        },
        "id": "uUguKER_x5UN",
        "outputId": "30abfd59-23bf-4214-942a-1cad4676a7c0"
      },
      "execution_count": null,
      "outputs": [
        {
          "output_type": "stream",
          "name": "stdout",
          "text": [
            "positive:  {'precision': 0.7242524916943521, 'recall': 0.919831223628692, 'f1-score': 0.8104089219330856, 'support': 237}\n",
            "negative:  {'precision': 0.9045226130653267, 'recall': 0.6844106463878327, 'f1-score': 0.7792207792207791, 'support': 263}\n"
          ]
        }
      ]
    },
    {
      "cell_type": "code",
      "source": [
        "sgd_final_pred = le.inverse_transform(sgd.predict(test_features))"
      ],
      "metadata": {
        "id": "JU04AJESSn6Q"
      },
      "execution_count": null,
      "outputs": []
    },
    {
      "cell_type": "markdown",
      "source": [
        "## SVC"
      ],
      "metadata": {
        "id": "MCdbnMWFyPJT"
      }
    },
    {
      "cell_type": "code",
      "source": [
        "from sklearn.svm import SVC\n",
        "\n",
        "# Create a SVC classifier\n",
        "SVC_classifier = SVC()\n",
        "\n",
        "# Train the classifier\n",
        "SVC_classifier.fit(train_features, train['category'])"
      ],
      "metadata": {
        "colab": {
          "base_uri": "https://localhost:8080/",
          "height": 74
        },
        "id": "pvT0iM-PyQU_",
        "outputId": "a556bbb9-eee2-4679-e3e3-aa517fba073f"
      },
      "execution_count": null,
      "outputs": [
        {
          "output_type": "execute_result",
          "data": {
            "text/plain": [
              "SVC()"
            ],
            "text/html": [
              "<style>#sk-container-id-2 {color: black;background-color: white;}#sk-container-id-2 pre{padding: 0;}#sk-container-id-2 div.sk-toggleable {background-color: white;}#sk-container-id-2 label.sk-toggleable__label {cursor: pointer;display: block;width: 100%;margin-bottom: 0;padding: 0.3em;box-sizing: border-box;text-align: center;}#sk-container-id-2 label.sk-toggleable__label-arrow:before {content: \"▸\";float: left;margin-right: 0.25em;color: #696969;}#sk-container-id-2 label.sk-toggleable__label-arrow:hover:before {color: black;}#sk-container-id-2 div.sk-estimator:hover label.sk-toggleable__label-arrow:before {color: black;}#sk-container-id-2 div.sk-toggleable__content {max-height: 0;max-width: 0;overflow: hidden;text-align: left;background-color: #f0f8ff;}#sk-container-id-2 div.sk-toggleable__content pre {margin: 0.2em;color: black;border-radius: 0.25em;background-color: #f0f8ff;}#sk-container-id-2 input.sk-toggleable__control:checked~div.sk-toggleable__content {max-height: 200px;max-width: 100%;overflow: auto;}#sk-container-id-2 input.sk-toggleable__control:checked~label.sk-toggleable__label-arrow:before {content: \"▾\";}#sk-container-id-2 div.sk-estimator input.sk-toggleable__control:checked~label.sk-toggleable__label {background-color: #d4ebff;}#sk-container-id-2 div.sk-label input.sk-toggleable__control:checked~label.sk-toggleable__label {background-color: #d4ebff;}#sk-container-id-2 input.sk-hidden--visually {border: 0;clip: rect(1px 1px 1px 1px);clip: rect(1px, 1px, 1px, 1px);height: 1px;margin: -1px;overflow: hidden;padding: 0;position: absolute;width: 1px;}#sk-container-id-2 div.sk-estimator {font-family: monospace;background-color: #f0f8ff;border: 1px dotted black;border-radius: 0.25em;box-sizing: border-box;margin-bottom: 0.5em;}#sk-container-id-2 div.sk-estimator:hover {background-color: #d4ebff;}#sk-container-id-2 div.sk-parallel-item::after {content: \"\";width: 100%;border-bottom: 1px solid gray;flex-grow: 1;}#sk-container-id-2 div.sk-label:hover label.sk-toggleable__label {background-color: #d4ebff;}#sk-container-id-2 div.sk-serial::before {content: \"\";position: absolute;border-left: 1px solid gray;box-sizing: border-box;top: 0;bottom: 0;left: 50%;z-index: 0;}#sk-container-id-2 div.sk-serial {display: flex;flex-direction: column;align-items: center;background-color: white;padding-right: 0.2em;padding-left: 0.2em;position: relative;}#sk-container-id-2 div.sk-item {position: relative;z-index: 1;}#sk-container-id-2 div.sk-parallel {display: flex;align-items: stretch;justify-content: center;background-color: white;position: relative;}#sk-container-id-2 div.sk-item::before, #sk-container-id-2 div.sk-parallel-item::before {content: \"\";position: absolute;border-left: 1px solid gray;box-sizing: border-box;top: 0;bottom: 0;left: 50%;z-index: -1;}#sk-container-id-2 div.sk-parallel-item {display: flex;flex-direction: column;z-index: 1;position: relative;background-color: white;}#sk-container-id-2 div.sk-parallel-item:first-child::after {align-self: flex-end;width: 50%;}#sk-container-id-2 div.sk-parallel-item:last-child::after {align-self: flex-start;width: 50%;}#sk-container-id-2 div.sk-parallel-item:only-child::after {width: 0;}#sk-container-id-2 div.sk-dashed-wrapped {border: 1px dashed gray;margin: 0 0.4em 0.5em 0.4em;box-sizing: border-box;padding-bottom: 0.4em;background-color: white;}#sk-container-id-2 div.sk-label label {font-family: monospace;font-weight: bold;display: inline-block;line-height: 1.2em;}#sk-container-id-2 div.sk-label-container {text-align: center;}#sk-container-id-2 div.sk-container {/* jupyter's `normalize.less` sets `[hidden] { display: none; }` but bootstrap.min.css set `[hidden] { display: none !important; }` so we also need the `!important` here to be able to override the default hidden behavior on the sphinx rendered scikit-learn.org. See: https://github.com/scikit-learn/scikit-learn/issues/21755 */display: inline-block !important;position: relative;}#sk-container-id-2 div.sk-text-repr-fallback {display: none;}</style><div id=\"sk-container-id-2\" class=\"sk-top-container\"><div class=\"sk-text-repr-fallback\"><pre>SVC()</pre><b>In a Jupyter environment, please rerun this cell to show the HTML representation or trust the notebook. <br />On GitHub, the HTML representation is unable to render, please try loading this page with nbviewer.org.</b></div><div class=\"sk-container\" hidden><div class=\"sk-item\"><div class=\"sk-estimator sk-toggleable\"><input class=\"sk-toggleable__control sk-hidden--visually\" id=\"sk-estimator-id-2\" type=\"checkbox\" checked><label for=\"sk-estimator-id-2\" class=\"sk-toggleable__label sk-toggleable__label-arrow\">SVC</label><div class=\"sk-toggleable__content\"><pre>SVC()</pre></div></div></div></div></div>"
            ]
          },
          "metadata": {},
          "execution_count": 24
        }
      ]
    },
    {
      "cell_type": "code",
      "source": [
        "# Predict the labels for the test data\n",
        "SVC_pred = le.inverse_transform(SVC_classifier.predict(test2_features))\n",
        "\n",
        "report = classification_report(test2['category'], SVC_pred, output_dict=True)\n",
        "\n",
        "print('positive: ', report['positive'])\n",
        "print('negative: ', report['negative'])"
      ],
      "metadata": {
        "colab": {
          "base_uri": "https://localhost:8080/"
        },
        "id": "S8ooQbX_ySEK",
        "outputId": "cdc6ede3-1740-4a1f-e528-c43fb407836f"
      },
      "execution_count": null,
      "outputs": [
        {
          "output_type": "stream",
          "name": "stdout",
          "text": [
            "positive:  {'precision': 0.801980198019802, 'recall': 0.6835443037974683, 'f1-score': 0.7380410022779044, 'support': 237}\n",
            "negative:  {'precision': 0.7483221476510067, 'recall': 0.8479087452471483, 'f1-score': 0.7950089126559715, 'support': 263}\n"
          ]
        }
      ]
    },
    {
      "cell_type": "code",
      "source": [
        "svc_final_pred = le.inverse_transform(SVC_classifier.predict(test_features))"
      ],
      "metadata": {
        "id": "vR1sCw7uSv4e"
      },
      "execution_count": null,
      "outputs": []
    },
    {
      "cell_type": "markdown",
      "source": [
        "## Logistic Regression"
      ],
      "metadata": {
        "id": "bns9ijCTyDi2"
      }
    },
    {
      "cell_type": "code",
      "source": [
        "# Create a Logistic Regression classifier\n",
        "logreg = LogisticRegression()\n",
        "\n",
        "# Train the classifier\n",
        "logreg.fit(train_features, train['category'])"
      ],
      "metadata": {
        "colab": {
          "base_uri": "https://localhost:8080/",
          "height": 74
        },
        "id": "D06D9MD4x6Gz",
        "outputId": "c288ba95-8a9c-4758-be3c-e1700638a611"
      },
      "execution_count": null,
      "outputs": [
        {
          "output_type": "execute_result",
          "data": {
            "text/plain": [
              "LogisticRegression()"
            ],
            "text/html": [
              "<style>#sk-container-id-3 {color: black;background-color: white;}#sk-container-id-3 pre{padding: 0;}#sk-container-id-3 div.sk-toggleable {background-color: white;}#sk-container-id-3 label.sk-toggleable__label {cursor: pointer;display: block;width: 100%;margin-bottom: 0;padding: 0.3em;box-sizing: border-box;text-align: center;}#sk-container-id-3 label.sk-toggleable__label-arrow:before {content: \"▸\";float: left;margin-right: 0.25em;color: #696969;}#sk-container-id-3 label.sk-toggleable__label-arrow:hover:before {color: black;}#sk-container-id-3 div.sk-estimator:hover label.sk-toggleable__label-arrow:before {color: black;}#sk-container-id-3 div.sk-toggleable__content {max-height: 0;max-width: 0;overflow: hidden;text-align: left;background-color: #f0f8ff;}#sk-container-id-3 div.sk-toggleable__content pre {margin: 0.2em;color: black;border-radius: 0.25em;background-color: #f0f8ff;}#sk-container-id-3 input.sk-toggleable__control:checked~div.sk-toggleable__content {max-height: 200px;max-width: 100%;overflow: auto;}#sk-container-id-3 input.sk-toggleable__control:checked~label.sk-toggleable__label-arrow:before {content: \"▾\";}#sk-container-id-3 div.sk-estimator input.sk-toggleable__control:checked~label.sk-toggleable__label {background-color: #d4ebff;}#sk-container-id-3 div.sk-label input.sk-toggleable__control:checked~label.sk-toggleable__label {background-color: #d4ebff;}#sk-container-id-3 input.sk-hidden--visually {border: 0;clip: rect(1px 1px 1px 1px);clip: rect(1px, 1px, 1px, 1px);height: 1px;margin: -1px;overflow: hidden;padding: 0;position: absolute;width: 1px;}#sk-container-id-3 div.sk-estimator {font-family: monospace;background-color: #f0f8ff;border: 1px dotted black;border-radius: 0.25em;box-sizing: border-box;margin-bottom: 0.5em;}#sk-container-id-3 div.sk-estimator:hover {background-color: #d4ebff;}#sk-container-id-3 div.sk-parallel-item::after {content: \"\";width: 100%;border-bottom: 1px solid gray;flex-grow: 1;}#sk-container-id-3 div.sk-label:hover label.sk-toggleable__label {background-color: #d4ebff;}#sk-container-id-3 div.sk-serial::before {content: \"\";position: absolute;border-left: 1px solid gray;box-sizing: border-box;top: 0;bottom: 0;left: 50%;z-index: 0;}#sk-container-id-3 div.sk-serial {display: flex;flex-direction: column;align-items: center;background-color: white;padding-right: 0.2em;padding-left: 0.2em;position: relative;}#sk-container-id-3 div.sk-item {position: relative;z-index: 1;}#sk-container-id-3 div.sk-parallel {display: flex;align-items: stretch;justify-content: center;background-color: white;position: relative;}#sk-container-id-3 div.sk-item::before, #sk-container-id-3 div.sk-parallel-item::before {content: \"\";position: absolute;border-left: 1px solid gray;box-sizing: border-box;top: 0;bottom: 0;left: 50%;z-index: -1;}#sk-container-id-3 div.sk-parallel-item {display: flex;flex-direction: column;z-index: 1;position: relative;background-color: white;}#sk-container-id-3 div.sk-parallel-item:first-child::after {align-self: flex-end;width: 50%;}#sk-container-id-3 div.sk-parallel-item:last-child::after {align-self: flex-start;width: 50%;}#sk-container-id-3 div.sk-parallel-item:only-child::after {width: 0;}#sk-container-id-3 div.sk-dashed-wrapped {border: 1px dashed gray;margin: 0 0.4em 0.5em 0.4em;box-sizing: border-box;padding-bottom: 0.4em;background-color: white;}#sk-container-id-3 div.sk-label label {font-family: monospace;font-weight: bold;display: inline-block;line-height: 1.2em;}#sk-container-id-3 div.sk-label-container {text-align: center;}#sk-container-id-3 div.sk-container {/* jupyter's `normalize.less` sets `[hidden] { display: none; }` but bootstrap.min.css set `[hidden] { display: none !important; }` so we also need the `!important` here to be able to override the default hidden behavior on the sphinx rendered scikit-learn.org. See: https://github.com/scikit-learn/scikit-learn/issues/21755 */display: inline-block !important;position: relative;}#sk-container-id-3 div.sk-text-repr-fallback {display: none;}</style><div id=\"sk-container-id-3\" class=\"sk-top-container\"><div class=\"sk-text-repr-fallback\"><pre>LogisticRegression()</pre><b>In a Jupyter environment, please rerun this cell to show the HTML representation or trust the notebook. <br />On GitHub, the HTML representation is unable to render, please try loading this page with nbviewer.org.</b></div><div class=\"sk-container\" hidden><div class=\"sk-item\"><div class=\"sk-estimator sk-toggleable\"><input class=\"sk-toggleable__control sk-hidden--visually\" id=\"sk-estimator-id-3\" type=\"checkbox\" checked><label for=\"sk-estimator-id-3\" class=\"sk-toggleable__label sk-toggleable__label-arrow\">LogisticRegression</label><div class=\"sk-toggleable__content\"><pre>LogisticRegression()</pre></div></div></div></div></div>"
            ]
          },
          "metadata": {},
          "execution_count": 26
        }
      ]
    },
    {
      "cell_type": "code",
      "source": [
        "# Predict the labels for the test data\n",
        "logreg_pred = le.inverse_transform(logreg.predict(test2_features))"
      ],
      "metadata": {
        "id": "SoxXUrnIzHdQ"
      },
      "execution_count": null,
      "outputs": []
    },
    {
      "cell_type": "code",
      "source": [
        "report = classification_report(test2['category'], logreg_pred, output_dict=True)\n",
        "\n",
        "print('positive: ', report['positive'])\n",
        "print('negative: ', report['negative'])"
      ],
      "metadata": {
        "colab": {
          "base_uri": "https://localhost:8080/"
        },
        "id": "O-LJUcu4zJ-6",
        "outputId": "b4699a07-6f31-4d43-c49d-5bb6f099253c"
      },
      "execution_count": null,
      "outputs": [
        {
          "output_type": "stream",
          "name": "stdout",
          "text": [
            "positive:  {'precision': 0.9315068493150684, 'recall': 0.5738396624472574, 'f1-score': 0.7101827676240209, 'support': 237}\n",
            "negative:  {'precision': 0.7146892655367232, 'recall': 0.9619771863117871, 'f1-score': 0.8200972447325772, 'support': 263}\n"
          ]
        }
      ]
    },
    {
      "cell_type": "code",
      "source": [
        "logreg_final_pred = le.inverse_transform(logreg.predict(test_features))"
      ],
      "metadata": {
        "id": "XQZAaNWfS0mU"
      },
      "execution_count": null,
      "outputs": []
    },
    {
      "cell_type": "markdown",
      "source": [
        "## NuSVC"
      ],
      "metadata": {
        "id": "4WHaW36uSWOW"
      }
    },
    {
      "cell_type": "code",
      "source": [
        "nu_svc = NuSVC()\n",
        "\n",
        "# Train the classifier\n",
        "nu_svc.fit(train_features, train['category'])\n",
        "\n",
        "# Predict the labels for the test data\n",
        "nu_svc_pred = le.inverse_transform(nu_svc.predict(test2_features))"
      ],
      "metadata": {
        "id": "ZuMlovZjSXpg"
      },
      "execution_count": null,
      "outputs": []
    },
    {
      "cell_type": "code",
      "source": [
        "report = classification_report(test2['category'], nu_svc_pred, output_dict=True)\n",
        "\n",
        "print('positive: ', report['positive'])\n",
        "print('negative: ', report['negative'])"
      ],
      "metadata": {
        "colab": {
          "base_uri": "https://localhost:8080/"
        },
        "id": "BQEsb0BCScRM",
        "outputId": "b4f8e20a-8fcc-4d3e-a0f6-75c11f53b6a8"
      },
      "execution_count": null,
      "outputs": [
        {
          "output_type": "stream",
          "name": "stdout",
          "text": [
            "positive:  {'precision': 0.8793103448275862, 'recall': 0.6455696202531646, 'f1-score': 0.7445255474452555, 'support': 237}\n",
            "negative:  {'precision': 0.7423312883435583, 'recall': 0.9201520912547528, 'f1-score': 0.8217317487266553, 'support': 263}\n"
          ]
        }
      ]
    },
    {
      "cell_type": "code",
      "source": [
        "nusvc_final_pred = le.inverse_transform(nu_svc.predict(test_features))"
      ],
      "metadata": {
        "id": "hctp3ZA3S32a"
      },
      "execution_count": null,
      "outputs": []
    },
    {
      "cell_type": "markdown",
      "source": [
        "## FairGBM"
      ],
      "metadata": {
        "id": "3My8-n5fzWGH"
      }
    },
    {
      "cell_type": "code",
      "source": [
        "%pip install fairgbm fairlearn scikit-learn hyperparameter-tuning seaborn matplotlib wget"
      ],
      "metadata": {
        "colab": {
          "base_uri": "https://localhost:8080/"
        },
        "id": "2Sev2CAEzcD9",
        "outputId": "04cad034-1429-408e-e03d-c8f04c79c705"
      },
      "execution_count": null,
      "outputs": [
        {
          "output_type": "stream",
          "name": "stdout",
          "text": [
            "Requirement already satisfied: fairgbm in /usr/local/lib/python3.10/dist-packages (0.9.14)\n",
            "Collecting fairlearn\n",
            "  Downloading fairlearn-0.10.0-py3-none-any.whl (234 kB)\n",
            "\u001b[2K     \u001b[90m━━━━━━━━━━━━━━━━━━━━━━━━━━━━━━━━━━━━━━━━\u001b[0m \u001b[32m234.1/234.1 kB\u001b[0m \u001b[31m3.0 MB/s\u001b[0m eta \u001b[36m0:00:00\u001b[0m\n",
            "\u001b[?25hRequirement already satisfied: scikit-learn in /usr/local/lib/python3.10/dist-packages (1.2.2)\n",
            "Collecting hyperparameter-tuning\n",
            "  Downloading hyperparameter_tuning-0.3.1-py3-none-any.whl (25 kB)\n",
            "Requirement already satisfied: seaborn in /usr/local/lib/python3.10/dist-packages (0.13.1)\n",
            "Requirement already satisfied: matplotlib in /usr/local/lib/python3.10/dist-packages (3.7.1)\n",
            "Collecting wget\n",
            "  Downloading wget-3.2.zip (10 kB)\n",
            "  Preparing metadata (setup.py) ... \u001b[?25l\u001b[?25hdone\n",
            "Requirement already satisfied: wheel in /usr/local/lib/python3.10/dist-packages (from fairgbm) (0.43.0)\n",
            "Requirement already satisfied: numpy in /usr/local/lib/python3.10/dist-packages (from fairgbm) (1.25.2)\n",
            "Requirement already satisfied: scipy in /usr/local/lib/python3.10/dist-packages (from fairgbm) (1.11.4)\n",
            "Requirement already satisfied: pandas>=2.0.3 in /usr/local/lib/python3.10/dist-packages (from fairlearn) (2.0.3)\n",
            "Requirement already satisfied: joblib>=1.1.1 in /usr/local/lib/python3.10/dist-packages (from scikit-learn) (1.4.0)\n",
            "Requirement already satisfied: threadpoolctl>=2.0.0 in /usr/local/lib/python3.10/dist-packages (from scikit-learn) (3.4.0)\n",
            "Collecting optuna (from hyperparameter-tuning)\n",
            "  Downloading optuna-3.6.1-py3-none-any.whl (380 kB)\n",
            "\u001b[2K     \u001b[90m━━━━━━━━━━━━━━━━━━━━━━━━━━━━━━━━━━━━━━━━\u001b[0m \u001b[32m380.1/380.1 kB\u001b[0m \u001b[31m32.7 MB/s\u001b[0m eta \u001b[36m0:00:00\u001b[0m\n",
            "\u001b[?25hRequirement already satisfied: pyyaml in /usr/local/lib/python3.10/dist-packages (from hyperparameter-tuning) (6.0.1)\n",
            "Collecting schema (from hyperparameter-tuning)\n",
            "  Downloading schema-0.7.5-py2.py3-none-any.whl (17 kB)\n",
            "Requirement already satisfied: contourpy>=1.0.1 in /usr/local/lib/python3.10/dist-packages (from matplotlib) (1.2.1)\n",
            "Requirement already satisfied: cycler>=0.10 in /usr/local/lib/python3.10/dist-packages (from matplotlib) (0.12.1)\n",
            "Requirement already satisfied: fonttools>=4.22.0 in /usr/local/lib/python3.10/dist-packages (from matplotlib) (4.51.0)\n",
            "Requirement already satisfied: kiwisolver>=1.0.1 in /usr/local/lib/python3.10/dist-packages (from matplotlib) (1.4.5)\n",
            "Requirement already satisfied: packaging>=20.0 in /usr/local/lib/python3.10/dist-packages (from matplotlib) (24.0)\n",
            "Requirement already satisfied: pillow>=6.2.0 in /usr/local/lib/python3.10/dist-packages (from matplotlib) (9.4.0)\n",
            "Requirement already satisfied: pyparsing>=2.3.1 in /usr/local/lib/python3.10/dist-packages (from matplotlib) (3.1.2)\n",
            "Requirement already satisfied: python-dateutil>=2.7 in /usr/local/lib/python3.10/dist-packages (from matplotlib) (2.8.2)\n",
            "Requirement already satisfied: pytz>=2020.1 in /usr/local/lib/python3.10/dist-packages (from pandas>=2.0.3->fairlearn) (2023.4)\n",
            "Requirement already satisfied: tzdata>=2022.1 in /usr/local/lib/python3.10/dist-packages (from pandas>=2.0.3->fairlearn) (2024.1)\n",
            "Requirement already satisfied: six>=1.5 in /usr/local/lib/python3.10/dist-packages (from python-dateutil>=2.7->matplotlib) (1.16.0)\n",
            "Collecting alembic>=1.5.0 (from optuna->hyperparameter-tuning)\n",
            "  Downloading alembic-1.13.1-py3-none-any.whl (233 kB)\n",
            "\u001b[2K     \u001b[90m━━━━━━━━━━━━━━━━━━━━━━━━━━━━━━━━━━━━━━━━\u001b[0m \u001b[32m233.4/233.4 kB\u001b[0m \u001b[31m24.2 MB/s\u001b[0m eta \u001b[36m0:00:00\u001b[0m\n",
            "\u001b[?25hCollecting colorlog (from optuna->hyperparameter-tuning)\n",
            "  Downloading colorlog-6.8.2-py3-none-any.whl (11 kB)\n",
            "Requirement already satisfied: sqlalchemy>=1.3.0 in /usr/local/lib/python3.10/dist-packages (from optuna->hyperparameter-tuning) (2.0.29)\n",
            "Requirement already satisfied: tqdm in /usr/local/lib/python3.10/dist-packages (from optuna->hyperparameter-tuning) (4.66.2)\n",
            "Requirement already satisfied: contextlib2>=0.5.5 in /usr/local/lib/python3.10/dist-packages (from schema->hyperparameter-tuning) (21.6.0)\n",
            "Collecting Mako (from alembic>=1.5.0->optuna->hyperparameter-tuning)\n",
            "  Downloading Mako-1.3.3-py3-none-any.whl (78 kB)\n",
            "\u001b[2K     \u001b[90m━━━━━━━━━━━━━━━━━━━━━━━━━━━━━━━━━━━━━━━━\u001b[0m \u001b[32m78.8/78.8 kB\u001b[0m \u001b[31m10.0 MB/s\u001b[0m eta \u001b[36m0:00:00\u001b[0m\n",
            "\u001b[?25hRequirement already satisfied: typing-extensions>=4 in /usr/local/lib/python3.10/dist-packages (from alembic>=1.5.0->optuna->hyperparameter-tuning) (4.11.0)\n",
            "Requirement already satisfied: greenlet!=0.4.17 in /usr/local/lib/python3.10/dist-packages (from sqlalchemy>=1.3.0->optuna->hyperparameter-tuning) (3.0.3)\n",
            "Requirement already satisfied: MarkupSafe>=0.9.2 in /usr/local/lib/python3.10/dist-packages (from Mako->alembic>=1.5.0->optuna->hyperparameter-tuning) (2.1.5)\n",
            "Building wheels for collected packages: wget\n",
            "  Building wheel for wget (setup.py) ... \u001b[?25l\u001b[?25hdone\n",
            "  Created wheel for wget: filename=wget-3.2-py3-none-any.whl size=9656 sha256=c4bf63f65ae48b47e2f4e8897c20da2dd38d4a39ccf3a46c3e4293ee5574a1e7\n",
            "  Stored in directory: /root/.cache/pip/wheels/8b/f1/7f/5c94f0a7a505ca1c81cd1d9208ae2064675d97582078e6c769\n",
            "Successfully built wget\n",
            "Installing collected packages: wget, schema, Mako, colorlog, alembic, optuna, fairlearn, hyperparameter-tuning\n",
            "Successfully installed Mako-1.3.3 alembic-1.13.1 colorlog-6.8.2 fairlearn-0.10.0 hyperparameter-tuning-0.3.1 optuna-3.6.1 schema-0.7.5 wget-3.2\n"
          ]
        }
      ]
    },
    {
      "cell_type": "code",
      "source": [
        "from sklearn.model_selection import train_test_split"
      ],
      "metadata": {
        "id": "_d4SPCELLH8U"
      },
      "execution_count": null,
      "outputs": []
    },
    {
      "cell_type": "markdown",
      "source": [
        "### Modify dataset for FairGBM"
      ],
      "metadata": {
        "id": "Gv8Z6WoKMHsU"
      }
    },
    {
      "cell_type": "code",
      "source": [
        "X = train.drop(columns=['category', 'preprocessed', 'reviews_content'])\n",
        "Y = train['category'].values\n",
        "S = pd.cut(train['sentiment'], 3000, labels=False).values"
      ],
      "metadata": {
        "id": "iSkFGqwMJ8pr"
      },
      "execution_count": null,
      "outputs": []
    },
    {
      "cell_type": "code",
      "source": [
        "# X_test = test2.drop(columns=['category', 'preprocessed', 'reviews_content'])\n",
        "# y_test = test2['category'].values\n",
        "# s_test = pd.cut(test2['sentiment'], 3000, labels=False).values"
      ],
      "metadata": {
        "id": "KKuh_fUCKwnj"
      },
      "execution_count": null,
      "outputs": []
    },
    {
      "cell_type": "code",
      "source": [
        "VALIDATION_SIZE = 0.2\n",
        "SEED = 42\n",
        "\n",
        "PERF_METRIC = \"accuracy\"\n",
        "DISP_METRIC = \"equalized_odds_diff\"    # measures disparity, lower is better\n",
        "FAIR_METRIC = \"equalized_odds_ratio\"   # similar but higher is better\n",
        "\n",
        "N_JOBS = max(2, os.cpu_count() - 2)\n",
        "np.random.seed(SEED)"
      ],
      "metadata": {
        "id": "H83VfS0JLEP3"
      },
      "execution_count": null,
      "outputs": []
    },
    {
      "cell_type": "code",
      "source": [
        "# from sklearn.model_selection import train_test_split\n",
        "\n",
        "# X_train, X_val, y_train, y_val, s_train, s_val = train_test_split(\n",
        "#     X, Y, S,\n",
        "#     test_size=VALIDATION_SIZE,\n",
        "#     stratify=Y, random_state=SEED,\n",
        "# )"
      ],
      "metadata": {
        "id": "oTK-unK4J752"
      },
      "execution_count": null,
      "outputs": []
    },
    {
      "cell_type": "code",
      "source": [
        "TRAIN_LENGTH = int(train_features.shape[0] * 0.8)\n",
        "X_train = train_features.toarray()[:TRAIN_LENGTH, :]\n",
        "X_val = train_features.toarray()[TRAIN_LENGTH:, :]\n",
        "X_test = test2_features.toarray()\n",
        "\n",
        "y_train = Y[:TRAIN_LENGTH]\n",
        "y_val = Y[TRAIN_LENGTH:]\n",
        "y_test = le.transform(test2['category'].values)\n",
        "\n",
        "s_train = S[:TRAIN_LENGTH]\n",
        "s_val = S[TRAIN_LENGTH:]\n",
        "s_test = pd.cut(train['sentiment'], 3000, labels=False).values"
      ],
      "metadata": {
        "id": "QP8ErUl4OTB3"
      },
      "execution_count": null,
      "outputs": []
    },
    {
      "cell_type": "markdown",
      "source": [
        "### Find optimal parameter"
      ],
      "metadata": {
        "id": "zXMP45gpMKBJ"
      }
    },
    {
      "cell_type": "code",
      "source": [
        "from hpt.tuner import ObjectiveFunction, OptunaTuner\n",
        "import optuna.logging\n",
        "optuna.logging.set_verbosity(optuna.logging.WARN)   # Turn off optuna log notes.\n",
        "\n",
        "obj_func = ObjectiveFunction(\n",
        "    X_train=X_train, y_train=y_train, s_train=s_train,\n",
        "    X_val=X_val, y_val=y_val, s_val=s_val,\n",
        "    X_test=X_test, y_test=y_test, s_test=s_test,\n",
        "    hyperparameter_space=fairgbm_hyperparam_space_path,\n",
        "    eval_metric=PERF_METRIC,\n",
        "    other_eval_metric=FAIR_METRIC,\n",
        "    threshold=0.50,\n",
        ")\n",
        "\n",
        "tuner = OptunaTuner(\n",
        "    objective_function=obj_func,\n",
        "    direction=\"maximize\",\n",
        "    seed=SEED,\n",
        ")"
      ],
      "metadata": {
        "id": "4bcDxAi0ORua"
      },
      "execution_count": null,
      "outputs": []
    },
    {
      "cell_type": "markdown",
      "source": [
        "### FairGBM Model"
      ],
      "metadata": {
        "id": "Jz5PkpNNOKxR"
      }
    },
    {
      "cell_type": "code",
      "source": [
        "from fairgbm import FairGBMClassifier"
      ],
      "metadata": {
        "id": "cpWVuPIRzoj1"
      },
      "execution_count": null,
      "outputs": []
    },
    {
      "cell_type": "code",
      "source": [
        "core_lgbm_params = {\n",
        "    \"n_estimators\": 200,\n",
        "    \"random_state\": SEED,\n",
        "    \"n_jobs\": -2,\n",
        "}\n",
        "\n",
        "fairgbm_clf = FairGBMClassifier(\n",
        "    constraint_type=\"FNR\",    # constraint on equal group-wise TPR (equal opportunity)\n",
        "    multiplier_learning_rate=0.2,\n",
        "    constraint_fnr_slack=0.05,\n",
        "    **core_lgbm_params,\n",
        ")"
      ],
      "metadata": {
        "id": "rmGILVR9Mws5"
      },
      "execution_count": null,
      "outputs": []
    },
    {
      "cell_type": "code",
      "source": [
        "fairgbm_clf.fit(train_features, Y, constraint_group=S)"
      ],
      "metadata": {
        "colab": {
          "base_uri": "https://localhost:8080/",
          "height": 109
        },
        "id": "R5V6PtgzM1CS",
        "outputId": "5ea041c4-40a9-4dcc-81e7-c88a9d72cac4"
      },
      "execution_count": null,
      "outputs": [
        {
          "output_type": "execute_result",
          "data": {
            "text/plain": [
              "FairGBMClassifier(constraint_fnr_slack=0.05, constraint_type='FNR',\n",
              "                  multiplier_learning_rate=0.2, n_estimators=200, n_jobs=-2,\n",
              "                  random_state=42)"
            ],
            "text/html": [
              "<style>#sk-container-id-10 {color: black;background-color: white;}#sk-container-id-10 pre{padding: 0;}#sk-container-id-10 div.sk-toggleable {background-color: white;}#sk-container-id-10 label.sk-toggleable__label {cursor: pointer;display: block;width: 100%;margin-bottom: 0;padding: 0.3em;box-sizing: border-box;text-align: center;}#sk-container-id-10 label.sk-toggleable__label-arrow:before {content: \"▸\";float: left;margin-right: 0.25em;color: #696969;}#sk-container-id-10 label.sk-toggleable__label-arrow:hover:before {color: black;}#sk-container-id-10 div.sk-estimator:hover label.sk-toggleable__label-arrow:before {color: black;}#sk-container-id-10 div.sk-toggleable__content {max-height: 0;max-width: 0;overflow: hidden;text-align: left;background-color: #f0f8ff;}#sk-container-id-10 div.sk-toggleable__content pre {margin: 0.2em;color: black;border-radius: 0.25em;background-color: #f0f8ff;}#sk-container-id-10 input.sk-toggleable__control:checked~div.sk-toggleable__content {max-height: 200px;max-width: 100%;overflow: auto;}#sk-container-id-10 input.sk-toggleable__control:checked~label.sk-toggleable__label-arrow:before {content: \"▾\";}#sk-container-id-10 div.sk-estimator input.sk-toggleable__control:checked~label.sk-toggleable__label {background-color: #d4ebff;}#sk-container-id-10 div.sk-label input.sk-toggleable__control:checked~label.sk-toggleable__label {background-color: #d4ebff;}#sk-container-id-10 input.sk-hidden--visually {border: 0;clip: rect(1px 1px 1px 1px);clip: rect(1px, 1px, 1px, 1px);height: 1px;margin: -1px;overflow: hidden;padding: 0;position: absolute;width: 1px;}#sk-container-id-10 div.sk-estimator {font-family: monospace;background-color: #f0f8ff;border: 1px dotted black;border-radius: 0.25em;box-sizing: border-box;margin-bottom: 0.5em;}#sk-container-id-10 div.sk-estimator:hover {background-color: #d4ebff;}#sk-container-id-10 div.sk-parallel-item::after {content: \"\";width: 100%;border-bottom: 1px solid gray;flex-grow: 1;}#sk-container-id-10 div.sk-label:hover label.sk-toggleable__label {background-color: #d4ebff;}#sk-container-id-10 div.sk-serial::before {content: \"\";position: absolute;border-left: 1px solid gray;box-sizing: border-box;top: 0;bottom: 0;left: 50%;z-index: 0;}#sk-container-id-10 div.sk-serial {display: flex;flex-direction: column;align-items: center;background-color: white;padding-right: 0.2em;padding-left: 0.2em;position: relative;}#sk-container-id-10 div.sk-item {position: relative;z-index: 1;}#sk-container-id-10 div.sk-parallel {display: flex;align-items: stretch;justify-content: center;background-color: white;position: relative;}#sk-container-id-10 div.sk-item::before, #sk-container-id-10 div.sk-parallel-item::before {content: \"\";position: absolute;border-left: 1px solid gray;box-sizing: border-box;top: 0;bottom: 0;left: 50%;z-index: -1;}#sk-container-id-10 div.sk-parallel-item {display: flex;flex-direction: column;z-index: 1;position: relative;background-color: white;}#sk-container-id-10 div.sk-parallel-item:first-child::after {align-self: flex-end;width: 50%;}#sk-container-id-10 div.sk-parallel-item:last-child::after {align-self: flex-start;width: 50%;}#sk-container-id-10 div.sk-parallel-item:only-child::after {width: 0;}#sk-container-id-10 div.sk-dashed-wrapped {border: 1px dashed gray;margin: 0 0.4em 0.5em 0.4em;box-sizing: border-box;padding-bottom: 0.4em;background-color: white;}#sk-container-id-10 div.sk-label label {font-family: monospace;font-weight: bold;display: inline-block;line-height: 1.2em;}#sk-container-id-10 div.sk-label-container {text-align: center;}#sk-container-id-10 div.sk-container {/* jupyter's `normalize.less` sets `[hidden] { display: none; }` but bootstrap.min.css set `[hidden] { display: none !important; }` so we also need the `!important` here to be able to override the default hidden behavior on the sphinx rendered scikit-learn.org. See: https://github.com/scikit-learn/scikit-learn/issues/21755 */display: inline-block !important;position: relative;}#sk-container-id-10 div.sk-text-repr-fallback {display: none;}</style><div id=\"sk-container-id-10\" class=\"sk-top-container\"><div class=\"sk-text-repr-fallback\"><pre>FairGBMClassifier(constraint_fnr_slack=0.05, constraint_type=&#x27;FNR&#x27;,\n",
              "                  multiplier_learning_rate=0.2, n_estimators=200, n_jobs=-2,\n",
              "                  random_state=42)</pre><b>In a Jupyter environment, please rerun this cell to show the HTML representation or trust the notebook. <br />On GitHub, the HTML representation is unable to render, please try loading this page with nbviewer.org.</b></div><div class=\"sk-container\" hidden><div class=\"sk-item\"><div class=\"sk-estimator sk-toggleable\"><input class=\"sk-toggleable__control sk-hidden--visually\" id=\"sk-estimator-id-10\" type=\"checkbox\" checked><label for=\"sk-estimator-id-10\" class=\"sk-toggleable__label sk-toggleable__label-arrow\">FairGBMClassifier</label><div class=\"sk-toggleable__content\"><pre>FairGBMClassifier(constraint_fnr_slack=0.05, constraint_type=&#x27;FNR&#x27;,\n",
              "                  multiplier_learning_rate=0.2, n_estimators=200, n_jobs=-2,\n",
              "                  random_state=42)</pre></div></div></div></div></div>"
            ]
          },
          "metadata": {},
          "execution_count": 131
        }
      ]
    },
    {
      "cell_type": "code",
      "source": [
        "fairgbm_pred = le.inverse_transform(fairgbm_clf.predict(test2_features))"
      ],
      "metadata": {
        "colab": {
          "base_uri": "https://localhost:8080/"
        },
        "id": "VHRZkuumHtzR",
        "outputId": "f678e30a-0866-48b0-d196-92a698b89e96"
      },
      "execution_count": null,
      "outputs": [
        {
          "output_type": "stream",
          "name": "stderr",
          "text": [
            "/usr/local/lib/python3.10/dist-packages/fairgbm/basic.py:741: UserWarning: Converting data to scipy sparse matrix.\n",
            "  _log_warning('Converting data to scipy sparse matrix.')\n"
          ]
        }
      ]
    },
    {
      "cell_type": "code",
      "source": [
        "report = classification_report(test2['category'], fairgbm_pred, output_dict=True)\n",
        "\n",
        "print('positive: ', report['positive'])\n",
        "print('negative: ', report['negative'])"
      ],
      "metadata": {
        "colab": {
          "base_uri": "https://localhost:8080/"
        },
        "id": "Vn5c-c5XzmjE",
        "outputId": "7b50a7c2-ab2b-4267-9514-b2055159609b"
      },
      "execution_count": null,
      "outputs": [
        {
          "output_type": "stream",
          "name": "stdout",
          "text": [
            "positive:  {'precision': 0.8928571428571429, 'recall': 0.10548523206751055, 'f1-score': 0.18867924528301885, 'support': 237}\n",
            "negative:  {'precision': 0.5508474576271186, 'recall': 0.9885931558935361, 'f1-score': 0.7074829931972789, 'support': 263}\n"
          ]
        }
      ]
    },
    {
      "cell_type": "code",
      "source": [
        "fairgbm_final_pred = le.inverse_transform(fairgbm_clf.predict(test_features))"
      ],
      "metadata": {
        "colab": {
          "base_uri": "https://localhost:8080/"
        },
        "id": "EGwZeTD4FERJ",
        "outputId": "184fc581-2902-40f7-da91-2d2eeeec989c"
      },
      "execution_count": null,
      "outputs": [
        {
          "output_type": "stream",
          "name": "stderr",
          "text": [
            "/usr/local/lib/python3.10/dist-packages/fairgbm/basic.py:741: UserWarning: Converting data to scipy sparse matrix.\n",
            "  _log_warning('Converting data to scipy sparse matrix.')\n"
          ]
        }
      ]
    },
    {
      "cell_type": "markdown",
      "source": [
        "# Voting"
      ],
      "metadata": {
        "id": "TtB8pSBIS_RX"
      }
    },
    {
      "cell_type": "code",
      "source": [
        "def classify(pred):\n",
        "  votes=[]\n",
        "  confidences=[]\n",
        "  for i in range(pred.shape[1]):\n",
        "    curr = le.transform(pred[:, i])\n",
        "    # pos = curr.sum()\n",
        "    # neg = pred.shape[0] - pos\n",
        "    choice_votes = mode(curr)\n",
        "    confidence = choice_votes/len(curr)\n",
        "    votes.append(choice_votes)\n",
        "    confidences.append(confidence)\n",
        "\n",
        "  return np.array(votes), np.array(confidences)"
      ],
      "metadata": {
        "id": "iItZPOjBTEWp"
      },
      "execution_count": null,
      "outputs": []
    },
    {
      "cell_type": "code",
      "source": [
        "final_pred, final_confidences = classify(all_pred)"
      ],
      "metadata": {
        "id": "mKtpaWEhc0kt"
      },
      "execution_count": null,
      "outputs": []
    },
    {
      "cell_type": "code",
      "source": [
        "final_pred = le.inverse_transform(final_pred)"
      ],
      "metadata": {
        "id": "h0k3OMGYd0ex"
      },
      "execution_count": null,
      "outputs": []
    },
    {
      "cell_type": "code",
      "source": [
        "output_files = pd.DataFrame({'Row': range(1, 501), 'Label': final_pred})\n",
        "output_files"
      ],
      "metadata": {
        "colab": {
          "base_uri": "https://localhost:8080/",
          "height": 423
        },
        "id": "-D8nyuwGd1P5",
        "outputId": "dbb11735-f868-44e3-b1c4-e361a2772ef8"
      },
      "execution_count": null,
      "outputs": [
        {
          "output_type": "execute_result",
          "data": {
            "text/plain": [
              "     Row     Label\n",
              "0      1  positive\n",
              "1      2  positive\n",
              "2      3  negative\n",
              "3      4  negative\n",
              "4      5  positive\n",
              "..   ...       ...\n",
              "495  496  positive\n",
              "496  497  positive\n",
              "497  498  positive\n",
              "498  499  positive\n",
              "499  500  positive\n",
              "\n",
              "[500 rows x 2 columns]"
            ],
            "text/html": [
              "\n",
              "  <div id=\"df-d026afcf-8249-4ca9-9a90-d233f85cbd6b\" class=\"colab-df-container\">\n",
              "    <div>\n",
              "<style scoped>\n",
              "    .dataframe tbody tr th:only-of-type {\n",
              "        vertical-align: middle;\n",
              "    }\n",
              "\n",
              "    .dataframe tbody tr th {\n",
              "        vertical-align: top;\n",
              "    }\n",
              "\n",
              "    .dataframe thead th {\n",
              "        text-align: right;\n",
              "    }\n",
              "</style>\n",
              "<table border=\"1\" class=\"dataframe\">\n",
              "  <thead>\n",
              "    <tr style=\"text-align: right;\">\n",
              "      <th></th>\n",
              "      <th>Row</th>\n",
              "      <th>Label</th>\n",
              "    </tr>\n",
              "  </thead>\n",
              "  <tbody>\n",
              "    <tr>\n",
              "      <th>0</th>\n",
              "      <td>1</td>\n",
              "      <td>positive</td>\n",
              "    </tr>\n",
              "    <tr>\n",
              "      <th>1</th>\n",
              "      <td>2</td>\n",
              "      <td>positive</td>\n",
              "    </tr>\n",
              "    <tr>\n",
              "      <th>2</th>\n",
              "      <td>3</td>\n",
              "      <td>negative</td>\n",
              "    </tr>\n",
              "    <tr>\n",
              "      <th>3</th>\n",
              "      <td>4</td>\n",
              "      <td>negative</td>\n",
              "    </tr>\n",
              "    <tr>\n",
              "      <th>4</th>\n",
              "      <td>5</td>\n",
              "      <td>positive</td>\n",
              "    </tr>\n",
              "    <tr>\n",
              "      <th>...</th>\n",
              "      <td>...</td>\n",
              "      <td>...</td>\n",
              "    </tr>\n",
              "    <tr>\n",
              "      <th>495</th>\n",
              "      <td>496</td>\n",
              "      <td>positive</td>\n",
              "    </tr>\n",
              "    <tr>\n",
              "      <th>496</th>\n",
              "      <td>497</td>\n",
              "      <td>positive</td>\n",
              "    </tr>\n",
              "    <tr>\n",
              "      <th>497</th>\n",
              "      <td>498</td>\n",
              "      <td>positive</td>\n",
              "    </tr>\n",
              "    <tr>\n",
              "      <th>498</th>\n",
              "      <td>499</td>\n",
              "      <td>positive</td>\n",
              "    </tr>\n",
              "    <tr>\n",
              "      <th>499</th>\n",
              "      <td>500</td>\n",
              "      <td>positive</td>\n",
              "    </tr>\n",
              "  </tbody>\n",
              "</table>\n",
              "<p>500 rows × 2 columns</p>\n",
              "</div>\n",
              "    <div class=\"colab-df-buttons\">\n",
              "\n",
              "  <div class=\"colab-df-container\">\n",
              "    <button class=\"colab-df-convert\" onclick=\"convertToInteractive('df-d026afcf-8249-4ca9-9a90-d233f85cbd6b')\"\n",
              "            title=\"Convert this dataframe to an interactive table.\"\n",
              "            style=\"display:none;\">\n",
              "\n",
              "  <svg xmlns=\"http://www.w3.org/2000/svg\" height=\"24px\" viewBox=\"0 -960 960 960\">\n",
              "    <path d=\"M120-120v-720h720v720H120Zm60-500h600v-160H180v160Zm220 220h160v-160H400v160Zm0 220h160v-160H400v160ZM180-400h160v-160H180v160Zm440 0h160v-160H620v160ZM180-180h160v-160H180v160Zm440 0h160v-160H620v160Z\"/>\n",
              "  </svg>\n",
              "    </button>\n",
              "\n",
              "  <style>\n",
              "    .colab-df-container {\n",
              "      display:flex;\n",
              "      gap: 12px;\n",
              "    }\n",
              "\n",
              "    .colab-df-convert {\n",
              "      background-color: #E8F0FE;\n",
              "      border: none;\n",
              "      border-radius: 50%;\n",
              "      cursor: pointer;\n",
              "      display: none;\n",
              "      fill: #1967D2;\n",
              "      height: 32px;\n",
              "      padding: 0 0 0 0;\n",
              "      width: 32px;\n",
              "    }\n",
              "\n",
              "    .colab-df-convert:hover {\n",
              "      background-color: #E2EBFA;\n",
              "      box-shadow: 0px 1px 2px rgba(60, 64, 67, 0.3), 0px 1px 3px 1px rgba(60, 64, 67, 0.15);\n",
              "      fill: #174EA6;\n",
              "    }\n",
              "\n",
              "    .colab-df-buttons div {\n",
              "      margin-bottom: 4px;\n",
              "    }\n",
              "\n",
              "    [theme=dark] .colab-df-convert {\n",
              "      background-color: #3B4455;\n",
              "      fill: #D2E3FC;\n",
              "    }\n",
              "\n",
              "    [theme=dark] .colab-df-convert:hover {\n",
              "      background-color: #434B5C;\n",
              "      box-shadow: 0px 1px 3px 1px rgba(0, 0, 0, 0.15);\n",
              "      filter: drop-shadow(0px 1px 2px rgba(0, 0, 0, 0.3));\n",
              "      fill: #FFFFFF;\n",
              "    }\n",
              "  </style>\n",
              "\n",
              "    <script>\n",
              "      const buttonEl =\n",
              "        document.querySelector('#df-d026afcf-8249-4ca9-9a90-d233f85cbd6b button.colab-df-convert');\n",
              "      buttonEl.style.display =\n",
              "        google.colab.kernel.accessAllowed ? 'block' : 'none';\n",
              "\n",
              "      async function convertToInteractive(key) {\n",
              "        const element = document.querySelector('#df-d026afcf-8249-4ca9-9a90-d233f85cbd6b');\n",
              "        const dataTable =\n",
              "          await google.colab.kernel.invokeFunction('convertToInteractive',\n",
              "                                                    [key], {});\n",
              "        if (!dataTable) return;\n",
              "\n",
              "        const docLinkHtml = 'Like what you see? Visit the ' +\n",
              "          '<a target=\"_blank\" href=https://colab.research.google.com/notebooks/data_table.ipynb>data table notebook</a>'\n",
              "          + ' to learn more about interactive tables.';\n",
              "        element.innerHTML = '';\n",
              "        dataTable['output_type'] = 'display_data';\n",
              "        await google.colab.output.renderOutput(dataTable, element);\n",
              "        const docLink = document.createElement('div');\n",
              "        docLink.innerHTML = docLinkHtml;\n",
              "        element.appendChild(docLink);\n",
              "      }\n",
              "    </script>\n",
              "  </div>\n",
              "\n",
              "\n",
              "<div id=\"df-9690b3cc-0dd6-4e13-b4f7-0e8a1f6e95b5\">\n",
              "  <button class=\"colab-df-quickchart\" onclick=\"quickchart('df-9690b3cc-0dd6-4e13-b4f7-0e8a1f6e95b5')\"\n",
              "            title=\"Suggest charts\"\n",
              "            style=\"display:none;\">\n",
              "\n",
              "<svg xmlns=\"http://www.w3.org/2000/svg\" height=\"24px\"viewBox=\"0 0 24 24\"\n",
              "     width=\"24px\">\n",
              "    <g>\n",
              "        <path d=\"M19 3H5c-1.1 0-2 .9-2 2v14c0 1.1.9 2 2 2h14c1.1 0 2-.9 2-2V5c0-1.1-.9-2-2-2zM9 17H7v-7h2v7zm4 0h-2V7h2v10zm4 0h-2v-4h2v4z\"/>\n",
              "    </g>\n",
              "</svg>\n",
              "  </button>\n",
              "\n",
              "<style>\n",
              "  .colab-df-quickchart {\n",
              "      --bg-color: #E8F0FE;\n",
              "      --fill-color: #1967D2;\n",
              "      --hover-bg-color: #E2EBFA;\n",
              "      --hover-fill-color: #174EA6;\n",
              "      --disabled-fill-color: #AAA;\n",
              "      --disabled-bg-color: #DDD;\n",
              "  }\n",
              "\n",
              "  [theme=dark] .colab-df-quickchart {\n",
              "      --bg-color: #3B4455;\n",
              "      --fill-color: #D2E3FC;\n",
              "      --hover-bg-color: #434B5C;\n",
              "      --hover-fill-color: #FFFFFF;\n",
              "      --disabled-bg-color: #3B4455;\n",
              "      --disabled-fill-color: #666;\n",
              "  }\n",
              "\n",
              "  .colab-df-quickchart {\n",
              "    background-color: var(--bg-color);\n",
              "    border: none;\n",
              "    border-radius: 50%;\n",
              "    cursor: pointer;\n",
              "    display: none;\n",
              "    fill: var(--fill-color);\n",
              "    height: 32px;\n",
              "    padding: 0;\n",
              "    width: 32px;\n",
              "  }\n",
              "\n",
              "  .colab-df-quickchart:hover {\n",
              "    background-color: var(--hover-bg-color);\n",
              "    box-shadow: 0 1px 2px rgba(60, 64, 67, 0.3), 0 1px 3px 1px rgba(60, 64, 67, 0.15);\n",
              "    fill: var(--button-hover-fill-color);\n",
              "  }\n",
              "\n",
              "  .colab-df-quickchart-complete:disabled,\n",
              "  .colab-df-quickchart-complete:disabled:hover {\n",
              "    background-color: var(--disabled-bg-color);\n",
              "    fill: var(--disabled-fill-color);\n",
              "    box-shadow: none;\n",
              "  }\n",
              "\n",
              "  .colab-df-spinner {\n",
              "    border: 2px solid var(--fill-color);\n",
              "    border-color: transparent;\n",
              "    border-bottom-color: var(--fill-color);\n",
              "    animation:\n",
              "      spin 1s steps(1) infinite;\n",
              "  }\n",
              "\n",
              "  @keyframes spin {\n",
              "    0% {\n",
              "      border-color: transparent;\n",
              "      border-bottom-color: var(--fill-color);\n",
              "      border-left-color: var(--fill-color);\n",
              "    }\n",
              "    20% {\n",
              "      border-color: transparent;\n",
              "      border-left-color: var(--fill-color);\n",
              "      border-top-color: var(--fill-color);\n",
              "    }\n",
              "    30% {\n",
              "      border-color: transparent;\n",
              "      border-left-color: var(--fill-color);\n",
              "      border-top-color: var(--fill-color);\n",
              "      border-right-color: var(--fill-color);\n",
              "    }\n",
              "    40% {\n",
              "      border-color: transparent;\n",
              "      border-right-color: var(--fill-color);\n",
              "      border-top-color: var(--fill-color);\n",
              "    }\n",
              "    60% {\n",
              "      border-color: transparent;\n",
              "      border-right-color: var(--fill-color);\n",
              "    }\n",
              "    80% {\n",
              "      border-color: transparent;\n",
              "      border-right-color: var(--fill-color);\n",
              "      border-bottom-color: var(--fill-color);\n",
              "    }\n",
              "    90% {\n",
              "      border-color: transparent;\n",
              "      border-bottom-color: var(--fill-color);\n",
              "    }\n",
              "  }\n",
              "</style>\n",
              "\n",
              "  <script>\n",
              "    async function quickchart(key) {\n",
              "      const quickchartButtonEl =\n",
              "        document.querySelector('#' + key + ' button');\n",
              "      quickchartButtonEl.disabled = true;  // To prevent multiple clicks.\n",
              "      quickchartButtonEl.classList.add('colab-df-spinner');\n",
              "      try {\n",
              "        const charts = await google.colab.kernel.invokeFunction(\n",
              "            'suggestCharts', [key], {});\n",
              "      } catch (error) {\n",
              "        console.error('Error during call to suggestCharts:', error);\n",
              "      }\n",
              "      quickchartButtonEl.classList.remove('colab-df-spinner');\n",
              "      quickchartButtonEl.classList.add('colab-df-quickchart-complete');\n",
              "    }\n",
              "    (() => {\n",
              "      let quickchartButtonEl =\n",
              "        document.querySelector('#df-9690b3cc-0dd6-4e13-b4f7-0e8a1f6e95b5 button');\n",
              "      quickchartButtonEl.style.display =\n",
              "        google.colab.kernel.accessAllowed ? 'block' : 'none';\n",
              "    })();\n",
              "  </script>\n",
              "</div>\n",
              "\n",
              "  <div id=\"id_50e5fd06-74e4-42b0-93e0-fb36371797d1\">\n",
              "    <style>\n",
              "      .colab-df-generate {\n",
              "        background-color: #E8F0FE;\n",
              "        border: none;\n",
              "        border-radius: 50%;\n",
              "        cursor: pointer;\n",
              "        display: none;\n",
              "        fill: #1967D2;\n",
              "        height: 32px;\n",
              "        padding: 0 0 0 0;\n",
              "        width: 32px;\n",
              "      }\n",
              "\n",
              "      .colab-df-generate:hover {\n",
              "        background-color: #E2EBFA;\n",
              "        box-shadow: 0px 1px 2px rgba(60, 64, 67, 0.3), 0px 1px 3px 1px rgba(60, 64, 67, 0.15);\n",
              "        fill: #174EA6;\n",
              "      }\n",
              "\n",
              "      [theme=dark] .colab-df-generate {\n",
              "        background-color: #3B4455;\n",
              "        fill: #D2E3FC;\n",
              "      }\n",
              "\n",
              "      [theme=dark] .colab-df-generate:hover {\n",
              "        background-color: #434B5C;\n",
              "        box-shadow: 0px 1px 3px 1px rgba(0, 0, 0, 0.15);\n",
              "        filter: drop-shadow(0px 1px 2px rgba(0, 0, 0, 0.3));\n",
              "        fill: #FFFFFF;\n",
              "      }\n",
              "    </style>\n",
              "    <button class=\"colab-df-generate\" onclick=\"generateWithVariable('output_files')\"\n",
              "            title=\"Generate code using this dataframe.\"\n",
              "            style=\"display:none;\">\n",
              "\n",
              "  <svg xmlns=\"http://www.w3.org/2000/svg\" height=\"24px\"viewBox=\"0 0 24 24\"\n",
              "       width=\"24px\">\n",
              "    <path d=\"M7,19H8.4L18.45,9,17,7.55,7,17.6ZM5,21V16.75L18.45,3.32a2,2,0,0,1,2.83,0l1.4,1.43a1.91,1.91,0,0,1,.58,1.4,1.91,1.91,0,0,1-.58,1.4L9.25,21ZM18.45,9,17,7.55Zm-12,3A5.31,5.31,0,0,0,4.9,8.1,5.31,5.31,0,0,0,1,6.5,5.31,5.31,0,0,0,4.9,4.9,5.31,5.31,0,0,0,6.5,1,5.31,5.31,0,0,0,8.1,4.9,5.31,5.31,0,0,0,12,6.5,5.46,5.46,0,0,0,6.5,12Z\"/>\n",
              "  </svg>\n",
              "    </button>\n",
              "    <script>\n",
              "      (() => {\n",
              "      const buttonEl =\n",
              "        document.querySelector('#id_50e5fd06-74e4-42b0-93e0-fb36371797d1 button.colab-df-generate');\n",
              "      buttonEl.style.display =\n",
              "        google.colab.kernel.accessAllowed ? 'block' : 'none';\n",
              "\n",
              "      buttonEl.onclick = () => {\n",
              "        google.colab.notebook.generateWithVariable('output_files');\n",
              "      }\n",
              "      })();\n",
              "    </script>\n",
              "  </div>\n",
              "\n",
              "    </div>\n",
              "  </div>\n"
            ],
            "application/vnd.google.colaboratory.intrinsic+json": {
              "type": "dataframe",
              "variable_name": "output_files",
              "summary": "{\n  \"name\": \"output_files\",\n  \"rows\": 500,\n  \"fields\": [\n    {\n      \"column\": \"Row\",\n      \"properties\": {\n        \"dtype\": \"number\",\n        \"std\": 144,\n        \"min\": 1,\n        \"max\": 500,\n        \"num_unique_values\": 500,\n        \"samples\": [\n          362,\n          74,\n          375\n        ],\n        \"semantic_type\": \"\",\n        \"description\": \"\"\n      }\n    },\n    {\n      \"column\": \"Label\",\n      \"properties\": {\n        \"dtype\": \"category\",\n        \"num_unique_values\": 2,\n        \"samples\": [\n          \"negative\",\n          \"positive\"\n        ],\n        \"semantic_type\": \"\",\n        \"description\": \"\"\n      }\n    }\n  ]\n}"
            }
          },
          "metadata": {},
          "execution_count": 176
        }
      ]
    },
    {
      "cell_type": "code",
      "source": [
        "output_files.to_csv('output_ensemble.csv', index=False)"
      ],
      "metadata": {
        "id": "MUwCWp1qeDdk"
      },
      "execution_count": null,
      "outputs": []
    },
    {
      "cell_type": "code",
      "source": [],
      "metadata": {
        "id": "dOmKsapJeHK0"
      },
      "execution_count": null,
      "outputs": []
    }
  ]
}